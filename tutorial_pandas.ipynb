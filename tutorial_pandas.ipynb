{
  "nbformat": 4,
  "nbformat_minor": 0,
  "metadata": {
    "colab": {
      "name": "tutorial-pandas.ipynb",
      "provenance": [],
      "include_colab_link": true
    },
    "kernelspec": {
      "name": "python3",
      "display_name": "Python 3"
    }
  },
  "cells": [
    {
      "cell_type": "markdown",
      "metadata": {
        "id": "view-in-github",
        "colab_type": "text"
      },
      "source": [
        "<a href=\"https://colab.research.google.com/github/alfredojavier55/Exploratory_Analisys/blob/master/tutorial_pandas.ipynb\" target=\"_parent\"><img src=\"https://colab.research.google.com/assets/colab-badge.svg\" alt=\"Open In Colab\"/></a>"
      ]
    },
    {
      "cell_type": "code",
      "metadata": {
        "id": "joMQknrSMLNp",
        "colab_type": "code",
        "colab": {
          "base_uri": "https://localhost:8080/",
          "height": 34
        },
        "outputId": "ee70251a-b7e6-478e-f604-1337e647284d"
      },
      "source": [
        "x=10\n",
        "y=20\n",
        "print(\"A soma vale:\", x+y)"
      ],
      "execution_count": 3,
      "outputs": [
        {
          "output_type": "stream",
          "text": [
            "A soma vale: 30\n"
          ],
          "name": "stdout"
        }
      ]
    },
    {
      "cell_type": "markdown",
      "metadata": {
        "id": "6Fe6-iAooyym",
        "colab_type": "text"
      },
      "source": [
        "# PANDAS"
      ]
    },
    {
      "cell_type": "markdown",
      "metadata": {
        "id": "YuD-5trIMjff",
        "colab_type": "text"
      },
      "source": [
        "# Oi sou Alfredo"
      ]
    },
    {
      "cell_type": "markdown",
      "metadata": {
        "id": "_I6keT8Lo2pG",
        "colab_type": "text"
      },
      "source": [
        "### É a biblioteca mais popular para lidar com dados em Ciência de Dados.\n",
        "### Possui duas coleções: a) `Series` e b) `DataFrame`."
      ]
    },
    {
      "cell_type": "markdown",
      "metadata": {
        "id": "Lue8YQUPCwRc",
        "colab_type": "text"
      },
      "source": [
        "# Importando a biblioteca PANDAS"
      ]
    },
    {
      "cell_type": "code",
      "metadata": {
        "id": "1Ly8gDyQ_kZZ",
        "colab_type": "code",
        "colab": {}
      },
      "source": [
        "import pandas as pd"
      ],
      "execution_count": null,
      "outputs": []
    },
    {
      "cell_type": "markdown",
      "metadata": {
        "id": "_OMWaQm0GrBA",
        "colab_type": "text"
      },
      "source": [
        "# `Series`"
      ]
    },
    {
      "cell_type": "markdown",
      "metadata": {
        "id": "NoVgGnHC0-xT",
        "colab_type": "text"
      },
      "source": [
        "### Características:\n",
        "\n",
        "*   É uma **lista**.\n",
        "*   Diferentemente de vetores (*arrays*) e/ou listas convencionais, `Series` suporta customização dos índices."
      ]
    },
    {
      "cell_type": "markdown",
      "metadata": {
        "id": "riQZfLMMG36g",
        "colab_type": "text"
      },
      "source": [
        "### Criação de `Series` com índices padrão (*default*)\n",
        "\n",
        "A criação é realizada através do comando `pd.Series()`.\n",
        "\n",
        "Exemplo:"
      ]
    },
    {
      "cell_type": "code",
      "metadata": {
        "id": "3Q1JS1mXG_hg",
        "colab_type": "code",
        "colab": {}
      },
      "source": [
        "s = pd.Series ([10, 20, 30, 40, 50])"
      ],
      "execution_count": null,
      "outputs": []
    },
    {
      "cell_type": "markdown",
      "metadata": {
        "id": "WMWQIZKh2GNA",
        "colab_type": "text"
      },
      "source": [
        "### Exibição de uma `Series`"
      ]
    },
    {
      "cell_type": "code",
      "metadata": {
        "id": "93HHxQHI2Ni-",
        "colab_type": "code",
        "colab": {}
      },
      "source": [
        "print (s)"
      ],
      "execution_count": null,
      "outputs": []
    },
    {
      "cell_type": "markdown",
      "metadata": {
        "id": "femefU2P2Y7Y",
        "colab_type": "text"
      },
      "source": [
        "Partes:\n",
        "\n",
        "*   Coluna à esquerda -> índice\n",
        "*   Coluna à direita -> valores\n",
        "*   Última linha -> tipo de dados (`dtype`)\n",
        "\n",
        "\n"
      ]
    },
    {
      "cell_type": "markdown",
      "metadata": {
        "id": "-mP28qtg3FdV",
        "colab_type": "text"
      },
      "source": [
        "### Acessar a um elemento"
      ]
    },
    {
      "cell_type": "code",
      "metadata": {
        "id": "QtuN22303Hzc",
        "colab_type": "code",
        "colab": {}
      },
      "source": [
        "print (s[2])"
      ],
      "execution_count": null,
      "outputs": []
    },
    {
      "cell_type": "markdown",
      "metadata": {
        "id": "qSKjQbOU25XD",
        "colab_type": "text"
      },
      "source": [
        "### Criação de uma `Series` com valores iguais"
      ]
    },
    {
      "cell_type": "code",
      "metadata": {
        "id": "-v1o21aM29OG",
        "colab_type": "code",
        "colab": {}
      },
      "source": [
        "pd.Series (9.7, range(4))"
      ],
      "execution_count": null,
      "outputs": []
    },
    {
      "cell_type": "markdown",
      "metadata": {
        "id": "Yaj5vTop3eUy",
        "colab_type": "text"
      },
      "source": [
        "### Estatísticas para uma `Series`\n",
        "\n",
        "Funções:\n",
        "\n",
        "*   `count`\n",
        "*   `mean`\n",
        "*   `min`\n",
        "*   `max`\n",
        "*   `std`\n",
        "\n",
        "Exemplos:\n",
        "\n"
      ]
    },
    {
      "cell_type": "code",
      "metadata": {
        "id": "ba8obC77h2pt",
        "colab_type": "code",
        "colab": {}
      },
      "source": [
        "print (s)"
      ],
      "execution_count": null,
      "outputs": []
    },
    {
      "cell_type": "code",
      "metadata": {
        "id": "wGzmZptF3y0-",
        "colab_type": "code",
        "colab": {}
      },
      "source": [
        "s.count()"
      ],
      "execution_count": null,
      "outputs": []
    },
    {
      "cell_type": "code",
      "metadata": {
        "id": "TjqubpN833LH",
        "colab_type": "code",
        "colab": {}
      },
      "source": [
        "s.mean()"
      ],
      "execution_count": null,
      "outputs": []
    },
    {
      "cell_type": "code",
      "metadata": {
        "id": "iW2u_XTP36p8",
        "colab_type": "code",
        "colab": {}
      },
      "source": [
        "s.min()"
      ],
      "execution_count": null,
      "outputs": []
    },
    {
      "cell_type": "code",
      "metadata": {
        "id": "8Tyj_jON39Id",
        "colab_type": "code",
        "colab": {}
      },
      "source": [
        "s.max()"
      ],
      "execution_count": null,
      "outputs": []
    },
    {
      "cell_type": "code",
      "metadata": {
        "id": "dEXsANpI3_Mo",
        "colab_type": "code",
        "colab": {}
      },
      "source": [
        "s.std()"
      ],
      "execution_count": null,
      "outputs": []
    },
    {
      "cell_type": "markdown",
      "metadata": {
        "id": "8IuguYWy4FoV",
        "colab_type": "text"
      },
      "source": [
        "As funções de estatística podem ser resumidas com `describe()`"
      ]
    },
    {
      "cell_type": "code",
      "metadata": {
        "id": "ANoJsm0J4Lqe",
        "colab_type": "code",
        "colab": {}
      },
      "source": [
        "s.describe()"
      ],
      "execution_count": null,
      "outputs": []
    },
    {
      "cell_type": "markdown",
      "metadata": {
        "id": "oOqArmW9HIO-",
        "colab_type": "text"
      },
      "source": [
        "### Criação de índices customizados"
      ]
    },
    {
      "cell_type": "markdown",
      "metadata": {
        "id": "Se28dCUh5IwN",
        "colab_type": "text"
      },
      "source": [
        "*   `Series` não tem o nome de uma coluna.\n",
        "*   Porém, é possível nomear os índices (*index*)."
      ]
    },
    {
      "cell_type": "markdown",
      "metadata": {
        "id": "om1cC1uI5V1E",
        "colab_type": "text"
      },
      "source": [
        "Exemplo:"
      ]
    },
    {
      "cell_type": "code",
      "metadata": {
        "id": "fgDeHD1rHT--",
        "colab_type": "code",
        "colab": {}
      },
      "source": [
        "s_custom = pd.Series ([10, 20, 30], index=['1a dezena', '2a dezena', '3a dezena'])"
      ],
      "execution_count": null,
      "outputs": []
    },
    {
      "cell_type": "code",
      "metadata": {
        "id": "yCinkEV-5dhn",
        "colab_type": "code",
        "colab": {}
      },
      "source": [
        "print (s_custom)"
      ],
      "execution_count": null,
      "outputs": []
    },
    {
      "cell_type": "markdown",
      "metadata": {
        "id": "xfve-uDB50vO",
        "colab_type": "text"
      },
      "source": [
        "É possível acessar os elementos individualmente de várias formas:"
      ]
    },
    {
      "cell_type": "code",
      "metadata": {
        "id": "ecMuzrPo5ru-",
        "colab_type": "code",
        "colab": {}
      },
      "source": [
        "print (s_custom[2])"
      ],
      "execution_count": null,
      "outputs": []
    },
    {
      "cell_type": "code",
      "metadata": {
        "id": "kFX5g0vT59gV",
        "colab_type": "code",
        "colab": {}
      },
      "source": [
        "print (s_custom['3a dezena'])"
      ],
      "execution_count": null,
      "outputs": []
    },
    {
      "cell_type": "markdown",
      "metadata": {
        "id": "IoUtSKexHrcN",
        "colab_type": "text"
      },
      "source": [
        "### Como seria possível criar uma `Series` com duas colunas?\n",
        "\n"
      ]
    },
    {
      "cell_type": "code",
      "metadata": {
        "id": "xKyJPFUhHy2D",
        "colab_type": "code",
        "colab": {}
      },
      "source": [
        "pd.Series ([10, 20, 30, 40], [15, 25, 35, 45])"
      ],
      "execution_count": null,
      "outputs": []
    },
    {
      "cell_type": "markdown",
      "metadata": {
        "id": "34qIjj3AC1Qi",
        "colab_type": "text"
      },
      "source": [
        "# `DataFrame`"
      ]
    },
    {
      "cell_type": "markdown",
      "metadata": {
        "id": "nTue1P9XDD1o",
        "colab_type": "text"
      },
      "source": [
        "### Características:\n",
        "\n",
        "\n",
        "*   Estrutura bidimensional.\n",
        "*   É uma **tabela**.\n",
        "*   Cada coluna de um `DataFrame` é uma `Series`.\n",
        "*   Cada coluna pode ser de um tipo diferente.\n",
        "\n"
      ]
    },
    {
      "cell_type": "markdown",
      "metadata": {
        "id": "d-YQYNrFDM4D",
        "colab_type": "text"
      },
      "source": [
        "### Criação um `DataFrame` a partir de um dicionário."
      ]
    },
    {
      "cell_type": "markdown",
      "metadata": {
        "id": "nSwN1B9H7cMq",
        "colab_type": "text"
      },
      "source": [
        "Exemplo 1:"
      ]
    },
    {
      "cell_type": "code",
      "metadata": {
        "id": "UsHhziHn7umN",
        "colab_type": "code",
        "colab": {}
      },
      "source": [
        "dic1 = {'ESTADO': ['Amazonas', 'Amapá', 'Acre'], 'SIGLA': ['AM', 'AP', 'AC'], 'CAPITAL': ['Manaus', 'Macapá', 'Rio Branco']} "
      ],
      "execution_count": null,
      "outputs": []
    },
    {
      "cell_type": "code",
      "metadata": {
        "id": "0QZSJ5fVC-FV",
        "colab_type": "code",
        "colab": {}
      },
      "source": [
        "pd.DataFrame(dic1)"
      ],
      "execution_count": null,
      "outputs": []
    },
    {
      "cell_type": "markdown",
      "metadata": {
        "id": "JfANyzVRDxYD",
        "colab_type": "text"
      },
      "source": [
        "Exemplo 2:"
      ]
    },
    {
      "cell_type": "code",
      "metadata": {
        "id": "JS8m2MYWEGPj",
        "colab_type": "code",
        "colab": {}
      },
      "source": [
        "pd.DataFrame({'ESTADO': ['Amazonas', 'Amapá', 'Acre'], 'POPULACAO': ['4144597', '845731', '881935']})"
      ],
      "execution_count": null,
      "outputs": []
    },
    {
      "cell_type": "markdown",
      "metadata": {
        "id": "HDP1WeylEssA",
        "colab_type": "text"
      },
      "source": [
        "### Construtor DataFrame\n",
        "\n",
        "```\n",
        "pd.DataFrame()\n",
        "```\n",
        "\n",
        "É a forma padrão de se construir um novo `DataFrame`.\n",
        "\n",
        "Sintaxe:\n",
        "\n",
        "\n",
        "*   É um dicionário.\n",
        "*   As chaves do dicionário são as colunas.\n",
        "*   Os valores são a lista de entrada.\n",
        "\n",
        "\n",
        "\n"
      ]
    },
    {
      "cell_type": "markdown",
      "metadata": {
        "id": "IP2HQZ65FmFX",
        "colab_type": "text"
      },
      "source": [
        "### Características do construtor:\n",
        "\n",
        "*   O construtor do tipo `DataFrame` atribui valores sequenciais.\n",
        "*   Estes valores são conhecidos como índices (*index*).\n",
        "*   Porém, é possível personalizar (customizar) os valores dos índices.\n",
        "\n"
      ]
    },
    {
      "cell_type": "markdown",
      "metadata": {
        "id": "olvmiF8FGLLG",
        "colab_type": "text"
      },
      "source": [
        "### Customização do índice:"
      ]
    },
    {
      "cell_type": "markdown",
      "metadata": {
        "id": "hbFQZ9yt9Que",
        "colab_type": "text"
      },
      "source": [
        "Exemplo:"
      ]
    },
    {
      "cell_type": "code",
      "metadata": {
        "id": "8qe3-oIgGYkU",
        "colab_type": "code",
        "colab": {}
      },
      "source": [
        "dic2 = pd.DataFrame({'ESTADO': ['Amazonas', 'Amapá', 'Acre'], \n",
        "              'POPULACAO': ['4144597', '845731', '881935']},\n",
        "             index=['AM', 'AP', 'AC'])"
      ],
      "execution_count": null,
      "outputs": []
    },
    {
      "cell_type": "code",
      "metadata": {
        "id": "nPxKq2rX9zvM",
        "colab_type": "code",
        "colab": {}
      },
      "source": [
        "dic2"
      ],
      "execution_count": null,
      "outputs": []
    },
    {
      "cell_type": "markdown",
      "metadata": {
        "id": "dztmgyBs9lUH",
        "colab_type": "text"
      },
      "source": [
        "### Acessando elementos do `DataFrame`"
      ]
    },
    {
      "cell_type": "markdown",
      "metadata": {
        "id": "d2uOU2Qv-B7H",
        "colab_type": "text"
      },
      "source": [
        "Exemplo 1:"
      ]
    },
    {
      "cell_type": "code",
      "metadata": {
        "id": "S-UJMMAg9sCk",
        "colab_type": "code",
        "colab": {}
      },
      "source": [
        "dic2['ESTADO']"
      ],
      "execution_count": null,
      "outputs": []
    },
    {
      "cell_type": "markdown",
      "metadata": {
        "id": "MlIqbK04-Dbk",
        "colab_type": "text"
      },
      "source": [
        "Exemplo 2:"
      ]
    },
    {
      "cell_type": "code",
      "metadata": {
        "id": "1wQ29Sp_9_J4",
        "colab_type": "code",
        "colab": {}
      },
      "source": [
        "dic2.ESTADO"
      ],
      "execution_count": null,
      "outputs": []
    },
    {
      "cell_type": "markdown",
      "metadata": {
        "id": "Zv9aSkbpITzy",
        "colab_type": "text"
      },
      "source": [
        "### Seria possível criar um DataFrame com quantidades de linhas diferentes por coluna?"
      ]
    },
    {
      "cell_type": "code",
      "metadata": {
        "id": "sEyhBsmaIcyN",
        "colab_type": "code",
        "colab": {}
      },
      "source": [
        "pd.DataFrame({'ESTADO': ['Amazonas', 'Amapá', 'Acre'], 'POPULACAO': ['4144597', '881935']})"
      ],
      "execution_count": null,
      "outputs": []
    },
    {
      "cell_type": "markdown",
      "metadata": {
        "id": "Wh91QvTSWW9V",
        "colab_type": "text"
      },
      "source": [
        "# Leitura de arquivos"
      ]
    },
    {
      "cell_type": "markdown",
      "metadata": {
        "id": "9QbKfiiKWbVm",
        "colab_type": "text"
      },
      "source": [
        "### Características gerais sobre a leitura de arquivos:\n",
        "\n",
        "\n",
        "\n",
        "*   Na prática, iremos trabalhar com dados já existentes.\n",
        "*   Existem vários formatos de arquivos.\n",
        "*   O formato CSV é um dos formatos mais comuns.\n",
        "*   Um arquivo CSV é uma tabela cujos valores estão separados por vírgulas (*Comma-Separated Values*)."
      ]
    },
    {
      "cell_type": "markdown",
      "metadata": {
        "id": "PoOr6gbgXCuV",
        "colab_type": "text"
      },
      "source": [
        "### Leitura de arquivos CSV em Pandas como um `DataFrame`:"
      ]
    },
    {
      "cell_type": "markdown",
      "metadata": {
        "id": "KtTmYNVVkOFg",
        "colab_type": "text"
      },
      "source": [
        "Comando padrão:\n",
        "\n",
        "`pd.read_csv()`"
      ]
    },
    {
      "cell_type": "markdown",
      "metadata": {
        "id": "N2I0SYsNXh3x",
        "colab_type": "text"
      },
      "source": [
        "Exemplo:"
      ]
    },
    {
      "cell_type": "code",
      "metadata": {
        "id": "znr68k-pXj_G",
        "colab_type": "code",
        "colab": {}
      },
      "source": [
        "dados = pd.read_csv(\"http://tiagodemelo.info/datasets/dados-curso.csv\")"
      ],
      "execution_count": null,
      "outputs": []
    },
    {
      "cell_type": "markdown",
      "metadata": {
        "id": "bKCrNpVGXytj",
        "colab_type": "text"
      },
      "source": [
        "### Atributo `shape` \n",
        "\n",
        "Permite verificar o tamanho dos dados."
      ]
    },
    {
      "cell_type": "markdown",
      "metadata": {
        "id": "C5GIn97oYES-",
        "colab_type": "text"
      },
      "source": [
        "Exemplo:"
      ]
    },
    {
      "cell_type": "code",
      "metadata": {
        "id": "TgT_he5nYHc-",
        "colab_type": "code",
        "colab": {}
      },
      "source": [
        "dados.shape"
      ],
      "execution_count": null,
      "outputs": []
    },
    {
      "cell_type": "markdown",
      "metadata": {
        "id": "GqXrD1ORYRsF",
        "colab_type": "text"
      },
      "source": [
        "### Comando `head`\n",
        "\n",
        "Podemos ter uma noção do conjunto de dados.\n",
        "\n"
      ]
    },
    {
      "cell_type": "markdown",
      "metadata": {
        "id": "12zdtI44YfAc",
        "colab_type": "text"
      },
      "source": [
        "Exemplo:"
      ]
    },
    {
      "cell_type": "code",
      "metadata": {
        "id": "NgqrIApwYhLL",
        "colab_type": "code",
        "colab": {}
      },
      "source": [
        "dados.head()"
      ],
      "execution_count": null,
      "outputs": []
    },
    {
      "cell_type": "markdown",
      "metadata": {
        "id": "5DuN1XzUZYj5",
        "colab_type": "text"
      },
      "source": [
        "### Manipulação de dados"
      ]
    },
    {
      "cell_type": "markdown",
      "metadata": {
        "id": "3Qkqjt5eZfze",
        "colab_type": "text"
      },
      "source": [
        "Pandas possui uma série de recursos que permite manipular os dados no formato de `DataFrame`."
      ]
    },
    {
      "cell_type": "code",
      "metadata": {
        "id": "eostPPisZzQf",
        "colab_type": "code",
        "colab": {}
      },
      "source": [
        "dados"
      ],
      "execution_count": null,
      "outputs": []
    },
    {
      "cell_type": "markdown",
      "metadata": {
        "id": "0jWjVuq2aGof",
        "colab_type": "text"
      },
      "source": [
        "### As propriedades de um objeto podem ser acessadas como um atributo:"
      ]
    },
    {
      "cell_type": "markdown",
      "metadata": {
        "id": "6lgsZ4JBabrp",
        "colab_type": "text"
      },
      "source": [
        "Exemplo 1:"
      ]
    },
    {
      "cell_type": "code",
      "metadata": {
        "id": "fd9ZSQwBaeBL",
        "colab_type": "code",
        "colab": {}
      },
      "source": [
        "dados.lugar"
      ],
      "execution_count": null,
      "outputs": []
    },
    {
      "cell_type": "markdown",
      "metadata": {
        "id": "vMOKQYP7auBT",
        "colab_type": "text"
      },
      "source": [
        "Exemplo 2:"
      ]
    },
    {
      "cell_type": "code",
      "metadata": {
        "id": "ZBvkUBuaayTK",
        "colab_type": "code",
        "colab": {}
      },
      "source": [
        "dados['lugar']"
      ],
      "execution_count": null,
      "outputs": []
    },
    {
      "cell_type": "markdown",
      "metadata": {
        "id": "1E9aaBM_bXAV",
        "colab_type": "text"
      },
      "source": [
        "Exemplo 3:"
      ]
    },
    {
      "cell_type": "code",
      "metadata": {
        "id": "lnTdfyIXbYnh",
        "colab_type": "code",
        "colab": {}
      },
      "source": [
        "dados['lugar'][0]"
      ],
      "execution_count": null,
      "outputs": []
    },
    {
      "cell_type": "markdown",
      "metadata": {
        "id": "pImKeUbnbpAC",
        "colab_type": "text"
      },
      "source": [
        "# Indexação em Pandas"
      ]
    },
    {
      "cell_type": "markdown",
      "metadata": {
        "id": "Hic5mwsweGLm",
        "colab_type": "text"
      },
      "source": [
        "### Seleção baseada em índices\n",
        "\n",
        "#### Seleção de dados baseada na posição numérica dos dados."
      ]
    },
    {
      "cell_type": "markdown",
      "metadata": {
        "id": "f-NyJR05ffVM",
        "colab_type": "text"
      },
      "source": [
        "### Selecionar a primeira linha\n",
        "\n",
        "Exemplo 1:"
      ]
    },
    {
      "cell_type": "code",
      "metadata": {
        "id": "PQrRq8nUcY_s",
        "colab_type": "code",
        "colab": {}
      },
      "source": [
        "dados.iloc[0]"
      ],
      "execution_count": null,
      "outputs": []
    },
    {
      "cell_type": "markdown",
      "metadata": {
        "id": "vIVASYROk_Tg",
        "colab_type": "text"
      },
      "source": [
        "Exemplo 2:"
      ]
    },
    {
      "cell_type": "code",
      "metadata": {
        "id": "A-kPc_pBf_6-",
        "colab_type": "code",
        "colab": {}
      },
      "source": [
        "dados.iloc[:,1]"
      ],
      "execution_count": null,
      "outputs": []
    },
    {
      "cell_type": "markdown",
      "metadata": {
        "id": "Pgu50YnrlDcb",
        "colab_type": "text"
      },
      "source": [
        "Exemplo 3:"
      ]
    },
    {
      "cell_type": "code",
      "metadata": {
        "id": "ey2gsjFBgJB7",
        "colab_type": "code",
        "colab": {}
      },
      "source": [
        "dados.iloc[-5:]"
      ],
      "execution_count": null,
      "outputs": []
    },
    {
      "cell_type": "markdown",
      "metadata": {
        "id": "imx0mjKlgQsG",
        "colab_type": "text"
      },
      "source": [
        "Exemplo 5:"
      ]
    },
    {
      "cell_type": "code",
      "metadata": {
        "id": "ohmxTrlTg17l",
        "colab_type": "code",
        "colab": {}
      },
      "source": [
        "dados.loc[0, 'pais']"
      ],
      "execution_count": null,
      "outputs": []
    },
    {
      "cell_type": "markdown",
      "metadata": {
        "id": "BMqcU4nog-kQ",
        "colab_type": "text"
      },
      "source": [
        "# Manipulação de índices\n",
        "\n",
        "### É possível fazer a indexação dados por um atributo."
      ]
    },
    {
      "cell_type": "markdown",
      "metadata": {
        "id": "epTQLNOjjARa",
        "colab_type": "text"
      },
      "source": [
        "### Exemplo:"
      ]
    },
    {
      "cell_type": "code",
      "metadata": {
        "id": "p_MijJSGiVps",
        "colab_type": "code",
        "colab": {}
      },
      "source": [
        "dados.set_index('pais')"
      ],
      "execution_count": null,
      "outputs": []
    },
    {
      "cell_type": "markdown",
      "metadata": {
        "id": "IA9RsWOZjaLj",
        "colab_type": "text"
      },
      "source": [
        "# Seleção condicional"
      ]
    },
    {
      "cell_type": "markdown",
      "metadata": {
        "id": "DNimsIsBjcZK",
        "colab_type": "text"
      },
      "source": [
        "É possível consultar os dados de acordo com algum critério (condição)"
      ]
    },
    {
      "cell_type": "markdown",
      "metadata": {
        "id": "Mf7_pS-Ejm3A",
        "colab_type": "text"
      },
      "source": [
        "Exemplo:"
      ]
    },
    {
      "cell_type": "code",
      "metadata": {
        "id": "_9vh_G23jb5I",
        "colab_type": "code",
        "colab": {}
      },
      "source": [
        "dados.sigla == 'BR'"
      ],
      "execution_count": null,
      "outputs": []
    },
    {
      "cell_type": "markdown",
      "metadata": {
        "id": "TH5hYOW-kOJ8",
        "colab_type": "text"
      },
      "source": [
        "### Essa operação pode ser usado em combinação `loc`"
      ]
    },
    {
      "cell_type": "code",
      "metadata": {
        "id": "MV5bTVpHkY80",
        "colab_type": "code",
        "colab": {}
      },
      "source": [
        "dados.loc[dados.sigla == 'BR']"
      ],
      "execution_count": null,
      "outputs": []
    },
    {
      "cell_type": "markdown",
      "metadata": {
        "id": "ji2GuZoGf1cm",
        "colab_type": "text"
      },
      "source": [
        "# Funções de Sumário (*Summary*)"
      ]
    },
    {
      "cell_type": "markdown",
      "metadata": {
        "id": "qaPpix8wlp3-",
        "colab_type": "text"
      },
      "source": [
        "### `describe()` é a função que apresenta um conjunto de estatísticas sobre um determinado campo (coluna)."
      ]
    },
    {
      "cell_type": "markdown",
      "metadata": {
        "id": "0IwMTUqDl0E6",
        "colab_type": "text"
      },
      "source": [
        "Exemplo 1:"
      ]
    },
    {
      "cell_type": "code",
      "metadata": {
        "id": "S4Ts99jHgOnw",
        "colab_type": "code",
        "colab": {}
      },
      "source": [
        "dados.retweet.describe()"
      ],
      "execution_count": null,
      "outputs": []
    },
    {
      "cell_type": "markdown",
      "metadata": {
        "id": "2CY_rDCGhLHt",
        "colab_type": "text"
      },
      "source": [
        "### A função `describe()` ainda pode ser utilizada para campos não numéricos\n"
      ]
    },
    {
      "cell_type": "markdown",
      "metadata": {
        "id": "K1_g9SRwl-Nt",
        "colab_type": "text"
      },
      "source": [
        "Exemplo 1:"
      ]
    },
    {
      "cell_type": "code",
      "metadata": {
        "id": "YQS3j1NOhUPI",
        "colab_type": "code",
        "colab": {}
      },
      "source": [
        "dados.sigla.describe()"
      ],
      "execution_count": null,
      "outputs": []
    },
    {
      "cell_type": "markdown",
      "metadata": {
        "id": "wzb29OA9l_-N",
        "colab_type": "text"
      },
      "source": [
        "Exemplo 2:"
      ]
    },
    {
      "cell_type": "code",
      "metadata": {
        "id": "Kw9CurPOhkW1",
        "colab_type": "code",
        "colab": {}
      },
      "source": [
        "dados.data.describe()"
      ],
      "execution_count": null,
      "outputs": []
    },
    {
      "cell_type": "markdown",
      "metadata": {
        "id": "_YVKPBBJh6ja",
        "colab_type": "text"
      },
      "source": [
        "### É possível ainda usar uma função de estatística específica para um determinado campo"
      ]
    },
    {
      "cell_type": "code",
      "metadata": {
        "id": "Xl6aUlP5hlXF",
        "colab_type": "code",
        "colab": {}
      },
      "source": [
        "dados.retweet.mean()"
      ],
      "execution_count": null,
      "outputs": []
    },
    {
      "cell_type": "markdown",
      "metadata": {
        "id": "Vpm0TGYXixXW",
        "colab_type": "text"
      },
      "source": [
        "### A função `unique()` apresenta os valores únicos"
      ]
    },
    {
      "cell_type": "code",
      "metadata": {
        "id": "w8nEf0sOi4kD",
        "colab_type": "code",
        "colab": {}
      },
      "source": [
        "dados.sigla.unique()"
      ],
      "execution_count": null,
      "outputs": []
    },
    {
      "cell_type": "markdown",
      "metadata": {
        "id": "f5MtjoklmFH-",
        "colab_type": "text"
      },
      "source": [
        "Exemplo:"
      ]
    },
    {
      "cell_type": "code",
      "metadata": {
        "id": "F_WjSZ22jNnR",
        "colab_type": "code",
        "colab": {}
      },
      "source": [
        "dados.sigla.value_counts()"
      ],
      "execution_count": null,
      "outputs": []
    },
    {
      "cell_type": "markdown",
      "metadata": {
        "id": "uG15rtV5mHuC",
        "colab_type": "text"
      },
      "source": [
        "#Agrupamento de dados"
      ]
    },
    {
      "cell_type": "markdown",
      "metadata": {
        "id": "q6bK-4cqmfjJ",
        "colab_type": "text"
      },
      "source": [
        "### Função `groupby()`"
      ]
    },
    {
      "cell_type": "markdown",
      "metadata": {
        "id": "vS8o9GpgmJHV",
        "colab_type": "text"
      },
      "source": [
        "Exemplo 1:"
      ]
    },
    {
      "cell_type": "code",
      "metadata": {
        "id": "X2AiETx1mmum",
        "colab_type": "code",
        "colab": {}
      },
      "source": [
        "dados.groupby('sigla')"
      ],
      "execution_count": null,
      "outputs": []
    },
    {
      "cell_type": "markdown",
      "metadata": {
        "id": "UjyN85d2mMUy",
        "colab_type": "text"
      },
      "source": [
        "Exemplo 2:"
      ]
    },
    {
      "cell_type": "code",
      "metadata": {
        "id": "q5djlcgynliS",
        "colab_type": "code",
        "colab": {}
      },
      "source": [
        "dados.groupby('sigla').sigla"
      ],
      "execution_count": null,
      "outputs": []
    },
    {
      "cell_type": "markdown",
      "metadata": {
        "id": "pjL0yM8emOLG",
        "colab_type": "text"
      },
      "source": [
        "Exemplo 3:"
      ]
    },
    {
      "cell_type": "code",
      "metadata": {
        "id": "7_uiLKFtm69H",
        "colab_type": "code",
        "colab": {}
      },
      "source": [
        "dados.groupby('sigla').sigla.count()"
      ],
      "execution_count": null,
      "outputs": []
    },
    {
      "cell_type": "markdown",
      "metadata": {
        "id": "ZIeDhCHRn842",
        "colab_type": "text"
      },
      "source": [
        "### A função `groupby` pode ainda ser usada para exibir outro campo"
      ]
    },
    {
      "cell_type": "code",
      "metadata": {
        "id": "Mjmh4neLoDD9",
        "colab_type": "code",
        "colab": {}
      },
      "source": [
        "dados.groupby('sigla').retweet.max()"
      ],
      "execution_count": null,
      "outputs": []
    },
    {
      "cell_type": "markdown",
      "metadata": {
        "id": "C5W7iDbFqBjo",
        "colab_type": "text"
      },
      "source": [
        "#Ordenação de dados"
      ]
    },
    {
      "cell_type": "markdown",
      "metadata": {
        "id": "vPtAgJqBqcDM",
        "colab_type": "text"
      },
      "source": [
        "### A função `sort_values()` pode ser usada para ordenar os valores por um determinado campo"
      ]
    },
    {
      "cell_type": "code",
      "metadata": {
        "id": "-5JU3U2AqRGF",
        "colab_type": "code",
        "colab": {}
      },
      "source": [
        "dados.sort_values(by='sigla')"
      ],
      "execution_count": null,
      "outputs": []
    },
    {
      "cell_type": "markdown",
      "metadata": {
        "id": "_iXAv3Llq2Vu",
        "colab_type": "text"
      },
      "source": [
        "### A ordenação padrão é de forma ascendente. Porém, é possível ordenar de maneira descendente"
      ]
    },
    {
      "cell_type": "code",
      "metadata": {
        "id": "yLa5mqqMrF__",
        "colab_type": "code",
        "colab": {}
      },
      "source": [
        "dados.sort_values(by='sigla', ascending=False)"
      ],
      "execution_count": null,
      "outputs": []
    },
    {
      "cell_type": "markdown",
      "metadata": {
        "id": "C2aXoZKOrbhz",
        "colab_type": "text"
      },
      "source": [
        "### A ordenação por índices é feita através da função `sort_index()`"
      ]
    },
    {
      "cell_type": "code",
      "metadata": {
        "id": "404_fU4hrlz9",
        "colab_type": "code",
        "colab": {}
      },
      "source": [
        "dados.sort_index()"
      ],
      "execution_count": null,
      "outputs": []
    },
    {
      "cell_type": "markdown",
      "metadata": {
        "id": "tYPDhhmjsC__",
        "colab_type": "text"
      },
      "source": [
        "### A ordenação ainda pode ser feita por mais de um campo ao mesmo tempo"
      ]
    },
    {
      "cell_type": "code",
      "metadata": {
        "id": "0B-r00UesLpL",
        "colab_type": "code",
        "colab": {}
      },
      "source": [
        "dados.sort_values(by=['pais', 'lugar'])"
      ],
      "execution_count": null,
      "outputs": []
    },
    {
      "cell_type": "markdown",
      "metadata": {
        "id": "FuS22THQtT1Q",
        "colab_type": "text"
      },
      "source": [
        "# Tipo de dados em `DataFrame` e `Series`"
      ]
    },
    {
      "cell_type": "markdown",
      "metadata": {
        "id": "TfQky6ajtmpo",
        "colab_type": "text"
      },
      "source": [
        "### Para verificar o tipo de um dado em Python nós usamos o comando `type`"
      ]
    },
    {
      "cell_type": "code",
      "metadata": {
        "id": "cIn8rb3mty_B",
        "colab_type": "code",
        "colab": {}
      },
      "source": [
        "type(dados)"
      ],
      "execution_count": null,
      "outputs": []
    },
    {
      "cell_type": "markdown",
      "metadata": {
        "id": "Vh9owK-1uBoT",
        "colab_type": "text"
      },
      "source": [
        "### Para verificarmos o tipo de dados de uma coluna de um `DataFrame` ou `Series` em Python nós usamos o comando `dtype`"
      ]
    },
    {
      "cell_type": "code",
      "metadata": {
        "id": "8Vuyc5oVuDKQ",
        "colab_type": "code",
        "colab": {}
      },
      "source": [
        "dados.retweet.dtype"
      ],
      "execution_count": null,
      "outputs": []
    },
    {
      "cell_type": "code",
      "metadata": {
        "id": "rV66uwznuT-5",
        "colab_type": "code",
        "colab": {}
      },
      "source": [
        "dados.idioma.dtype"
      ],
      "execution_count": null,
      "outputs": []
    },
    {
      "cell_type": "markdown",
      "metadata": {
        "id": "BT0LCmhRuwpm",
        "colab_type": "text"
      },
      "source": [
        "### Nós podemos ainda verificar o tipo de dados de todas as colunas de um `DataFrame`"
      ]
    },
    {
      "cell_type": "code",
      "metadata": {
        "id": "p7mEffTjue_q",
        "colab_type": "code",
        "colab": {}
      },
      "source": [
        "dados.dtypes"
      ],
      "execution_count": null,
      "outputs": []
    },
    {
      "cell_type": "markdown",
      "metadata": {
        "id": "t0g2uespwF-c",
        "colab_type": "text"
      },
      "source": [
        "### É possível ainda converter o tipo de uma determinada coluna para outro tipo"
      ]
    },
    {
      "cell_type": "markdown",
      "metadata": {
        "id": "3WfnAWRNnOdW",
        "colab_type": "text"
      },
      "source": [
        "Exemplo 1:"
      ]
    },
    {
      "cell_type": "code",
      "metadata": {
        "id": "d1gT9hKswGLe",
        "colab_type": "code",
        "colab": {}
      },
      "source": [
        "dados.retweet"
      ],
      "execution_count": null,
      "outputs": []
    },
    {
      "cell_type": "markdown",
      "metadata": {
        "id": "PN-AlkHynQJ9",
        "colab_type": "text"
      },
      "source": [
        "Exemplo 2:"
      ]
    },
    {
      "cell_type": "code",
      "metadata": {
        "id": "bXjvwtsRwKhD",
        "colab_type": "code",
        "colab": {}
      },
      "source": [
        "dados.retweet.astype('float64')"
      ],
      "execution_count": null,
      "outputs": []
    },
    {
      "cell_type": "markdown",
      "metadata": {
        "id": "kvCgVBURw7e3",
        "colab_type": "text"
      },
      "source": [
        "### Seria possível converter uma coluna para qualquer outro tipo de dados?"
      ]
    },
    {
      "cell_type": "code",
      "metadata": {
        "id": "avknbHNawkuI",
        "colab_type": "code",
        "colab": {}
      },
      "source": [
        "dados.sigla.astype('float64')"
      ],
      "execution_count": null,
      "outputs": []
    },
    {
      "cell_type": "markdown",
      "metadata": {
        "id": "ap3tFHSmns1P",
        "colab_type": "text"
      },
      "source": [
        "### Resumo dos tipos em Pandas:"
      ]
    },
    {
      "cell_type": "markdown",
      "metadata": {
        "id": "Aq1KxlLTon0a",
        "colab_type": "text"
      },
      "source": [
        "![](https://drive.google.com/uc?export=view&id=1l2SH97T_0Lu7VIInFzkc31HUbSep37g6)"
      ]
    },
    {
      "cell_type": "markdown",
      "metadata": {
        "id": "MZfqRb_NxXdG",
        "colab_type": "text"
      },
      "source": [
        "### Lidando com dados ausentes"
      ]
    },
    {
      "cell_type": "markdown",
      "metadata": {
        "id": "Qwuogd6Rx8Hh",
        "colab_type": "text"
      },
      "source": [
        "Regras gerais:\n",
        "\n",
        "*   Os dados ausentes são presentados pelo valor `NaN` que representa Not a Number.\n",
        "*   Por razões técnicas, os valores `NaN` são sempre do tipo `float64`.\n",
        "*   Pandas possui alguns métodos específicos para lidar com dados ausentes."
      ]
    },
    {
      "cell_type": "markdown",
      "metadata": {
        "id": "KC5yERWwzOdP",
        "colab_type": "text"
      },
      "source": [
        "### O comando `pd.isnull()` é utilizado para selecionar as entradas ausentes\n"
      ]
    },
    {
      "cell_type": "code",
      "metadata": {
        "id": "Gf09OWktytIV",
        "colab_type": "code",
        "colab": {}
      },
      "source": [
        "dados[pd.isnull(dados.sigla)]"
      ],
      "execution_count": null,
      "outputs": []
    },
    {
      "cell_type": "markdown",
      "metadata": {
        "id": "vbxpZzCLz31J",
        "colab_type": "text"
      },
      "source": [
        "### Substituição de valores ausentes\n",
        "\n",
        "### A função `fillna()` é usada para substituir valores ausentes"
      ]
    },
    {
      "cell_type": "code",
      "metadata": {
        "id": "YRMHftBc0LH6",
        "colab_type": "code",
        "colab": {}
      },
      "source": [
        "dados.sigla.fillna(\"PADRAO\")"
      ],
      "execution_count": null,
      "outputs": []
    },
    {
      "cell_type": "markdown",
      "metadata": {
        "id": "fcUA4oPq1SkX",
        "colab_type": "text"
      },
      "source": [
        "### É possível ainda fazer a substituição de um valor específico por outro através do comando `replace`"
      ]
    },
    {
      "cell_type": "code",
      "metadata": {
        "id": "tWwGDI441C-k",
        "colab_type": "code",
        "colab": {}
      },
      "source": [
        "dados.sigla.replace('BR', 'BZ')"
      ],
      "execution_count": null,
      "outputs": []
    },
    {
      "cell_type": "markdown",
      "metadata": {
        "id": "AMUR6bjg2ErV",
        "colab_type": "text"
      },
      "source": [
        "# Formatação dos dados"
      ]
    },
    {
      "cell_type": "markdown",
      "metadata": {
        "id": "yUFwPfJo2x5G",
        "colab_type": "text"
      },
      "source": [
        "### Regras gerais:\n",
        "\n",
        "*   É comum ocorrer a situação onde os dados não estão com nomes apropriados.\n",
        "*   Neste caso, podemos usar um conjunto de funções de Pandas para formatar `DataFrame` ou `Series`."
      ]
    },
    {
      "cell_type": "markdown",
      "metadata": {
        "id": "Vkj26tyW3Xzv",
        "colab_type": "text"
      },
      "source": [
        "### É possível renomear as colunas e índices através do comando `rename()`"
      ]
    },
    {
      "cell_type": "code",
      "metadata": {
        "id": "nosjwRUq3aGF",
        "colab_type": "code",
        "cellView": "both",
        "colab": {}
      },
      "source": [
        "#@title\n",
        "dados.rename(columns={'sigla': 'codigo'})"
      ],
      "execution_count": null,
      "outputs": []
    },
    {
      "cell_type": "markdown",
      "metadata": {
        "id": "OeQKZ3JcMcY2",
        "colab_type": "text"
      },
      "source": [
        "# Plotar Mapas"
      ]
    },
    {
      "cell_type": "markdown",
      "metadata": {
        "id": "QoY16iOFN9om",
        "colab_type": "text"
      },
      "source": [
        "### Projeto GeoPandas\n",
        "\n",
        "*   Projeto código aberto para lidar com dados espaciais em Python.\n",
        "*   Versão atual é a 0.8.0.\n",
        "*   Permite a realização de operações espaciais."
      ]
    },
    {
      "cell_type": "markdown",
      "metadata": {
        "id": "rbSLG4heMupm",
        "colab_type": "text"
      },
      "source": [
        "### Instalar a biblioteca"
      ]
    },
    {
      "cell_type": "code",
      "metadata": {
        "id": "CQ-_i9JNMil9",
        "colab_type": "code",
        "colab": {}
      },
      "source": [
        "!pip install geopandas"
      ],
      "execution_count": null,
      "outputs": []
    },
    {
      "cell_type": "markdown",
      "metadata": {
        "id": "FmS4QcZYNPfx",
        "colab_type": "text"
      },
      "source": [
        "### Importar as bibliotecas"
      ]
    },
    {
      "cell_type": "code",
      "metadata": {
        "id": "Q3xWCWlyNSam",
        "colab_type": "code",
        "colab": {}
      },
      "source": [
        "from shapely.geometry import Point\n",
        "import geopandas as gpd\n",
        "from geopandas import GeoDataFrame"
      ],
      "execution_count": null,
      "outputs": []
    },
    {
      "cell_type": "markdown",
      "metadata": {
        "id": "daNVJpEJMxat",
        "colab_type": "text"
      },
      "source": [
        "### Carregar o arquivo com os dados"
      ]
    },
    {
      "cell_type": "code",
      "metadata": {
        "id": "Vhydj7j7M038",
        "colab_type": "code",
        "colab": {}
      },
      "source": [
        "dados = pd.read_csv(\"http://tiagodemelo.info/datasets/dados-curso.csv\")"
      ],
      "execution_count": null,
      "outputs": []
    },
    {
      "cell_type": "code",
      "metadata": {
        "id": "0TZO6kZOM7HB",
        "colab_type": "code",
        "colab": {}
      },
      "source": [
        "dados.head()"
      ],
      "execution_count": null,
      "outputs": []
    },
    {
      "cell_type": "markdown",
      "metadata": {
        "id": "pP7RtLcwNCGr",
        "colab_type": "text"
      },
      "source": [
        "### Plotar a posição dos usuários no mapa"
      ]
    },
    {
      "cell_type": "code",
      "metadata": {
        "id": "URZXqSpRNFwd",
        "colab_type": "code",
        "colab": {}
      },
      "source": [
        "geometry = [Point(xy) for xy in zip(dados['latitude'], dados['longitude'])]\n",
        "gdf = GeoDataFrame(dados, geometry=geometry)   \n",
        "\n",
        "world = gpd.read_file(gpd.datasets.get_path('naturalearth_lowres'))\n",
        "gdf.plot(ax=world.plot(figsize=(10, 6)), marker='o', color='red', markersize=15);"
      ],
      "execution_count": null,
      "outputs": []
    },
    {
      "cell_type": "markdown",
      "metadata": {
        "id": "d-Gu92rtEJ1K",
        "colab_type": "text"
      },
      "source": [
        "#Visualização dos Dados"
      ]
    },
    {
      "cell_type": "markdown",
      "metadata": {
        "id": "7vqG0-TAERyD",
        "colab_type": "text"
      },
      "source": [
        "##MatPlotLib"
      ]
    },
    {
      "cell_type": "code",
      "metadata": {
        "id": "GxAtiyI1FBUf",
        "colab_type": "code",
        "colab": {}
      },
      "source": [
        "import pandas as pd\n",
        "\n",
        "df = pd.DataFrame({\n",
        "    'nome':['João','Maria','Pedro','José','Lucas','Luíza','Francisco'],\n",
        "    'idade':[23,78,22,19,45,33,20],\n",
        "    'genero':['M','F','M','M','M','F','M'],\n",
        "    'estado':['Amazonas','Pará','Amazonas','Pará','Amazonas','Ceará','Ceará'],\n",
        "    'num_filhos':[2,0,0,3,2,1,4],\n",
        "    'num_animais':[5,1,0,5,2,2,3]\n",
        "})"
      ],
      "execution_count": null,
      "outputs": []
    },
    {
      "cell_type": "code",
      "metadata": {
        "id": "HmDcBLtSsQBx",
        "colab_type": "code",
        "colab": {}
      },
      "source": [
        "df.head()"
      ],
      "execution_count": null,
      "outputs": []
    },
    {
      "cell_type": "markdown",
      "metadata": {
        "id": "1gp40EI8Mvdq",
        "colab_type": "text"
      },
      "source": [
        "### Scatter Plot"
      ]
    },
    {
      "cell_type": "markdown",
      "metadata": {
        "id": "2kZD0eJBI9Lv",
        "colab_type": "text"
      },
      "source": [
        "É o gráfico de dispersão."
      ]
    },
    {
      "cell_type": "markdown",
      "metadata": {
        "id": "K7a-wGhUJBRL",
        "colab_type": "text"
      },
      "source": [
        "Exemplo 1:"
      ]
    },
    {
      "cell_type": "code",
      "metadata": {
        "id": "RL_SbOcXMxNA",
        "colab_type": "code",
        "colab": {}
      },
      "source": [
        "import matplotlib.pyplot as plt\n",
        "import pandas as pd\n",
        "\n",
        "df.plot(kind='scatter', x='num_filhos',y='num_animais')\n",
        "plt.show()"
      ],
      "execution_count": null,
      "outputs": []
    },
    {
      "cell_type": "markdown",
      "metadata": {
        "id": "YHiC1nOvH3Gl",
        "colab_type": "text"
      },
      "source": [
        "### Configurações diversas dos gráficos"
      ]
    },
    {
      "cell_type": "markdown",
      "metadata": {
        "id": "0vjUEKIbIKKI",
        "colab_type": "text"
      },
      "source": [
        "##### Cores\n",
        "\n",
        "\n",
        "*   O atributo `color` ou `c` é usado para definir as cores.\n",
        "*   As cores estão em inglês.\n",
        "*   [Lista completa de cores](https://matplotlib.org/3.1.0/gallery/color/named_colors.html)\n",
        "\n"
      ]
    },
    {
      "cell_type": "markdown",
      "metadata": {
        "id": "Yy4i0a-KJVOF",
        "colab_type": "text"
      },
      "source": [
        "##### Transparência\n",
        "\n",
        "\n",
        "*   O atributo `alpha` define a transparência dos objetos.\n",
        "\n"
      ]
    },
    {
      "cell_type": "markdown",
      "metadata": {
        "id": "7vg3JBD-K5PY",
        "colab_type": "text"
      },
      "source": [
        "##### Marcadores\n",
        "\n",
        "\n",
        "*   É possível alterar o marcador através do atributo `marker`.\n",
        "*   [Lista completa de marcadores](https://matplotlib.org/api/markers_api.html)\n",
        "*   É possível também alterar o tamanho do marcador através do atributo `s`.\n",
        "\n"
      ]
    },
    {
      "cell_type": "markdown",
      "metadata": {
        "id": "ul0rkJ8WJ0EK",
        "colab_type": "text"
      },
      "source": [
        "##### Rótulos (labels) dos eixos\n",
        "\n",
        "\n",
        "*   O comando `xlabel` é usado para renomear o eixo X do gráfico.\n",
        "*   O comando `ylabel` é usado para renomear o eixo Y do gráfico.\n",
        "*   Esses comandos permitem alterar o tamanho da fonte através do atributo `fontsize`.\n",
        "\n"
      ]
    },
    {
      "cell_type": "markdown",
      "metadata": {
        "id": "4JjUAKo5JG_A",
        "colab_type": "text"
      },
      "source": [
        "Exemplo 2:"
      ]
    },
    {
      "cell_type": "code",
      "metadata": {
        "id": "sYL4hoZUJIUc",
        "colab_type": "code",
        "colab": {}
      },
      "source": [
        "import matplotlib.pyplot as plt\n",
        "import pandas as pd\n",
        "\n",
        "df.plot(kind='scatter', x='num_filhos', y='num_animais', color='red', alpha=0.2, marker='*', s=90)\n",
        "plt.xlabel('Número de Filhos', fontsize=12)\n",
        "plt.ylabel('Número de Animais', fontsize=16)\n",
        "plt.show()"
      ],
      "execution_count": null,
      "outputs": []
    },
    {
      "cell_type": "markdown",
      "metadata": {
        "id": "kFl_Dyi8NAPj",
        "colab_type": "text"
      },
      "source": [
        "### Bar Plot"
      ]
    },
    {
      "cell_type": "markdown",
      "metadata": {
        "id": "_fUZlfsDMJ0p",
        "colab_type": "text"
      },
      "source": [
        "É o gráfico de barras."
      ]
    },
    {
      "cell_type": "markdown",
      "metadata": {
        "id": "HxCPmDI-MOha",
        "colab_type": "text"
      },
      "source": [
        "Exemplo 1:"
      ]
    },
    {
      "cell_type": "code",
      "metadata": {
        "id": "qcPzmCoLNEkg",
        "colab_type": "code",
        "colab": {}
      },
      "source": [
        "df.plot(kind='bar',x='nome',y='idade')"
      ],
      "execution_count": null,
      "outputs": []
    },
    {
      "cell_type": "markdown",
      "metadata": {
        "id": "KhuWvHxeM42g",
        "colab_type": "text"
      },
      "source": [
        "##### Outras configurações:\n",
        "\n",
        "*   É possível usar os mesmos atributos do gráfico anterior.\n",
        "*   O atributo `label` permite renomear a legenda.\n",
        "*   O atributo `loc` permite mudar a posição da legenda no gráfico.\n",
        "*   [Lista completa com os posicionamentos da legenda.](https://matplotlib.org/api/_as_gen/matplotlib.pyplot.legend.html)\n",
        "\n"
      ]
    },
    {
      "cell_type": "markdown",
      "metadata": {
        "id": "LmLrme9OMTDZ",
        "colab_type": "text"
      },
      "source": [
        "Exemplo 2:"
      ]
    },
    {
      "cell_type": "code",
      "metadata": {
        "id": "3I7ZPfKzMVMj",
        "colab_type": "code",
        "colab": {}
      },
      "source": [
        "df.plot(kind='bar', x='nome', y='idade', color = 'red', label='Age')\n",
        "plt.legend(loc='upper left')"
      ],
      "execution_count": null,
      "outputs": []
    },
    {
      "cell_type": "markdown",
      "metadata": {
        "id": "wCN1KaQbNgTG",
        "colab_type": "text"
      },
      "source": [
        "### Line Plot"
      ]
    },
    {
      "cell_type": "markdown",
      "metadata": {
        "id": "tN5walicNKdM",
        "colab_type": "text"
      },
      "source": [
        "É o gráfico de linhas."
      ]
    },
    {
      "cell_type": "markdown",
      "metadata": {
        "id": "bxkQ5Hh8NNmT",
        "colab_type": "text"
      },
      "source": [
        "Exemplo 1:"
      ]
    },
    {
      "cell_type": "code",
      "metadata": {
        "id": "MW2cjb0XNhle",
        "colab_type": "code",
        "colab": {}
      },
      "source": [
        "# gca stands for 'get current axis'\n",
        "ax = plt.gca()\n",
        "\n",
        "df.plot(kind='line',x='nome',y='num_filhos',ax=ax)\n",
        "df.plot(kind='line',x='nome',y='num_animais', color='red', ax=ax)\n",
        "\n",
        "plt.show()"
      ],
      "execution_count": null,
      "outputs": []
    },
    {
      "cell_type": "markdown",
      "metadata": {
        "id": "bbdWjWSPObia",
        "colab_type": "text"
      },
      "source": [
        "### Gráfico de barras agrupado"
      ]
    },
    {
      "cell_type": "markdown",
      "metadata": {
        "id": "YD0FIqsjPDt_",
        "colab_type": "text"
      },
      "source": [
        "É possível agrupar os dados no gráfico de barras."
      ]
    },
    {
      "cell_type": "markdown",
      "metadata": {
        "id": "W0V_4AhWPHow",
        "colab_type": "text"
      },
      "source": [
        "Exemplo 1:"
      ]
    },
    {
      "cell_type": "code",
      "metadata": {
        "id": "gwj0cMqFOeHj",
        "colab_type": "code",
        "colab": {}
      },
      "source": [
        "df.groupby('estado')['nome'].nunique().plot(kind='bar')\n",
        "plt.show()"
      ],
      "execution_count": null,
      "outputs": []
    },
    {
      "cell_type": "markdown",
      "metadata": {
        "id": "oiuaBGOoQFA5",
        "colab_type": "text"
      },
      "source": [
        "### Pie (gráfico de pizza)"
      ]
    },
    {
      "cell_type": "markdown",
      "metadata": {
        "id": "xR_bj243PLhW",
        "colab_type": "text"
      },
      "source": [
        "É o gráfico de pizza."
      ]
    },
    {
      "cell_type": "code",
      "metadata": {
        "id": "4VQjx4ZuPf36",
        "colab_type": "code",
        "colab": {}
      },
      "source": [
        "df.plot.pie(y='num_animais')"
      ],
      "execution_count": null,
      "outputs": []
    },
    {
      "cell_type": "markdown",
      "metadata": {
        "id": "liSLFH0YOExo",
        "colab_type": "text"
      },
      "source": [
        "### Salvar o arquivo\n",
        "\n",
        "Usar o comando `plt.savefig(<nome do arquivo>)`"
      ]
    },
    {
      "cell_type": "code",
      "metadata": {
        "id": "lrPI9XqTORca",
        "colab_type": "code",
        "colab": {}
      },
      "source": [
        "df.plot(kind='bar', x='nome', y='idade')\n",
        "plt.savefig('grafico.png')"
      ],
      "execution_count": null,
      "outputs": []
    }
  ]
}
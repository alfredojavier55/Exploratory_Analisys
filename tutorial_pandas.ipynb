{
 "cells": [
  {
   "cell_type": "markdown",
   "metadata": {
    "colab_type": "text",
    "id": "view-in-github"
   },
   "source": [
    "<a href=\"https://colab.research.google.com/github/alfredojavier55/Exploratory_Analisys/blob/master/tutorial_pandas.ipynb\" target=\"_parent\"><img src=\"https://colab.research.google.com/assets/colab-badge.svg\" alt=\"Open In Colab\"/></a>"
   ]
  },
  {
   "cell_type": "code",
   "execution_count": 1,
   "metadata": {
    "colab": {
     "base_uri": "https://localhost:8080/",
     "height": 34
    },
    "colab_type": "code",
    "id": "joMQknrSMLNp",
    "outputId": "ee70251a-b7e6-478e-f604-1337e647284d"
   },
   "outputs": [
    {
     "name": "stdout",
     "output_type": "stream",
     "text": [
      "A soma vale: 30\n"
     ]
    },
    {
     "data": {
      "text/plain": [
       "31"
      ]
     },
     "execution_count": 1,
     "metadata": {},
     "output_type": "execute_result"
    }
   ],
   "source": [
    "x=10\n",
    "y=20\n",
    "print(\"A soma vale:\", x+y)\n",
    "\n",
    "pandas = x+y+1\n",
    "pandas"
   ]
  },
  {
   "cell_type": "markdown",
   "metadata": {
    "colab_type": "text",
    "id": "6Fe6-iAooyym"
   },
   "source": [
    "# PANDAS"
   ]
  },
  {
   "cell_type": "markdown",
   "metadata": {
    "colab_type": "text",
    "id": "YuD-5trIMjff"
   },
   "source": [
    "# Oi sou Alfredo"
   ]
  },
  {
   "cell_type": "markdown",
   "metadata": {
    "colab_type": "text",
    "id": "_I6keT8Lo2pG"
   },
   "source": [
    "### É a biblioteca mais popular para lidar com dados em Ciência de Dados.\n",
    "### Possui duas coleções: a) `Series` e b) `DataFrame`."
   ]
  },
  {
   "cell_type": "markdown",
   "metadata": {
    "colab_type": "text",
    "id": "Lue8YQUPCwRc"
   },
   "source": [
    "# Importando a biblioteca PANDAS"
   ]
  },
  {
   "cell_type": "code",
   "execution_count": 4,
   "metadata": {
    "colab": {},
    "colab_type": "code",
    "id": "1Ly8gDyQ_kZZ"
   },
   "outputs": [],
   "source": [
    "import pandas as pd"
   ]
  },
  {
   "cell_type": "code",
   "execution_count": 6,
   "metadata": {
    "colab": {
     "base_uri": "https://localhost:8080/",
     "height": 34
    },
    "colab_type": "code",
    "id": "03R8lBPpP3gb",
    "outputId": "869a66e0-d6da-43da-b5a2-953d16424732"
   },
   "outputs": [
    {
     "name": "stdout",
     "output_type": "stream",
     "text": [
      "100\n"
     ]
    }
   ],
   "source": [
    "t=100\n",
    "print(t)"
   ]
  },
  {
   "cell_type": "markdown",
   "metadata": {
    "colab_type": "text",
    "id": "_OMWaQm0GrBA"
   },
   "source": [
    "# `Series`"
   ]
  },
  {
   "cell_type": "markdown",
   "metadata": {
    "colab_type": "text",
    "id": "NoVgGnHC0-xT"
   },
   "source": [
    "### Características:\n",
    "\n",
    "*   É uma **lista**.\n",
    "*   Diferentemente de vetores (*arrays*) e/ou listas convencionais, `Series` suporta customização dos índices."
   ]
  },
  {
   "cell_type": "markdown",
   "metadata": {
    "colab_type": "text",
    "id": "riQZfLMMG36g"
   },
   "source": [
    "### Criação de `Series` com índices padrão (*default*)\n",
    "\n",
    "A criação é realizada através do comando `pd.Series()`.\n",
    "\n",
    "Exemplo:"
   ]
  },
  {
   "cell_type": "code",
   "execution_count": 7,
   "metadata": {
    "colab": {},
    "colab_type": "code",
    "id": "3Q1JS1mXG_hg"
   },
   "outputs": [],
   "source": [
    "s = pd.Series ([10, 20, 30, 40, 50])"
   ]
  },
  {
   "cell_type": "markdown",
   "metadata": {
    "colab_type": "text",
    "id": "WMWQIZKh2GNA"
   },
   "source": [
    "### Exibição de uma `Series`"
   ]
  },
  {
   "cell_type": "code",
   "execution_count": 8,
   "metadata": {
    "colab": {
     "base_uri": "https://localhost:8080/",
     "height": 119
    },
    "colab_type": "code",
    "id": "93HHxQHI2Ni-",
    "outputId": "80bd89b4-6955-4a26-8fa7-a2fd76f25368"
   },
   "outputs": [
    {
     "name": "stdout",
     "output_type": "stream",
     "text": [
      "0    10\n",
      "1    20\n",
      "2    30\n",
      "3    40\n",
      "4    50\n",
      "dtype: int64\n"
     ]
    }
   ],
   "source": [
    "print (s)"
   ]
  },
  {
   "cell_type": "markdown",
   "metadata": {
    "colab_type": "text",
    "id": "femefU2P2Y7Y"
   },
   "source": [
    "Partes:\n",
    "\n",
    "*   Coluna à esquerda -> índice\n",
    "*   Coluna à direita -> valores\n",
    "*   Última linha -> tipo de dados (`dtype`)\n",
    "\n",
    "\n"
   ]
  },
  {
   "cell_type": "markdown",
   "metadata": {
    "colab_type": "text",
    "id": "-mP28qtg3FdV"
   },
   "source": [
    "### Acessar a um elemento"
   ]
  },
  {
   "cell_type": "code",
   "execution_count": 9,
   "metadata": {
    "colab": {
     "base_uri": "https://localhost:8080/",
     "height": 34
    },
    "colab_type": "code",
    "id": "QtuN22303Hzc",
    "outputId": "f9bcf5cc-12c4-4d14-fd53-ab123c211e0a"
   },
   "outputs": [
    {
     "name": "stdout",
     "output_type": "stream",
     "text": [
      "30\n"
     ]
    }
   ],
   "source": [
    "print (s[2])"
   ]
  },
  {
   "cell_type": "markdown",
   "metadata": {
    "colab_type": "text",
    "id": "qSKjQbOU25XD"
   },
   "source": [
    "### Criação de uma `Series` com valores iguais"
   ]
  },
  {
   "cell_type": "code",
   "execution_count": 10,
   "metadata": {
    "colab": {
     "base_uri": "https://localhost:8080/",
     "height": 102
    },
    "colab_type": "code",
    "id": "-v1o21aM29OG",
    "outputId": "328ac08d-e7c0-4417-837c-761f6c21818d"
   },
   "outputs": [
    {
     "data": {
      "text/plain": [
       "0    9.7\n",
       "1    9.7\n",
       "2    9.7\n",
       "3    9.7\n",
       "dtype: float64"
      ]
     },
     "execution_count": 10,
     "metadata": {
      "tags": []
     },
     "output_type": "execute_result"
    }
   ],
   "source": [
    "pd.Series (9.7, range(4))"
   ]
  },
  {
   "cell_type": "markdown",
   "metadata": {
    "colab_type": "text",
    "id": "Yaj5vTop3eUy"
   },
   "source": [
    "### Estatísticas para uma `Series`\n",
    "\n",
    "Funções:\n",
    "\n",
    "*   `count`\n",
    "*   `mean`\n",
    "*   `min`\n",
    "*   `max`\n",
    "*   `std`\n",
    "\n",
    "Exemplos:\n",
    "\n"
   ]
  },
  {
   "cell_type": "code",
   "execution_count": 11,
   "metadata": {
    "colab": {
     "base_uri": "https://localhost:8080/",
     "height": 119
    },
    "colab_type": "code",
    "id": "ba8obC77h2pt",
    "outputId": "ce232551-9c3b-447b-d83a-0b17128a5bf5"
   },
   "outputs": [
    {
     "name": "stdout",
     "output_type": "stream",
     "text": [
      "0    10\n",
      "1    20\n",
      "2    30\n",
      "3    40\n",
      "4    50\n",
      "dtype: int64\n"
     ]
    }
   ],
   "source": [
    "print (s)"
   ]
  },
  {
   "cell_type": "code",
   "execution_count": 12,
   "metadata": {
    "colab": {
     "base_uri": "https://localhost:8080/",
     "height": 34
    },
    "colab_type": "code",
    "id": "wGzmZptF3y0-",
    "outputId": "589b7c15-d126-4fef-fa65-2783bba6e41c"
   },
   "outputs": [
    {
     "data": {
      "text/plain": [
       "5"
      ]
     },
     "execution_count": 12,
     "metadata": {
      "tags": []
     },
     "output_type": "execute_result"
    }
   ],
   "source": [
    "s.count()"
   ]
  },
  {
   "cell_type": "code",
   "execution_count": 13,
   "metadata": {
    "colab": {
     "base_uri": "https://localhost:8080/",
     "height": 34
    },
    "colab_type": "code",
    "id": "TjqubpN833LH",
    "outputId": "ffcbcc5d-ece1-4f7f-c6c6-5471c3503337"
   },
   "outputs": [
    {
     "data": {
      "text/plain": [
       "30.0"
      ]
     },
     "execution_count": 13,
     "metadata": {
      "tags": []
     },
     "output_type": "execute_result"
    }
   ],
   "source": [
    "s.mean()"
   ]
  },
  {
   "cell_type": "code",
   "execution_count": 14,
   "metadata": {
    "colab": {
     "base_uri": "https://localhost:8080/",
     "height": 34
    },
    "colab_type": "code",
    "id": "iW2u_XTP36p8",
    "outputId": "94cdc47d-cc83-4262-e3b5-53e3d0f4279c"
   },
   "outputs": [
    {
     "data": {
      "text/plain": [
       "10"
      ]
     },
     "execution_count": 14,
     "metadata": {
      "tags": []
     },
     "output_type": "execute_result"
    }
   ],
   "source": [
    "s.min()"
   ]
  },
  {
   "cell_type": "code",
   "execution_count": 15,
   "metadata": {
    "colab": {
     "base_uri": "https://localhost:8080/",
     "height": 34
    },
    "colab_type": "code",
    "id": "8Tyj_jON39Id",
    "outputId": "556d7d12-865b-4d73-bb91-a2ffc44b39e0"
   },
   "outputs": [
    {
     "data": {
      "text/plain": [
       "50"
      ]
     },
     "execution_count": 15,
     "metadata": {
      "tags": []
     },
     "output_type": "execute_result"
    }
   ],
   "source": [
    "s.max()"
   ]
  },
  {
   "cell_type": "code",
   "execution_count": 16,
   "metadata": {
    "colab": {
     "base_uri": "https://localhost:8080/",
     "height": 34
    },
    "colab_type": "code",
    "id": "dEXsANpI3_Mo",
    "outputId": "353049e9-5086-4a55-e970-413f1b5ab1ba"
   },
   "outputs": [
    {
     "data": {
      "text/plain": [
       "15.811388300841896"
      ]
     },
     "execution_count": 16,
     "metadata": {
      "tags": []
     },
     "output_type": "execute_result"
    }
   ],
   "source": [
    "s.std()"
   ]
  },
  {
   "cell_type": "markdown",
   "metadata": {
    "colab_type": "text",
    "id": "8IuguYWy4FoV"
   },
   "source": [
    "As funções de estatística podem ser resumidas com `describe()`"
   ]
  },
  {
   "cell_type": "code",
   "execution_count": 17,
   "metadata": {
    "colab": {
     "base_uri": "https://localhost:8080/",
     "height": 170
    },
    "colab_type": "code",
    "id": "ANoJsm0J4Lqe",
    "outputId": "30173ab2-bb03-4d83-9722-ac0aaae12f57"
   },
   "outputs": [
    {
     "data": {
      "text/plain": [
       "count     5.000000\n",
       "mean     30.000000\n",
       "std      15.811388\n",
       "min      10.000000\n",
       "25%      20.000000\n",
       "50%      30.000000\n",
       "75%      40.000000\n",
       "max      50.000000\n",
       "dtype: float64"
      ]
     },
     "execution_count": 17,
     "metadata": {
      "tags": []
     },
     "output_type": "execute_result"
    }
   ],
   "source": [
    "s.describe()"
   ]
  },
  {
   "cell_type": "markdown",
   "metadata": {
    "colab_type": "text",
    "id": "oOqArmW9HIO-"
   },
   "source": [
    "### Criação de índices customizados"
   ]
  },
  {
   "cell_type": "markdown",
   "metadata": {
    "colab_type": "text",
    "id": "Se28dCUh5IwN"
   },
   "source": [
    "*   `Series` não tem o nome de uma coluna.\n",
    "*   Porém, é possível nomear os índices (*index*)."
   ]
  },
  {
   "cell_type": "markdown",
   "metadata": {
    "colab_type": "text",
    "id": "om1cC1uI5V1E"
   },
   "source": [
    "Exemplo:"
   ]
  },
  {
   "cell_type": "code",
   "execution_count": 19,
   "metadata": {
    "colab": {},
    "colab_type": "code",
    "id": "fgDeHD1rHT--"
   },
   "outputs": [],
   "source": [
    "s_custom = pd.Series ([10, 20, 30], index=['1a dezena', '2a dezena', '3a dezena'])"
   ]
  },
  {
   "cell_type": "code",
   "execution_count": 20,
   "metadata": {
    "colab": {
     "base_uri": "https://localhost:8080/",
     "height": 85
    },
    "colab_type": "code",
    "id": "yCinkEV-5dhn",
    "outputId": "ba5366f6-6f43-44cc-9dc1-2c96d4be3859"
   },
   "outputs": [
    {
     "name": "stdout",
     "output_type": "stream",
     "text": [
      "1a dezena    10\n",
      "2a dezena    20\n",
      "3a dezena    30\n",
      "dtype: int64\n"
     ]
    }
   ],
   "source": [
    "print (s_custom)"
   ]
  },
  {
   "cell_type": "markdown",
   "metadata": {
    "colab_type": "text",
    "id": "xfve-uDB50vO"
   },
   "source": [
    "É possível acessar os elementos individualmente de várias formas:"
   ]
  },
  {
   "cell_type": "code",
   "execution_count": 21,
   "metadata": {
    "colab": {
     "base_uri": "https://localhost:8080/",
     "height": 34
    },
    "colab_type": "code",
    "id": "ecMuzrPo5ru-",
    "outputId": "2ce4047a-16a7-4ca0-bdea-58c4a38764e1"
   },
   "outputs": [
    {
     "name": "stdout",
     "output_type": "stream",
     "text": [
      "30\n"
     ]
    }
   ],
   "source": [
    "print (s_custom[2])"
   ]
  },
  {
   "cell_type": "code",
   "execution_count": 29,
   "metadata": {
    "colab": {
     "base_uri": "https://localhost:8080/",
     "height": 34
    },
    "colab_type": "code",
    "id": "Gn_OHDhhRlZT",
    "outputId": "804f742a-36f4-4fbc-8439-41ed7985b693"
   },
   "outputs": [
    {
     "name": "stdout",
     "output_type": "stream",
     "text": [
      "20 30\n"
     ]
    }
   ],
   "source": [
    "print (s_custom[1] , (s_custom[2]))"
   ]
  },
  {
   "cell_type": "code",
   "execution_count": 31,
   "metadata": {
    "colab": {
     "base_uri": "https://localhost:8080/",
     "height": 34
    },
    "colab_type": "code",
    "id": "kFX5g0vT59gV",
    "outputId": "8313d9a8-9930-4eb1-edcc-f2cadbc3ab70"
   },
   "outputs": [
    {
     "name": "stdout",
     "output_type": "stream",
     "text": [
      "30\n"
     ]
    }
   ],
   "source": [
    "print (s_custom['3a dezena'])"
   ]
  },
  {
   "cell_type": "markdown",
   "metadata": {
    "colab_type": "text",
    "id": "IoUtSKexHrcN"
   },
   "source": [
    "### Como seria possível criar uma `Series` com duas colunas?\n",
    "\n"
   ]
  },
  {
   "cell_type": "code",
   "execution_count": 32,
   "metadata": {
    "colab": {
     "base_uri": "https://localhost:8080/",
     "height": 102
    },
    "colab_type": "code",
    "id": "xKyJPFUhHy2D",
    "outputId": "fbeeb180-1f37-40ab-e392-e6ccf045d02a"
   },
   "outputs": [
    {
     "data": {
      "text/plain": [
       "15    10\n",
       "25    20\n",
       "35    30\n",
       "45    40\n",
       "dtype: int64"
      ]
     },
     "execution_count": 32,
     "metadata": {
      "tags": []
     },
     "output_type": "execute_result"
    }
   ],
   "source": [
    "pd.Series ([10, 20, 30, 40], [15, 25, 35, 45])"
   ]
  },
  {
   "cell_type": "markdown",
   "metadata": {
    "colab_type": "text",
    "id": "34qIjj3AC1Qi"
   },
   "source": [
    "# `DataFrame`"
   ]
  },
  {
   "cell_type": "markdown",
   "metadata": {
    "colab_type": "text",
    "id": "nTue1P9XDD1o"
   },
   "source": [
    "### Características:\n",
    "\n",
    "\n",
    "*   Estrutura bidimensional.\n",
    "*   É uma **tabela**.\n",
    "*   Cada coluna de um `DataFrame` é uma `Series`.\n",
    "*   Cada coluna pode ser de um tipo diferente.\n",
    "\n"
   ]
  },
  {
   "cell_type": "markdown",
   "metadata": {
    "colab_type": "text",
    "id": "d-YQYNrFDM4D"
   },
   "source": [
    "### Criação um `DataFrame` a partir de um dicionário."
   ]
  },
  {
   "cell_type": "markdown",
   "metadata": {
    "colab_type": "text",
    "id": "nSwN1B9H7cMq"
   },
   "source": [
    "Exemplo 1:"
   ]
  },
  {
   "cell_type": "code",
   "execution_count": 33,
   "metadata": {
    "colab": {},
    "colab_type": "code",
    "id": "UsHhziHn7umN"
   },
   "outputs": [],
   "source": [
    "dic1 = {'ESTADO': ['Amazonas', 'Amapá', 'Acre'], 'SIGLA': ['AM', 'AP', 'AC'], 'CAPITAL': ['Manaus', 'Macapá', 'Rio Branco']} "
   ]
  },
  {
   "cell_type": "code",
   "execution_count": 38,
   "metadata": {
    "colab": {
     "base_uri": "https://localhost:8080/",
     "height": 142
    },
    "colab_type": "code",
    "id": "0QZSJ5fVC-FV",
    "outputId": "55882263-b165-4d09-a42c-004839b2347c"
   },
   "outputs": [
    {
     "data": {
      "text/html": [
       "<div>\n",
       "<style scoped>\n",
       "    .dataframe tbody tr th:only-of-type {\n",
       "        vertical-align: middle;\n",
       "    }\n",
       "\n",
       "    .dataframe tbody tr th {\n",
       "        vertical-align: top;\n",
       "    }\n",
       "\n",
       "    .dataframe thead th {\n",
       "        text-align: right;\n",
       "    }\n",
       "</style>\n",
       "<table border=\"1\" class=\"dataframe\">\n",
       "  <thead>\n",
       "    <tr style=\"text-align: right;\">\n",
       "      <th></th>\n",
       "      <th>ESTADO</th>\n",
       "      <th>SIGLA</th>\n",
       "      <th>CAPITAL</th>\n",
       "    </tr>\n",
       "  </thead>\n",
       "  <tbody>\n",
       "    <tr>\n",
       "      <th>0</th>\n",
       "      <td>Amazonas</td>\n",
       "      <td>AM</td>\n",
       "      <td>Manaus</td>\n",
       "    </tr>\n",
       "    <tr>\n",
       "      <th>1</th>\n",
       "      <td>Amapá</td>\n",
       "      <td>AP</td>\n",
       "      <td>Macapá</td>\n",
       "    </tr>\n",
       "    <tr>\n",
       "      <th>2</th>\n",
       "      <td>Acre</td>\n",
       "      <td>AC</td>\n",
       "      <td>Rio Branco</td>\n",
       "    </tr>\n",
       "  </tbody>\n",
       "</table>\n",
       "</div>"
      ],
      "text/plain": [
       "     ESTADO SIGLA     CAPITAL\n",
       "0  Amazonas    AM      Manaus\n",
       "1     Amapá    AP      Macapá\n",
       "2      Acre    AC  Rio Branco"
      ]
     },
     "execution_count": 38,
     "metadata": {
      "tags": []
     },
     "output_type": "execute_result"
    }
   ],
   "source": [
    "#@title Default title text\n",
    "pd.DataFrame(dic1)"
   ]
  },
  {
   "cell_type": "code",
   "execution_count": 37,
   "metadata": {
    "colab": {
     "base_uri": "https://localhost:8080/",
     "height": 54
    },
    "colab_type": "code",
    "id": "iw9m2PAVTEmv",
    "outputId": "95aabbd5-f0e8-46fd-8a2c-d6ef4efd251b"
   },
   "outputs": [
    {
     "name": "stdout",
     "output_type": "stream",
     "text": [
      "{'ESTADO': ['Amazonas', 'Amapá', 'Acre'], 'SIGLA': ['AM', 'AP', 'AC'], 'CAPITAL': ['Manaus', 'Macapá', 'Rio Branco']}\n"
     ]
    }
   ],
   "source": [
    "print(dic1)"
   ]
  },
  {
   "cell_type": "markdown",
   "metadata": {
    "colab_type": "text",
    "id": "JfANyzVRDxYD"
   },
   "source": [
    "Exemplo 2:"
   ]
  },
  {
   "cell_type": "code",
   "execution_count": null,
   "metadata": {
    "colab": {},
    "colab_type": "code",
    "id": "JS8m2MYWEGPj"
   },
   "outputs": [],
   "source": [
    "pd.DataFrame({'ESTADO': ['Amazonas', 'Amapá', 'Acre'], 'POPULACAO': ['4144597', '845731', '881935']})"
   ]
  },
  {
   "cell_type": "markdown",
   "metadata": {
    "colab_type": "text",
    "id": "HDP1WeylEssA"
   },
   "source": [
    "### Construtor DataFrame\n",
    "\n",
    "```\n",
    "pd.DataFrame()\n",
    "```\n",
    "\n",
    "É a forma padrão de se construir um novo `DataFrame`.\n",
    "\n",
    "Sintaxe:\n",
    "\n",
    "\n",
    "*   É um dicionário.\n",
    "*   As chaves do dicionário são as colunas.\n",
    "*   Os valores são a lista de entrada.\n",
    "\n",
    "\n",
    "\n"
   ]
  },
  {
   "cell_type": "markdown",
   "metadata": {
    "colab_type": "text",
    "id": "IP2HQZ65FmFX"
   },
   "source": [
    "### Características do construtor:\n",
    "\n",
    "*   O construtor do tipo `DataFrame` atribui valores sequenciais.\n",
    "*   Estes valores são conhecidos como índices (*index*).\n",
    "*   Porém, é possível personalizar (customizar) os valores dos índices.\n",
    "\n"
   ]
  },
  {
   "cell_type": "markdown",
   "metadata": {
    "colab_type": "text",
    "id": "olvmiF8FGLLG"
   },
   "source": [
    "### Customização do índice:"
   ]
  },
  {
   "cell_type": "markdown",
   "metadata": {
    "colab_type": "text",
    "id": "hbFQZ9yt9Que"
   },
   "source": [
    "Exemplo:"
   ]
  },
  {
   "cell_type": "code",
   "execution_count": 39,
   "metadata": {
    "colab": {},
    "colab_type": "code",
    "id": "8qe3-oIgGYkU"
   },
   "outputs": [],
   "source": [
    "dic2 = pd.DataFrame({'ESTADO': ['Amazonas', 'Amapá', 'Acre'], \n",
    "              'POPULACAO': ['4144597', '845731', '881935']},\n",
    "             index=['AM', 'AP', 'AC'])"
   ]
  },
  {
   "cell_type": "code",
   "execution_count": 40,
   "metadata": {
    "colab": {
     "base_uri": "https://localhost:8080/",
     "height": 142
    },
    "colab_type": "code",
    "id": "nPxKq2rX9zvM",
    "outputId": "dec05b60-baaa-49b8-eb8f-83add9412246"
   },
   "outputs": [
    {
     "data": {
      "text/html": [
       "<div>\n",
       "<style scoped>\n",
       "    .dataframe tbody tr th:only-of-type {\n",
       "        vertical-align: middle;\n",
       "    }\n",
       "\n",
       "    .dataframe tbody tr th {\n",
       "        vertical-align: top;\n",
       "    }\n",
       "\n",
       "    .dataframe thead th {\n",
       "        text-align: right;\n",
       "    }\n",
       "</style>\n",
       "<table border=\"1\" class=\"dataframe\">\n",
       "  <thead>\n",
       "    <tr style=\"text-align: right;\">\n",
       "      <th></th>\n",
       "      <th>ESTADO</th>\n",
       "      <th>POPULACAO</th>\n",
       "    </tr>\n",
       "  </thead>\n",
       "  <tbody>\n",
       "    <tr>\n",
       "      <th>AM</th>\n",
       "      <td>Amazonas</td>\n",
       "      <td>4144597</td>\n",
       "    </tr>\n",
       "    <tr>\n",
       "      <th>AP</th>\n",
       "      <td>Amapá</td>\n",
       "      <td>845731</td>\n",
       "    </tr>\n",
       "    <tr>\n",
       "      <th>AC</th>\n",
       "      <td>Acre</td>\n",
       "      <td>881935</td>\n",
       "    </tr>\n",
       "  </tbody>\n",
       "</table>\n",
       "</div>"
      ],
      "text/plain": [
       "      ESTADO POPULACAO\n",
       "AM  Amazonas   4144597\n",
       "AP     Amapá    845731\n",
       "AC      Acre    881935"
      ]
     },
     "execution_count": 40,
     "metadata": {
      "tags": []
     },
     "output_type": "execute_result"
    }
   ],
   "source": [
    "dic2"
   ]
  },
  {
   "cell_type": "markdown",
   "metadata": {
    "colab_type": "text",
    "id": "dztmgyBs9lUH"
   },
   "source": [
    "### Acessando elementos do `DataFrame`"
   ]
  },
  {
   "cell_type": "markdown",
   "metadata": {
    "colab_type": "text",
    "id": "d2uOU2Qv-B7H"
   },
   "source": [
    "Exemplo 1:"
   ]
  },
  {
   "cell_type": "code",
   "execution_count": 41,
   "metadata": {
    "colab": {
     "base_uri": "https://localhost:8080/",
     "height": 85
    },
    "colab_type": "code",
    "id": "S-UJMMAg9sCk",
    "outputId": "8e1a573c-cc21-48aa-eaf8-05731838b852"
   },
   "outputs": [
    {
     "data": {
      "text/plain": [
       "AM    Amazonas\n",
       "AP       Amapá\n",
       "AC        Acre\n",
       "Name: ESTADO, dtype: object"
      ]
     },
     "execution_count": 41,
     "metadata": {
      "tags": []
     },
     "output_type": "execute_result"
    }
   ],
   "source": [
    "dic2['ESTADO']"
   ]
  },
  {
   "cell_type": "code",
   "execution_count": 47,
   "metadata": {
    "colab": {
     "base_uri": "https://localhost:8080/",
     "height": 85
    },
    "colab_type": "code",
    "id": "9RiCp9hZW47d",
    "outputId": "ca9181f4-967f-414f-90d1-dbc15c18b514"
   },
   "outputs": [
    {
     "data": {
      "text/plain": [
       "AM    Amazonas\n",
       "AP       Amapá\n",
       "AC        Acre\n",
       "Name: ESTADO, dtype: object"
      ]
     },
     "execution_count": 47,
     "metadata": {
      "tags": []
     },
     "output_type": "execute_result"
    }
   ],
   "source": [
    "dic2['ESTADO']"
   ]
  },
  {
   "cell_type": "markdown",
   "metadata": {
    "colab_type": "text",
    "id": "MlIqbK04-Dbk"
   },
   "source": [
    "Exemplo 2:"
   ]
  },
  {
   "cell_type": "code",
   "execution_count": 48,
   "metadata": {
    "colab": {
     "base_uri": "https://localhost:8080/",
     "height": 85
    },
    "colab_type": "code",
    "id": "1wQ29Sp_9_J4",
    "outputId": "47238ccc-380b-47f1-bbaa-7357aae3e7ad"
   },
   "outputs": [
    {
     "data": {
      "text/plain": [
       "AM    Amazonas\n",
       "AP       Amapá\n",
       "AC        Acre\n",
       "Name: ESTADO, dtype: object"
      ]
     },
     "execution_count": 48,
     "metadata": {
      "tags": []
     },
     "output_type": "execute_result"
    }
   ],
   "source": [
    "dic2.ESTADO"
   ]
  },
  {
   "cell_type": "markdown",
   "metadata": {
    "colab_type": "text",
    "id": "Zv9aSkbpITzy"
   },
   "source": [
    "### Seria possível criar um DataFrame com quantidades de linhas diferentes por coluna?"
   ]
  },
  {
   "cell_type": "code",
   "execution_count": 49,
   "metadata": {
    "colab": {
     "base_uri": "https://localhost:8080/",
     "height": 340
    },
    "colab_type": "code",
    "id": "sEyhBsmaIcyN",
    "outputId": "82b9b97c-dab8-4bc2-f518-b3d5b9fd732c"
   },
   "outputs": [
    {
     "ename": "ValueError",
     "evalue": "ignored",
     "output_type": "error",
     "traceback": [
      "\u001b[0;31m---------------------------------------------------------------------------\u001b[0m",
      "\u001b[0;31mValueError\u001b[0m                                Traceback (most recent call last)",
      "\u001b[0;32m<ipython-input-49-52ff3e604577>\u001b[0m in \u001b[0;36m<module>\u001b[0;34m()\u001b[0m\n\u001b[0;32m----> 1\u001b[0;31m \u001b[0mpd\u001b[0m\u001b[0;34m.\u001b[0m\u001b[0mDataFrame\u001b[0m\u001b[0;34m(\u001b[0m\u001b[0;34m{\u001b[0m\u001b[0;34m'ESTADO'\u001b[0m\u001b[0;34m:\u001b[0m \u001b[0;34m[\u001b[0m\u001b[0;34m'Amazonas'\u001b[0m\u001b[0;34m,\u001b[0m \u001b[0;34m'Amapá'\u001b[0m\u001b[0;34m,\u001b[0m \u001b[0;34m'Acre'\u001b[0m\u001b[0;34m]\u001b[0m\u001b[0;34m,\u001b[0m \u001b[0;34m'POPULACAO'\u001b[0m\u001b[0;34m:\u001b[0m \u001b[0;34m[\u001b[0m\u001b[0;34m'4144597'\u001b[0m\u001b[0;34m,\u001b[0m \u001b[0;34m'881935'\u001b[0m\u001b[0;34m]\u001b[0m\u001b[0;34m}\u001b[0m\u001b[0;34m)\u001b[0m\u001b[0;34m\u001b[0m\u001b[0;34m\u001b[0m\u001b[0m\n\u001b[0m",
      "\u001b[0;32m/usr/local/lib/python3.6/dist-packages/pandas/core/frame.py\u001b[0m in \u001b[0;36m__init__\u001b[0;34m(self, data, index, columns, dtype, copy)\u001b[0m\n\u001b[1;32m    433\u001b[0m             )\n\u001b[1;32m    434\u001b[0m         \u001b[0;32melif\u001b[0m \u001b[0misinstance\u001b[0m\u001b[0;34m(\u001b[0m\u001b[0mdata\u001b[0m\u001b[0;34m,\u001b[0m \u001b[0mdict\u001b[0m\u001b[0;34m)\u001b[0m\u001b[0;34m:\u001b[0m\u001b[0;34m\u001b[0m\u001b[0;34m\u001b[0m\u001b[0m\n\u001b[0;32m--> 435\u001b[0;31m             \u001b[0mmgr\u001b[0m \u001b[0;34m=\u001b[0m \u001b[0minit_dict\u001b[0m\u001b[0;34m(\u001b[0m\u001b[0mdata\u001b[0m\u001b[0;34m,\u001b[0m \u001b[0mindex\u001b[0m\u001b[0;34m,\u001b[0m \u001b[0mcolumns\u001b[0m\u001b[0;34m,\u001b[0m \u001b[0mdtype\u001b[0m\u001b[0;34m=\u001b[0m\u001b[0mdtype\u001b[0m\u001b[0;34m)\u001b[0m\u001b[0;34m\u001b[0m\u001b[0;34m\u001b[0m\u001b[0m\n\u001b[0m\u001b[1;32m    436\u001b[0m         \u001b[0;32melif\u001b[0m \u001b[0misinstance\u001b[0m\u001b[0;34m(\u001b[0m\u001b[0mdata\u001b[0m\u001b[0;34m,\u001b[0m \u001b[0mma\u001b[0m\u001b[0;34m.\u001b[0m\u001b[0mMaskedArray\u001b[0m\u001b[0;34m)\u001b[0m\u001b[0;34m:\u001b[0m\u001b[0;34m\u001b[0m\u001b[0;34m\u001b[0m\u001b[0m\n\u001b[1;32m    437\u001b[0m             \u001b[0;32mimport\u001b[0m \u001b[0mnumpy\u001b[0m\u001b[0;34m.\u001b[0m\u001b[0mma\u001b[0m\u001b[0;34m.\u001b[0m\u001b[0mmrecords\u001b[0m \u001b[0;32mas\u001b[0m \u001b[0mmrecords\u001b[0m\u001b[0;34m\u001b[0m\u001b[0;34m\u001b[0m\u001b[0m\n",
      "\u001b[0;32m/usr/local/lib/python3.6/dist-packages/pandas/core/internals/construction.py\u001b[0m in \u001b[0;36minit_dict\u001b[0;34m(data, index, columns, dtype)\u001b[0m\n\u001b[1;32m    252\u001b[0m             \u001b[0marr\u001b[0m \u001b[0;32mif\u001b[0m \u001b[0;32mnot\u001b[0m \u001b[0mis_datetime64tz_dtype\u001b[0m\u001b[0;34m(\u001b[0m\u001b[0marr\u001b[0m\u001b[0;34m)\u001b[0m \u001b[0;32melse\u001b[0m \u001b[0marr\u001b[0m\u001b[0;34m.\u001b[0m\u001b[0mcopy\u001b[0m\u001b[0;34m(\u001b[0m\u001b[0;34m)\u001b[0m \u001b[0;32mfor\u001b[0m \u001b[0marr\u001b[0m \u001b[0;32min\u001b[0m \u001b[0marrays\u001b[0m\u001b[0;34m\u001b[0m\u001b[0;34m\u001b[0m\u001b[0m\n\u001b[1;32m    253\u001b[0m         ]\n\u001b[0;32m--> 254\u001b[0;31m     \u001b[0;32mreturn\u001b[0m \u001b[0marrays_to_mgr\u001b[0m\u001b[0;34m(\u001b[0m\u001b[0marrays\u001b[0m\u001b[0;34m,\u001b[0m \u001b[0mdata_names\u001b[0m\u001b[0;34m,\u001b[0m \u001b[0mindex\u001b[0m\u001b[0;34m,\u001b[0m \u001b[0mcolumns\u001b[0m\u001b[0;34m,\u001b[0m \u001b[0mdtype\u001b[0m\u001b[0;34m=\u001b[0m\u001b[0mdtype\u001b[0m\u001b[0;34m)\u001b[0m\u001b[0;34m\u001b[0m\u001b[0;34m\u001b[0m\u001b[0m\n\u001b[0m\u001b[1;32m    255\u001b[0m \u001b[0;34m\u001b[0m\u001b[0m\n\u001b[1;32m    256\u001b[0m \u001b[0;34m\u001b[0m\u001b[0m\n",
      "\u001b[0;32m/usr/local/lib/python3.6/dist-packages/pandas/core/internals/construction.py\u001b[0m in \u001b[0;36marrays_to_mgr\u001b[0;34m(arrays, arr_names, index, columns, dtype)\u001b[0m\n\u001b[1;32m     62\u001b[0m     \u001b[0;31m# figure out the index, if necessary\u001b[0m\u001b[0;34m\u001b[0m\u001b[0;34m\u001b[0m\u001b[0;34m\u001b[0m\u001b[0m\n\u001b[1;32m     63\u001b[0m     \u001b[0;32mif\u001b[0m \u001b[0mindex\u001b[0m \u001b[0;32mis\u001b[0m \u001b[0;32mNone\u001b[0m\u001b[0;34m:\u001b[0m\u001b[0;34m\u001b[0m\u001b[0;34m\u001b[0m\u001b[0m\n\u001b[0;32m---> 64\u001b[0;31m         \u001b[0mindex\u001b[0m \u001b[0;34m=\u001b[0m \u001b[0mextract_index\u001b[0m\u001b[0;34m(\u001b[0m\u001b[0marrays\u001b[0m\u001b[0;34m)\u001b[0m\u001b[0;34m\u001b[0m\u001b[0;34m\u001b[0m\u001b[0m\n\u001b[0m\u001b[1;32m     65\u001b[0m     \u001b[0;32melse\u001b[0m\u001b[0;34m:\u001b[0m\u001b[0;34m\u001b[0m\u001b[0;34m\u001b[0m\u001b[0m\n\u001b[1;32m     66\u001b[0m         \u001b[0mindex\u001b[0m \u001b[0;34m=\u001b[0m \u001b[0mensure_index\u001b[0m\u001b[0;34m(\u001b[0m\u001b[0mindex\u001b[0m\u001b[0;34m)\u001b[0m\u001b[0;34m\u001b[0m\u001b[0;34m\u001b[0m\u001b[0m\n",
      "\u001b[0;32m/usr/local/lib/python3.6/dist-packages/pandas/core/internals/construction.py\u001b[0m in \u001b[0;36mextract_index\u001b[0;34m(data)\u001b[0m\n\u001b[1;32m    363\u001b[0m             \u001b[0mlengths\u001b[0m \u001b[0;34m=\u001b[0m \u001b[0mlist\u001b[0m\u001b[0;34m(\u001b[0m\u001b[0mset\u001b[0m\u001b[0;34m(\u001b[0m\u001b[0mraw_lengths\u001b[0m\u001b[0;34m)\u001b[0m\u001b[0;34m)\u001b[0m\u001b[0;34m\u001b[0m\u001b[0;34m\u001b[0m\u001b[0m\n\u001b[1;32m    364\u001b[0m             \u001b[0;32mif\u001b[0m \u001b[0mlen\u001b[0m\u001b[0;34m(\u001b[0m\u001b[0mlengths\u001b[0m\u001b[0;34m)\u001b[0m \u001b[0;34m>\u001b[0m \u001b[0;36m1\u001b[0m\u001b[0;34m:\u001b[0m\u001b[0;34m\u001b[0m\u001b[0;34m\u001b[0m\u001b[0m\n\u001b[0;32m--> 365\u001b[0;31m                 \u001b[0;32mraise\u001b[0m \u001b[0mValueError\u001b[0m\u001b[0;34m(\u001b[0m\u001b[0;34m\"arrays must all be same length\"\u001b[0m\u001b[0;34m)\u001b[0m\u001b[0;34m\u001b[0m\u001b[0;34m\u001b[0m\u001b[0m\n\u001b[0m\u001b[1;32m    366\u001b[0m \u001b[0;34m\u001b[0m\u001b[0m\n\u001b[1;32m    367\u001b[0m             \u001b[0;32mif\u001b[0m \u001b[0mhave_dicts\u001b[0m\u001b[0;34m:\u001b[0m\u001b[0;34m\u001b[0m\u001b[0;34m\u001b[0m\u001b[0m\n",
      "\u001b[0;31mValueError\u001b[0m: arrays must all be same length"
     ]
    }
   ],
   "source": [
    "pd.DataFrame({'ESTADO': ['Amazonas', 'Amapá', 'Acre'], 'POPULACAO': ['4144597', '881935']})"
   ]
  },
  {
   "cell_type": "markdown",
   "metadata": {
    "colab_type": "text",
    "id": "Wh91QvTSWW9V"
   },
   "source": [
    "# Leitura de arquivos"
   ]
  },
  {
   "cell_type": "markdown",
   "metadata": {
    "colab_type": "text",
    "id": "9QbKfiiKWbVm"
   },
   "source": [
    "### Características gerais sobre a leitura de arquivos:\n",
    "\n",
    "\n",
    "\n",
    "*   Na prática, iremos trabalhar com dados já existentes.\n",
    "*   Existem vários formatos de arquivos.\n",
    "*   O formato CSV é um dos formatos mais comuns.\n",
    "*   Um arquivo CSV é uma tabela cujos valores estão separados por vírgulas (*Comma-Separated Values*)."
   ]
  },
  {
   "cell_type": "markdown",
   "metadata": {
    "colab_type": "text",
    "id": "PoOr6gbgXCuV"
   },
   "source": [
    "### Leitura de arquivos CSV em Pandas como um `DataFrame`:"
   ]
  },
  {
   "cell_type": "markdown",
   "metadata": {
    "colab_type": "text",
    "id": "KtTmYNVVkOFg"
   },
   "source": [
    "Comando padrão:\n",
    "\n",
    "`pd.read_csv()`"
   ]
  },
  {
   "cell_type": "markdown",
   "metadata": {
    "colab_type": "text",
    "id": "N2I0SYsNXh3x"
   },
   "source": [
    "Exemplo:"
   ]
  },
  {
   "cell_type": "code",
   "execution_count": 50,
   "metadata": {
    "colab": {},
    "colab_type": "code",
    "id": "znr68k-pXj_G"
   },
   "outputs": [],
   "source": [
    "dados = pd.read_csv(\"http://tiagodemelo.info/datasets/dados-curso.csv\")"
   ]
  },
  {
   "cell_type": "markdown",
   "metadata": {
    "colab_type": "text",
    "id": "bKCrNpVGXytj"
   },
   "source": [
    "### Atributo `shape` \n",
    "\n",
    "Permite verificar o tamanho dos dados."
   ]
  },
  {
   "cell_type": "markdown",
   "metadata": {
    "colab_type": "text",
    "id": "C5GIn97oYES-"
   },
   "source": [
    "Exemplo:"
   ]
  },
  {
   "cell_type": "code",
   "execution_count": 52,
   "metadata": {
    "colab": {
     "base_uri": "https://localhost:8080/",
     "height": 34
    },
    "colab_type": "code",
    "id": "TgT_he5nYHc-",
    "outputId": "4a53a528-66a1-4765-be6a-61fe78d0fa58"
   },
   "outputs": [
    {
     "data": {
      "text/plain": [
       "(500, 9)"
      ]
     },
     "execution_count": 52,
     "metadata": {
      "tags": []
     },
     "output_type": "execute_result"
    }
   ],
   "source": [
    "dados.shape"
   ]
  },
  {
   "cell_type": "markdown",
   "metadata": {
    "colab_type": "text",
    "id": "GqXrD1ORYRsF"
   },
   "source": [
    "### Comando `head`\n",
    "\n",
    "Podemos ter uma noção do conjunto de dados.\n",
    "\n"
   ]
  },
  {
   "cell_type": "markdown",
   "metadata": {
    "colab_type": "text",
    "id": "12zdtI44YfAc"
   },
   "source": [
    "Exemplo:"
   ]
  },
  {
   "cell_type": "code",
   "execution_count": 54,
   "metadata": {
    "colab": {
     "base_uri": "https://localhost:8080/",
     "height": 374
    },
    "colab_type": "code",
    "id": "NgqrIApwYhLL",
    "outputId": "8fa946b7-9d7d-43c4-b9b3-73173094b679"
   },
   "outputs": [
    {
     "data": {
      "text/html": [
       "<div>\n",
       "<style scoped>\n",
       "    .dataframe tbody tr th:only-of-type {\n",
       "        vertical-align: middle;\n",
       "    }\n",
       "\n",
       "    .dataframe tbody tr th {\n",
       "        vertical-align: top;\n",
       "    }\n",
       "\n",
       "    .dataframe thead th {\n",
       "        text-align: right;\n",
       "    }\n",
       "</style>\n",
       "<table border=\"1\" class=\"dataframe\">\n",
       "  <thead>\n",
       "    <tr style=\"text-align: right;\">\n",
       "      <th></th>\n",
       "      <th>data</th>\n",
       "      <th>texto</th>\n",
       "      <th>retweet</th>\n",
       "      <th>idioma</th>\n",
       "      <th>lugar</th>\n",
       "      <th>pais</th>\n",
       "      <th>sigla</th>\n",
       "      <th>latitude</th>\n",
       "      <th>longitude</th>\n",
       "    </tr>\n",
       "  </thead>\n",
       "  <tbody>\n",
       "    <tr>\n",
       "      <th>0</th>\n",
       "      <td>2020-05-23 00:21:14</td>\n",
       "      <td>Para voltar tudo ao normal, você precisa fazer...</td>\n",
       "      <td>0</td>\n",
       "      <td>pt</td>\n",
       "      <td>Rio das Ostras</td>\n",
       "      <td>Brazil</td>\n",
       "      <td>BR</td>\n",
       "      <td>-41.937900</td>\n",
       "      <td>-22.522600</td>\n",
       "    </tr>\n",
       "    <tr>\n",
       "      <th>1</th>\n",
       "      <td>2020-03-22 22:57:51</td>\n",
       "      <td>14.245 – O que é a hidroxicloroquina? https://...</td>\n",
       "      <td>0</td>\n",
       "      <td>pt</td>\n",
       "      <td>Sao Paulo</td>\n",
       "      <td>Brazil</td>\n",
       "      <td>BR</td>\n",
       "      <td>-46.674739</td>\n",
       "      <td>-23.606067</td>\n",
       "    </tr>\n",
       "    <tr>\n",
       "      <th>2</th>\n",
       "      <td>2020-04-14 00:11:33</td>\n",
       "      <td>Quarta morte em Lar de Estarreja associada à C...</td>\n",
       "      <td>1</td>\n",
       "      <td>pt</td>\n",
       "      <td>Lisbon</td>\n",
       "      <td>Portugal</td>\n",
       "      <td>PT</td>\n",
       "      <td>-9.099043</td>\n",
       "      <td>38.747518</td>\n",
       "    </tr>\n",
       "    <tr>\n",
       "      <th>3</th>\n",
       "      <td>2020-05-25 20:45:43</td>\n",
       "      <td>COVID-19 |  Hospital municipal Tide Setúbal, n...</td>\n",
       "      <td>0</td>\n",
       "      <td>pt</td>\n",
       "      <td>Sao Paulo</td>\n",
       "      <td>Brazil</td>\n",
       "      <td>BR</td>\n",
       "      <td>-46.633300</td>\n",
       "      <td>-23.550000</td>\n",
       "    </tr>\n",
       "    <tr>\n",
       "      <th>4</th>\n",
       "      <td>2020-04-15 10:34:39</td>\n",
       "      <td>#cenasdocotidiano #santos #distanciamentosocia...</td>\n",
       "      <td>0</td>\n",
       "      <td>pt</td>\n",
       "      <td>Santos</td>\n",
       "      <td>Brazil</td>\n",
       "      <td>BR</td>\n",
       "      <td>-46.293700</td>\n",
       "      <td>-23.975947</td>\n",
       "    </tr>\n",
       "  </tbody>\n",
       "</table>\n",
       "</div>"
      ],
      "text/plain": [
       "                  data  ...  longitude\n",
       "0  2020-05-23 00:21:14  ... -22.522600\n",
       "1  2020-03-22 22:57:51  ... -23.606067\n",
       "2  2020-04-14 00:11:33  ...  38.747518\n",
       "3  2020-05-25 20:45:43  ... -23.550000\n",
       "4  2020-04-15 10:34:39  ... -23.975947\n",
       "\n",
       "[5 rows x 9 columns]"
      ]
     },
     "execution_count": 54,
     "metadata": {
      "tags": []
     },
     "output_type": "execute_result"
    }
   ],
   "source": [
    "dados.head()"
   ]
  },
  {
   "cell_type": "markdown",
   "metadata": {
    "colab_type": "text",
    "id": "5DuN1XzUZYj5"
   },
   "source": [
    "### Manipulação de dados"
   ]
  },
  {
   "cell_type": "markdown",
   "metadata": {
    "colab_type": "text",
    "id": "3Qkqjt5eZfze"
   },
   "source": [
    "Pandas possui uma série de recursos que permite manipular os dados no formato de `DataFrame`."
   ]
  },
  {
   "cell_type": "code",
   "execution_count": 55,
   "metadata": {
    "colab": {
     "base_uri": "https://localhost:8080/",
     "height": 759
    },
    "colab_type": "code",
    "id": "eostPPisZzQf",
    "outputId": "66981ab7-de8c-443b-fdc6-672d95c78280"
   },
   "outputs": [
    {
     "data": {
      "text/html": [
       "<div>\n",
       "<style scoped>\n",
       "    .dataframe tbody tr th:only-of-type {\n",
       "        vertical-align: middle;\n",
       "    }\n",
       "\n",
       "    .dataframe tbody tr th {\n",
       "        vertical-align: top;\n",
       "    }\n",
       "\n",
       "    .dataframe thead th {\n",
       "        text-align: right;\n",
       "    }\n",
       "</style>\n",
       "<table border=\"1\" class=\"dataframe\">\n",
       "  <thead>\n",
       "    <tr style=\"text-align: right;\">\n",
       "      <th></th>\n",
       "      <th>data</th>\n",
       "      <th>texto</th>\n",
       "      <th>retweet</th>\n",
       "      <th>idioma</th>\n",
       "      <th>lugar</th>\n",
       "      <th>pais</th>\n",
       "      <th>sigla</th>\n",
       "      <th>latitude</th>\n",
       "      <th>longitude</th>\n",
       "    </tr>\n",
       "  </thead>\n",
       "  <tbody>\n",
       "    <tr>\n",
       "      <th>0</th>\n",
       "      <td>2020-05-23 00:21:14</td>\n",
       "      <td>Para voltar tudo ao normal, você precisa fazer...</td>\n",
       "      <td>0</td>\n",
       "      <td>pt</td>\n",
       "      <td>Rio das Ostras</td>\n",
       "      <td>Brazil</td>\n",
       "      <td>BR</td>\n",
       "      <td>-41.937900</td>\n",
       "      <td>-22.522600</td>\n",
       "    </tr>\n",
       "    <tr>\n",
       "      <th>1</th>\n",
       "      <td>2020-03-22 22:57:51</td>\n",
       "      <td>14.245 – O que é a hidroxicloroquina? https://...</td>\n",
       "      <td>0</td>\n",
       "      <td>pt</td>\n",
       "      <td>Sao Paulo</td>\n",
       "      <td>Brazil</td>\n",
       "      <td>BR</td>\n",
       "      <td>-46.674739</td>\n",
       "      <td>-23.606067</td>\n",
       "    </tr>\n",
       "    <tr>\n",
       "      <th>2</th>\n",
       "      <td>2020-04-14 00:11:33</td>\n",
       "      <td>Quarta morte em Lar de Estarreja associada à C...</td>\n",
       "      <td>1</td>\n",
       "      <td>pt</td>\n",
       "      <td>Lisbon</td>\n",
       "      <td>Portugal</td>\n",
       "      <td>PT</td>\n",
       "      <td>-9.099043</td>\n",
       "      <td>38.747518</td>\n",
       "    </tr>\n",
       "    <tr>\n",
       "      <th>3</th>\n",
       "      <td>2020-05-25 20:45:43</td>\n",
       "      <td>COVID-19 |  Hospital municipal Tide Setúbal, n...</td>\n",
       "      <td>0</td>\n",
       "      <td>pt</td>\n",
       "      <td>Sao Paulo</td>\n",
       "      <td>Brazil</td>\n",
       "      <td>BR</td>\n",
       "      <td>-46.633300</td>\n",
       "      <td>-23.550000</td>\n",
       "    </tr>\n",
       "    <tr>\n",
       "      <th>4</th>\n",
       "      <td>2020-04-15 10:34:39</td>\n",
       "      <td>#cenasdocotidiano #santos #distanciamentosocia...</td>\n",
       "      <td>0</td>\n",
       "      <td>pt</td>\n",
       "      <td>Santos</td>\n",
       "      <td>Brazil</td>\n",
       "      <td>BR</td>\n",
       "      <td>-46.293700</td>\n",
       "      <td>-23.975947</td>\n",
       "    </tr>\n",
       "    <tr>\n",
       "      <th>...</th>\n",
       "      <td>...</td>\n",
       "      <td>...</td>\n",
       "      <td>...</td>\n",
       "      <td>...</td>\n",
       "      <td>...</td>\n",
       "      <td>...</td>\n",
       "      <td>...</td>\n",
       "      <td>...</td>\n",
       "      <td>...</td>\n",
       "    </tr>\n",
       "    <tr>\n",
       "      <th>495</th>\n",
       "      <td>2020-04-07 16:14:13</td>\n",
       "      <td>O isolamento social também serve para mostrar ...</td>\n",
       "      <td>1</td>\n",
       "      <td>pt</td>\n",
       "      <td>Rio Branco</td>\n",
       "      <td>Brazil</td>\n",
       "      <td>BR</td>\n",
       "      <td>-67.859657</td>\n",
       "      <td>-9.932246</td>\n",
       "    </tr>\n",
       "    <tr>\n",
       "      <th>496</th>\n",
       "      <td>2020-03-26 18:02:28</td>\n",
       "      <td>Enquanto o mundo está atento ao covid 19 é o B...</td>\n",
       "      <td>0</td>\n",
       "      <td>pt</td>\n",
       "      <td>Rio de Janeiro</td>\n",
       "      <td>Brazil</td>\n",
       "      <td>BR</td>\n",
       "      <td>-43.358100</td>\n",
       "      <td>-22.942800</td>\n",
       "    </tr>\n",
       "    <tr>\n",
       "      <th>497</th>\n",
       "      <td>2020-03-18 05:28:16</td>\n",
       "      <td>#covid_19 #stayhome @ Toronto, Ontario https:/...</td>\n",
       "      <td>0</td>\n",
       "      <td>pt</td>\n",
       "      <td>Toronto</td>\n",
       "      <td>Canada</td>\n",
       "      <td>CA</td>\n",
       "      <td>-79.387200</td>\n",
       "      <td>43.648000</td>\n",
       "    </tr>\n",
       "    <tr>\n",
       "      <th>498</th>\n",
       "      <td>2020-03-03 21:27:11</td>\n",
       "      <td>Um vira-lata sem Coronavirus #joeviralata #dog...</td>\n",
       "      <td>0</td>\n",
       "      <td>pt</td>\n",
       "      <td>Sao Paulo</td>\n",
       "      <td>Brazil</td>\n",
       "      <td>BR</td>\n",
       "      <td>-46.633300</td>\n",
       "      <td>-23.550000</td>\n",
       "    </tr>\n",
       "    <tr>\n",
       "      <th>499</th>\n",
       "      <td>2020-01-21 13:18:03</td>\n",
       "      <td>Portugal já está a preparar-se para responder ...</td>\n",
       "      <td>1</td>\n",
       "      <td>pt</td>\n",
       "      <td>Lisbon</td>\n",
       "      <td>Portugal</td>\n",
       "      <td>PT</td>\n",
       "      <td>-9.099043</td>\n",
       "      <td>38.747518</td>\n",
       "    </tr>\n",
       "  </tbody>\n",
       "</table>\n",
       "<p>500 rows × 9 columns</p>\n",
       "</div>"
      ],
      "text/plain": [
       "                    data  ...  longitude\n",
       "0    2020-05-23 00:21:14  ... -22.522600\n",
       "1    2020-03-22 22:57:51  ... -23.606067\n",
       "2    2020-04-14 00:11:33  ...  38.747518\n",
       "3    2020-05-25 20:45:43  ... -23.550000\n",
       "4    2020-04-15 10:34:39  ... -23.975947\n",
       "..                   ...  ...        ...\n",
       "495  2020-04-07 16:14:13  ...  -9.932246\n",
       "496  2020-03-26 18:02:28  ... -22.942800\n",
       "497  2020-03-18 05:28:16  ...  43.648000\n",
       "498  2020-03-03 21:27:11  ... -23.550000\n",
       "499  2020-01-21 13:18:03  ...  38.747518\n",
       "\n",
       "[500 rows x 9 columns]"
      ]
     },
     "execution_count": 55,
     "metadata": {
      "tags": []
     },
     "output_type": "execute_result"
    }
   ],
   "source": [
    "dados"
   ]
  },
  {
   "cell_type": "markdown",
   "metadata": {
    "colab_type": "text",
    "id": "0jWjVuq2aGof"
   },
   "source": [
    "### As propriedades de um objeto podem ser acessadas como um atributo:"
   ]
  },
  {
   "cell_type": "markdown",
   "metadata": {
    "colab_type": "text",
    "id": "6lgsZ4JBabrp"
   },
   "source": [
    "Exemplo 1:"
   ]
  },
  {
   "cell_type": "code",
   "execution_count": 56,
   "metadata": {
    "colab": {
     "base_uri": "https://localhost:8080/",
     "height": 221
    },
    "colab_type": "code",
    "id": "fd9ZSQwBaeBL",
    "outputId": "eea90bd1-51cb-464c-c283-833499a4a461"
   },
   "outputs": [
    {
     "data": {
      "text/plain": [
       "0      Rio das Ostras\n",
       "1           Sao Paulo\n",
       "2              Lisbon\n",
       "3           Sao Paulo\n",
       "4              Santos\n",
       "            ...      \n",
       "495        Rio Branco\n",
       "496    Rio de Janeiro\n",
       "497           Toronto\n",
       "498         Sao Paulo\n",
       "499            Lisbon\n",
       "Name: lugar, Length: 500, dtype: object"
      ]
     },
     "execution_count": 56,
     "metadata": {
      "tags": []
     },
     "output_type": "execute_result"
    }
   ],
   "source": [
    "dados.lugar"
   ]
  },
  {
   "cell_type": "code",
   "execution_count": 57,
   "metadata": {
    "colab": {
     "base_uri": "https://localhost:8080/",
     "height": 221
    },
    "colab_type": "code",
    "id": "o5DpoyYrYB04",
    "outputId": "f59a5708-fb0b-412d-b5aa-6339daa04795"
   },
   "outputs": [
    {
     "data": {
      "text/plain": [
       "0      Para voltar tudo ao normal, você precisa fazer...\n",
       "1      14.245 – O que é a hidroxicloroquina? https://...\n",
       "2      Quarta morte em Lar de Estarreja associada à C...\n",
       "3      COVID-19 |  Hospital municipal Tide Setúbal, n...\n",
       "4      #cenasdocotidiano #santos #distanciamentosocia...\n",
       "                             ...                        \n",
       "495    O isolamento social também serve para mostrar ...\n",
       "496    Enquanto o mundo está atento ao covid 19 é o B...\n",
       "497    #covid_19 #stayhome @ Toronto, Ontario https:/...\n",
       "498    Um vira-lata sem Coronavirus #joeviralata #dog...\n",
       "499    Portugal já está a preparar-se para responder ...\n",
       "Name: texto, Length: 500, dtype: object"
      ]
     },
     "execution_count": 57,
     "metadata": {
      "tags": []
     },
     "output_type": "execute_result"
    }
   ],
   "source": [
    "dados.texto"
   ]
  },
  {
   "cell_type": "markdown",
   "metadata": {
    "colab_type": "text",
    "id": "vMOKQYP7auBT"
   },
   "source": [
    "Exemplo 2:"
   ]
  },
  {
   "cell_type": "code",
   "execution_count": 58,
   "metadata": {
    "colab": {
     "base_uri": "https://localhost:8080/",
     "height": 221
    },
    "colab_type": "code",
    "id": "ZBvkUBuaayTK",
    "outputId": "c2166bfa-821d-4d47-f47f-17a59d87a619"
   },
   "outputs": [
    {
     "data": {
      "text/plain": [
       "0      Rio das Ostras\n",
       "1           Sao Paulo\n",
       "2              Lisbon\n",
       "3           Sao Paulo\n",
       "4              Santos\n",
       "            ...      \n",
       "495        Rio Branco\n",
       "496    Rio de Janeiro\n",
       "497           Toronto\n",
       "498         Sao Paulo\n",
       "499            Lisbon\n",
       "Name: lugar, Length: 500, dtype: object"
      ]
     },
     "execution_count": 58,
     "metadata": {
      "tags": []
     },
     "output_type": "execute_result"
    }
   ],
   "source": [
    "dados['lugar']"
   ]
  },
  {
   "cell_type": "markdown",
   "metadata": {
    "colab_type": "text",
    "id": "1E9aaBM_bXAV"
   },
   "source": [
    "Exemplo 3:"
   ]
  },
  {
   "cell_type": "code",
   "execution_count": 59,
   "metadata": {
    "colab": {
     "base_uri": "https://localhost:8080/",
     "height": 35
    },
    "colab_type": "code",
    "id": "lnTdfyIXbYnh",
    "outputId": "de655a18-032e-41d5-b0b6-742f9ddeb21b"
   },
   "outputs": [
    {
     "data": {
      "application/vnd.google.colaboratory.intrinsic+json": {
       "type": "string"
      },
      "text/plain": [
       "'Rio das Ostras'"
      ]
     },
     "execution_count": 59,
     "metadata": {
      "tags": []
     },
     "output_type": "execute_result"
    }
   ],
   "source": [
    "dados['lugar'][0]"
   ]
  },
  {
   "cell_type": "markdown",
   "metadata": {
    "colab_type": "text",
    "id": "pImKeUbnbpAC"
   },
   "source": [
    "# Indexação em Pandas"
   ]
  },
  {
   "cell_type": "markdown",
   "metadata": {
    "colab_type": "text",
    "id": "Hic5mwsweGLm"
   },
   "source": [
    "### Seleção baseada em índices\n",
    "\n",
    "#### Seleção de dados baseada na posição numérica dos dados."
   ]
  },
  {
   "cell_type": "markdown",
   "metadata": {
    "colab_type": "text",
    "id": "f-NyJR05ffVM"
   },
   "source": [
    "### Selecionar a primeira linha\n",
    "\n",
    "Exemplo 1:"
   ]
  },
  {
   "cell_type": "code",
   "execution_count": 70,
   "metadata": {
    "colab": {
     "base_uri": "https://localhost:8080/",
     "height": 241
    },
    "colab_type": "code",
    "id": "PQrRq8nUcY_s",
    "outputId": "bba5e64b-e955-42b0-f682-8dcb12656589"
   },
   "outputs": [
    {
     "data": {
      "text/html": [
       "<div>\n",
       "<style scoped>\n",
       "    .dataframe tbody tr th:only-of-type {\n",
       "        vertical-align: middle;\n",
       "    }\n",
       "\n",
       "    .dataframe tbody tr th {\n",
       "        vertical-align: top;\n",
       "    }\n",
       "\n",
       "    .dataframe thead th {\n",
       "        text-align: right;\n",
       "    }\n",
       "</style>\n",
       "<table border=\"1\" class=\"dataframe\">\n",
       "  <thead>\n",
       "    <tr style=\"text-align: right;\">\n",
       "      <th></th>\n",
       "      <th>data</th>\n",
       "      <th>texto</th>\n",
       "      <th>retweet</th>\n",
       "      <th>idioma</th>\n",
       "      <th>lugar</th>\n",
       "      <th>pais</th>\n",
       "      <th>sigla</th>\n",
       "      <th>latitude</th>\n",
       "      <th>longitude</th>\n",
       "    </tr>\n",
       "  </thead>\n",
       "  <tbody>\n",
       "    <tr>\n",
       "      <th>1</th>\n",
       "      <td>2020-03-22 22:57:51</td>\n",
       "      <td>14.245 – O que é a hidroxicloroquina? https://...</td>\n",
       "      <td>0</td>\n",
       "      <td>pt</td>\n",
       "      <td>Sao Paulo</td>\n",
       "      <td>Brazil</td>\n",
       "      <td>BR</td>\n",
       "      <td>-46.674739</td>\n",
       "      <td>-23.606067</td>\n",
       "    </tr>\n",
       "    <tr>\n",
       "      <th>2</th>\n",
       "      <td>2020-04-14 00:11:33</td>\n",
       "      <td>Quarta morte em Lar de Estarreja associada à C...</td>\n",
       "      <td>1</td>\n",
       "      <td>pt</td>\n",
       "      <td>Lisbon</td>\n",
       "      <td>Portugal</td>\n",
       "      <td>PT</td>\n",
       "      <td>-9.099043</td>\n",
       "      <td>38.747518</td>\n",
       "    </tr>\n",
       "    <tr>\n",
       "      <th>3</th>\n",
       "      <td>2020-05-25 20:45:43</td>\n",
       "      <td>COVID-19 |  Hospital municipal Tide Setúbal, n...</td>\n",
       "      <td>0</td>\n",
       "      <td>pt</td>\n",
       "      <td>Sao Paulo</td>\n",
       "      <td>Brazil</td>\n",
       "      <td>BR</td>\n",
       "      <td>-46.633300</td>\n",
       "      <td>-23.550000</td>\n",
       "    </tr>\n",
       "    <tr>\n",
       "      <th>4</th>\n",
       "      <td>2020-04-15 10:34:39</td>\n",
       "      <td>#cenasdocotidiano #santos #distanciamentosocia...</td>\n",
       "      <td>0</td>\n",
       "      <td>pt</td>\n",
       "      <td>Santos</td>\n",
       "      <td>Brazil</td>\n",
       "      <td>BR</td>\n",
       "      <td>-46.293700</td>\n",
       "      <td>-23.975947</td>\n",
       "    </tr>\n",
       "  </tbody>\n",
       "</table>\n",
       "</div>"
      ],
      "text/plain": [
       "                  data  ...  longitude\n",
       "1  2020-03-22 22:57:51  ... -23.606067\n",
       "2  2020-04-14 00:11:33  ...  38.747518\n",
       "3  2020-05-25 20:45:43  ... -23.550000\n",
       "4  2020-04-15 10:34:39  ... -23.975947\n",
       "\n",
       "[4 rows x 9 columns]"
      ]
     },
     "execution_count": 70,
     "metadata": {
      "tags": []
     },
     "output_type": "execute_result"
    }
   ],
   "source": [
    "dados.iloc[1:5]"
   ]
  },
  {
   "cell_type": "markdown",
   "metadata": {
    "colab_type": "text",
    "id": "vIVASYROk_Tg"
   },
   "source": [
    "Exemplo 2:"
   ]
  },
  {
   "cell_type": "code",
   "execution_count": 61,
   "metadata": {
    "colab": {
     "base_uri": "https://localhost:8080/",
     "height": 221
    },
    "colab_type": "code",
    "id": "A-kPc_pBf_6-",
    "outputId": "467a6370-e214-4f3b-8f93-8a6565c95de0"
   },
   "outputs": [
    {
     "data": {
      "text/plain": [
       "0      Para voltar tudo ao normal, você precisa fazer...\n",
       "1      14.245 – O que é a hidroxicloroquina? https://...\n",
       "2      Quarta morte em Lar de Estarreja associada à C...\n",
       "3      COVID-19 |  Hospital municipal Tide Setúbal, n...\n",
       "4      #cenasdocotidiano #santos #distanciamentosocia...\n",
       "                             ...                        \n",
       "495    O isolamento social também serve para mostrar ...\n",
       "496    Enquanto o mundo está atento ao covid 19 é o B...\n",
       "497    #covid_19 #stayhome @ Toronto, Ontario https:/...\n",
       "498    Um vira-lata sem Coronavirus #joeviralata #dog...\n",
       "499    Portugal já está a preparar-se para responder ...\n",
       "Name: texto, Length: 500, dtype: object"
      ]
     },
     "execution_count": 61,
     "metadata": {
      "tags": []
     },
     "output_type": "execute_result"
    }
   ],
   "source": [
    "dados.iloc[:,1]"
   ]
  },
  {
   "cell_type": "markdown",
   "metadata": {
    "colab_type": "text",
    "id": "Pgu50YnrlDcb"
   },
   "source": [
    "Exemplo 3:"
   ]
  },
  {
   "cell_type": "code",
   "execution_count": 62,
   "metadata": {
    "colab": {
     "base_uri": "https://localhost:8080/",
     "height": 289
    },
    "colab_type": "code",
    "id": "ey2gsjFBgJB7",
    "outputId": "38a05544-1875-4ed5-bd52-7da0b33abae1"
   },
   "outputs": [
    {
     "data": {
      "text/html": [
       "<div>\n",
       "<style scoped>\n",
       "    .dataframe tbody tr th:only-of-type {\n",
       "        vertical-align: middle;\n",
       "    }\n",
       "\n",
       "    .dataframe tbody tr th {\n",
       "        vertical-align: top;\n",
       "    }\n",
       "\n",
       "    .dataframe thead th {\n",
       "        text-align: right;\n",
       "    }\n",
       "</style>\n",
       "<table border=\"1\" class=\"dataframe\">\n",
       "  <thead>\n",
       "    <tr style=\"text-align: right;\">\n",
       "      <th></th>\n",
       "      <th>data</th>\n",
       "      <th>texto</th>\n",
       "      <th>retweet</th>\n",
       "      <th>idioma</th>\n",
       "      <th>lugar</th>\n",
       "      <th>pais</th>\n",
       "      <th>sigla</th>\n",
       "      <th>latitude</th>\n",
       "      <th>longitude</th>\n",
       "    </tr>\n",
       "  </thead>\n",
       "  <tbody>\n",
       "    <tr>\n",
       "      <th>495</th>\n",
       "      <td>2020-04-07 16:14:13</td>\n",
       "      <td>O isolamento social também serve para mostrar ...</td>\n",
       "      <td>1</td>\n",
       "      <td>pt</td>\n",
       "      <td>Rio Branco</td>\n",
       "      <td>Brazil</td>\n",
       "      <td>BR</td>\n",
       "      <td>-67.859657</td>\n",
       "      <td>-9.932246</td>\n",
       "    </tr>\n",
       "    <tr>\n",
       "      <th>496</th>\n",
       "      <td>2020-03-26 18:02:28</td>\n",
       "      <td>Enquanto o mundo está atento ao covid 19 é o B...</td>\n",
       "      <td>0</td>\n",
       "      <td>pt</td>\n",
       "      <td>Rio de Janeiro</td>\n",
       "      <td>Brazil</td>\n",
       "      <td>BR</td>\n",
       "      <td>-43.358100</td>\n",
       "      <td>-22.942800</td>\n",
       "    </tr>\n",
       "    <tr>\n",
       "      <th>497</th>\n",
       "      <td>2020-03-18 05:28:16</td>\n",
       "      <td>#covid_19 #stayhome @ Toronto, Ontario https:/...</td>\n",
       "      <td>0</td>\n",
       "      <td>pt</td>\n",
       "      <td>Toronto</td>\n",
       "      <td>Canada</td>\n",
       "      <td>CA</td>\n",
       "      <td>-79.387200</td>\n",
       "      <td>43.648000</td>\n",
       "    </tr>\n",
       "    <tr>\n",
       "      <th>498</th>\n",
       "      <td>2020-03-03 21:27:11</td>\n",
       "      <td>Um vira-lata sem Coronavirus #joeviralata #dog...</td>\n",
       "      <td>0</td>\n",
       "      <td>pt</td>\n",
       "      <td>Sao Paulo</td>\n",
       "      <td>Brazil</td>\n",
       "      <td>BR</td>\n",
       "      <td>-46.633300</td>\n",
       "      <td>-23.550000</td>\n",
       "    </tr>\n",
       "    <tr>\n",
       "      <th>499</th>\n",
       "      <td>2020-01-21 13:18:03</td>\n",
       "      <td>Portugal já está a preparar-se para responder ...</td>\n",
       "      <td>1</td>\n",
       "      <td>pt</td>\n",
       "      <td>Lisbon</td>\n",
       "      <td>Portugal</td>\n",
       "      <td>PT</td>\n",
       "      <td>-9.099043</td>\n",
       "      <td>38.747518</td>\n",
       "    </tr>\n",
       "  </tbody>\n",
       "</table>\n",
       "</div>"
      ],
      "text/plain": [
       "                    data  ...  longitude\n",
       "495  2020-04-07 16:14:13  ...  -9.932246\n",
       "496  2020-03-26 18:02:28  ... -22.942800\n",
       "497  2020-03-18 05:28:16  ...  43.648000\n",
       "498  2020-03-03 21:27:11  ... -23.550000\n",
       "499  2020-01-21 13:18:03  ...  38.747518\n",
       "\n",
       "[5 rows x 9 columns]"
      ]
     },
     "execution_count": 62,
     "metadata": {
      "tags": []
     },
     "output_type": "execute_result"
    }
   ],
   "source": [
    "dados.iloc[-5:]"
   ]
  },
  {
   "cell_type": "markdown",
   "metadata": {
    "colab_type": "text",
    "id": "imx0mjKlgQsG"
   },
   "source": [
    "Exemplo 5:"
   ]
  },
  {
   "cell_type": "code",
   "execution_count": 71,
   "metadata": {
    "colab": {
     "base_uri": "https://localhost:8080/",
     "height": 35
    },
    "colab_type": "code",
    "id": "ohmxTrlTg17l",
    "outputId": "d2ab0bda-ba08-4a3c-d8da-d8ccbad0d3b7"
   },
   "outputs": [
    {
     "data": {
      "application/vnd.google.colaboratory.intrinsic+json": {
       "type": "string"
      },
      "text/plain": [
       "'Brazil'"
      ]
     },
     "execution_count": 71,
     "metadata": {
      "tags": []
     },
     "output_type": "execute_result"
    }
   ],
   "source": [
    "dados.loc[0, 'pais']"
   ]
  },
  {
   "cell_type": "markdown",
   "metadata": {
    "colab_type": "text",
    "id": "BMqcU4nog-kQ"
   },
   "source": [
    "# Manipulação de índices\n",
    "\n",
    "### É possível fazer a indexação dados por um atributo."
   ]
  },
  {
   "cell_type": "markdown",
   "metadata": {
    "colab_type": "text",
    "id": "epTQLNOjjARa"
   },
   "source": [
    "### Exemplo:"
   ]
  },
  {
   "cell_type": "code",
   "execution_count": 72,
   "metadata": {
    "colab": {
     "base_uri": "https://localhost:8080/",
     "height": 620
    },
    "colab_type": "code",
    "id": "p_MijJSGiVps",
    "outputId": "5b2cd567-e8d8-40ea-c3b0-92865d5ac88e"
   },
   "outputs": [
    {
     "data": {
      "text/html": [
       "<div>\n",
       "<style scoped>\n",
       "    .dataframe tbody tr th:only-of-type {\n",
       "        vertical-align: middle;\n",
       "    }\n",
       "\n",
       "    .dataframe tbody tr th {\n",
       "        vertical-align: top;\n",
       "    }\n",
       "\n",
       "    .dataframe thead th {\n",
       "        text-align: right;\n",
       "    }\n",
       "</style>\n",
       "<table border=\"1\" class=\"dataframe\">\n",
       "  <thead>\n",
       "    <tr style=\"text-align: right;\">\n",
       "      <th></th>\n",
       "      <th>data</th>\n",
       "      <th>texto</th>\n",
       "      <th>retweet</th>\n",
       "      <th>idioma</th>\n",
       "      <th>lugar</th>\n",
       "      <th>sigla</th>\n",
       "      <th>latitude</th>\n",
       "      <th>longitude</th>\n",
       "    </tr>\n",
       "    <tr>\n",
       "      <th>pais</th>\n",
       "      <th></th>\n",
       "      <th></th>\n",
       "      <th></th>\n",
       "      <th></th>\n",
       "      <th></th>\n",
       "      <th></th>\n",
       "      <th></th>\n",
       "      <th></th>\n",
       "    </tr>\n",
       "  </thead>\n",
       "  <tbody>\n",
       "    <tr>\n",
       "      <th>Brazil</th>\n",
       "      <td>2020-05-23 00:21:14</td>\n",
       "      <td>Para voltar tudo ao normal, você precisa fazer...</td>\n",
       "      <td>0</td>\n",
       "      <td>pt</td>\n",
       "      <td>Rio das Ostras</td>\n",
       "      <td>BR</td>\n",
       "      <td>-41.937900</td>\n",
       "      <td>-22.522600</td>\n",
       "    </tr>\n",
       "    <tr>\n",
       "      <th>Brazil</th>\n",
       "      <td>2020-03-22 22:57:51</td>\n",
       "      <td>14.245 – O que é a hidroxicloroquina? https://...</td>\n",
       "      <td>0</td>\n",
       "      <td>pt</td>\n",
       "      <td>Sao Paulo</td>\n",
       "      <td>BR</td>\n",
       "      <td>-46.674739</td>\n",
       "      <td>-23.606067</td>\n",
       "    </tr>\n",
       "    <tr>\n",
       "      <th>Portugal</th>\n",
       "      <td>2020-04-14 00:11:33</td>\n",
       "      <td>Quarta morte em Lar de Estarreja associada à C...</td>\n",
       "      <td>1</td>\n",
       "      <td>pt</td>\n",
       "      <td>Lisbon</td>\n",
       "      <td>PT</td>\n",
       "      <td>-9.099043</td>\n",
       "      <td>38.747518</td>\n",
       "    </tr>\n",
       "    <tr>\n",
       "      <th>Brazil</th>\n",
       "      <td>2020-05-25 20:45:43</td>\n",
       "      <td>COVID-19 |  Hospital municipal Tide Setúbal, n...</td>\n",
       "      <td>0</td>\n",
       "      <td>pt</td>\n",
       "      <td>Sao Paulo</td>\n",
       "      <td>BR</td>\n",
       "      <td>-46.633300</td>\n",
       "      <td>-23.550000</td>\n",
       "    </tr>\n",
       "    <tr>\n",
       "      <th>Brazil</th>\n",
       "      <td>2020-04-15 10:34:39</td>\n",
       "      <td>#cenasdocotidiano #santos #distanciamentosocia...</td>\n",
       "      <td>0</td>\n",
       "      <td>pt</td>\n",
       "      <td>Santos</td>\n",
       "      <td>BR</td>\n",
       "      <td>-46.293700</td>\n",
       "      <td>-23.975947</td>\n",
       "    </tr>\n",
       "    <tr>\n",
       "      <th>...</th>\n",
       "      <td>...</td>\n",
       "      <td>...</td>\n",
       "      <td>...</td>\n",
       "      <td>...</td>\n",
       "      <td>...</td>\n",
       "      <td>...</td>\n",
       "      <td>...</td>\n",
       "      <td>...</td>\n",
       "    </tr>\n",
       "    <tr>\n",
       "      <th>Brazil</th>\n",
       "      <td>2020-04-07 16:14:13</td>\n",
       "      <td>O isolamento social também serve para mostrar ...</td>\n",
       "      <td>1</td>\n",
       "      <td>pt</td>\n",
       "      <td>Rio Branco</td>\n",
       "      <td>BR</td>\n",
       "      <td>-67.859657</td>\n",
       "      <td>-9.932246</td>\n",
       "    </tr>\n",
       "    <tr>\n",
       "      <th>Brazil</th>\n",
       "      <td>2020-03-26 18:02:28</td>\n",
       "      <td>Enquanto o mundo está atento ao covid 19 é o B...</td>\n",
       "      <td>0</td>\n",
       "      <td>pt</td>\n",
       "      <td>Rio de Janeiro</td>\n",
       "      <td>BR</td>\n",
       "      <td>-43.358100</td>\n",
       "      <td>-22.942800</td>\n",
       "    </tr>\n",
       "    <tr>\n",
       "      <th>Canada</th>\n",
       "      <td>2020-03-18 05:28:16</td>\n",
       "      <td>#covid_19 #stayhome @ Toronto, Ontario https:/...</td>\n",
       "      <td>0</td>\n",
       "      <td>pt</td>\n",
       "      <td>Toronto</td>\n",
       "      <td>CA</td>\n",
       "      <td>-79.387200</td>\n",
       "      <td>43.648000</td>\n",
       "    </tr>\n",
       "    <tr>\n",
       "      <th>Brazil</th>\n",
       "      <td>2020-03-03 21:27:11</td>\n",
       "      <td>Um vira-lata sem Coronavirus #joeviralata #dog...</td>\n",
       "      <td>0</td>\n",
       "      <td>pt</td>\n",
       "      <td>Sao Paulo</td>\n",
       "      <td>BR</td>\n",
       "      <td>-46.633300</td>\n",
       "      <td>-23.550000</td>\n",
       "    </tr>\n",
       "    <tr>\n",
       "      <th>Portugal</th>\n",
       "      <td>2020-01-21 13:18:03</td>\n",
       "      <td>Portugal já está a preparar-se para responder ...</td>\n",
       "      <td>1</td>\n",
       "      <td>pt</td>\n",
       "      <td>Lisbon</td>\n",
       "      <td>PT</td>\n",
       "      <td>-9.099043</td>\n",
       "      <td>38.747518</td>\n",
       "    </tr>\n",
       "  </tbody>\n",
       "</table>\n",
       "<p>500 rows × 8 columns</p>\n",
       "</div>"
      ],
      "text/plain": [
       "                         data  ...  longitude\n",
       "pais                           ...           \n",
       "Brazil    2020-05-23 00:21:14  ... -22.522600\n",
       "Brazil    2020-03-22 22:57:51  ... -23.606067\n",
       "Portugal  2020-04-14 00:11:33  ...  38.747518\n",
       "Brazil    2020-05-25 20:45:43  ... -23.550000\n",
       "Brazil    2020-04-15 10:34:39  ... -23.975947\n",
       "...                       ...  ...        ...\n",
       "Brazil    2020-04-07 16:14:13  ...  -9.932246\n",
       "Brazil    2020-03-26 18:02:28  ... -22.942800\n",
       "Canada    2020-03-18 05:28:16  ...  43.648000\n",
       "Brazil    2020-03-03 21:27:11  ... -23.550000\n",
       "Portugal  2020-01-21 13:18:03  ...  38.747518\n",
       "\n",
       "[500 rows x 8 columns]"
      ]
     },
     "execution_count": 72,
     "metadata": {
      "tags": []
     },
     "output_type": "execute_result"
    }
   ],
   "source": [
    "dados.set_index('pais')"
   ]
  },
  {
   "cell_type": "markdown",
   "metadata": {
    "colab_type": "text",
    "id": "IA9RsWOZjaLj"
   },
   "source": [
    "# Seleção condicional"
   ]
  },
  {
   "cell_type": "markdown",
   "metadata": {
    "colab_type": "text",
    "id": "DNimsIsBjcZK"
   },
   "source": [
    "É possível consultar os dados de acordo com algum critério (condição)"
   ]
  },
  {
   "cell_type": "markdown",
   "metadata": {
    "colab_type": "text",
    "id": "Mf7_pS-Ejm3A"
   },
   "source": [
    "Exemplo:"
   ]
  },
  {
   "cell_type": "code",
   "execution_count": 73,
   "metadata": {
    "colab": {
     "base_uri": "https://localhost:8080/",
     "height": 221
    },
    "colab_type": "code",
    "id": "_9vh_G23jb5I",
    "outputId": "45965ad2-11c5-4464-982a-5e4a10437451"
   },
   "outputs": [
    {
     "data": {
      "text/plain": [
       "0       True\n",
       "1       True\n",
       "2      False\n",
       "3       True\n",
       "4       True\n",
       "       ...  \n",
       "495     True\n",
       "496     True\n",
       "497    False\n",
       "498     True\n",
       "499    False\n",
       "Name: sigla, Length: 500, dtype: bool"
      ]
     },
     "execution_count": 73,
     "metadata": {
      "tags": []
     },
     "output_type": "execute_result"
    }
   ],
   "source": [
    "dados.sigla == 'BR'"
   ]
  },
  {
   "cell_type": "markdown",
   "metadata": {
    "colab_type": "text",
    "id": "TH5hYOW-kOJ8"
   },
   "source": [
    "### Essa operação pode ser usado em combinação `loc`"
   ]
  },
  {
   "cell_type": "code",
   "execution_count": 74,
   "metadata": {
    "colab": {
     "base_uri": "https://localhost:8080/",
     "height": 589
    },
    "colab_type": "code",
    "id": "MV5bTVpHkY80",
    "outputId": "502d642b-ab9f-4d78-f9fe-d4f17256bb9a"
   },
   "outputs": [
    {
     "data": {
      "text/html": [
       "<div>\n",
       "<style scoped>\n",
       "    .dataframe tbody tr th:only-of-type {\n",
       "        vertical-align: middle;\n",
       "    }\n",
       "\n",
       "    .dataframe tbody tr th {\n",
       "        vertical-align: top;\n",
       "    }\n",
       "\n",
       "    .dataframe thead th {\n",
       "        text-align: right;\n",
       "    }\n",
       "</style>\n",
       "<table border=\"1\" class=\"dataframe\">\n",
       "  <thead>\n",
       "    <tr style=\"text-align: right;\">\n",
       "      <th></th>\n",
       "      <th>data</th>\n",
       "      <th>texto</th>\n",
       "      <th>retweet</th>\n",
       "      <th>idioma</th>\n",
       "      <th>lugar</th>\n",
       "      <th>pais</th>\n",
       "      <th>sigla</th>\n",
       "      <th>latitude</th>\n",
       "      <th>longitude</th>\n",
       "    </tr>\n",
       "  </thead>\n",
       "  <tbody>\n",
       "    <tr>\n",
       "      <th>0</th>\n",
       "      <td>2020-05-23 00:21:14</td>\n",
       "      <td>Para voltar tudo ao normal, você precisa fazer...</td>\n",
       "      <td>0</td>\n",
       "      <td>pt</td>\n",
       "      <td>Rio das Ostras</td>\n",
       "      <td>Brazil</td>\n",
       "      <td>BR</td>\n",
       "      <td>-41.937900</td>\n",
       "      <td>-22.522600</td>\n",
       "    </tr>\n",
       "    <tr>\n",
       "      <th>1</th>\n",
       "      <td>2020-03-22 22:57:51</td>\n",
       "      <td>14.245 – O que é a hidroxicloroquina? https://...</td>\n",
       "      <td>0</td>\n",
       "      <td>pt</td>\n",
       "      <td>Sao Paulo</td>\n",
       "      <td>Brazil</td>\n",
       "      <td>BR</td>\n",
       "      <td>-46.674739</td>\n",
       "      <td>-23.606067</td>\n",
       "    </tr>\n",
       "    <tr>\n",
       "      <th>3</th>\n",
       "      <td>2020-05-25 20:45:43</td>\n",
       "      <td>COVID-19 |  Hospital municipal Tide Setúbal, n...</td>\n",
       "      <td>0</td>\n",
       "      <td>pt</td>\n",
       "      <td>Sao Paulo</td>\n",
       "      <td>Brazil</td>\n",
       "      <td>BR</td>\n",
       "      <td>-46.633300</td>\n",
       "      <td>-23.550000</td>\n",
       "    </tr>\n",
       "    <tr>\n",
       "      <th>4</th>\n",
       "      <td>2020-04-15 10:34:39</td>\n",
       "      <td>#cenasdocotidiano #santos #distanciamentosocia...</td>\n",
       "      <td>0</td>\n",
       "      <td>pt</td>\n",
       "      <td>Santos</td>\n",
       "      <td>Brazil</td>\n",
       "      <td>BR</td>\n",
       "      <td>-46.293700</td>\n",
       "      <td>-23.975947</td>\n",
       "    </tr>\n",
       "    <tr>\n",
       "      <th>7</th>\n",
       "      <td>2020-03-22 19:12:37</td>\n",
       "      <td>Memórias do cárcere. Hoje deu até pra treinar ...</td>\n",
       "      <td>0</td>\n",
       "      <td>pt</td>\n",
       "      <td>Rio de Janeiro</td>\n",
       "      <td>Brazil</td>\n",
       "      <td>BR</td>\n",
       "      <td>-43.273900</td>\n",
       "      <td>-22.961900</td>\n",
       "    </tr>\n",
       "    <tr>\n",
       "      <th>...</th>\n",
       "      <td>...</td>\n",
       "      <td>...</td>\n",
       "      <td>...</td>\n",
       "      <td>...</td>\n",
       "      <td>...</td>\n",
       "      <td>...</td>\n",
       "      <td>...</td>\n",
       "      <td>...</td>\n",
       "      <td>...</td>\n",
       "    </tr>\n",
       "    <tr>\n",
       "      <th>493</th>\n",
       "      <td>2020-04-08 23:40:59</td>\n",
       "      <td>A Lei 13.987/20 garante a distribuição dos ali...</td>\n",
       "      <td>0</td>\n",
       "      <td>pt</td>\n",
       "      <td>Medianeira</td>\n",
       "      <td>Brazil</td>\n",
       "      <td>BR</td>\n",
       "      <td>-54.104104</td>\n",
       "      <td>-25.297434</td>\n",
       "    </tr>\n",
       "    <tr>\n",
       "      <th>494</th>\n",
       "      <td>2020-04-14 12:06:38</td>\n",
       "      <td>A 2ª Vara de Família e Sucessões de Jacareí, e...</td>\n",
       "      <td>0</td>\n",
       "      <td>pt</td>\n",
       "      <td>Sao Paulo</td>\n",
       "      <td>Brazil</td>\n",
       "      <td>BR</td>\n",
       "      <td>-46.638670</td>\n",
       "      <td>-23.540780</td>\n",
       "    </tr>\n",
       "    <tr>\n",
       "      <th>495</th>\n",
       "      <td>2020-04-07 16:14:13</td>\n",
       "      <td>O isolamento social também serve para mostrar ...</td>\n",
       "      <td>1</td>\n",
       "      <td>pt</td>\n",
       "      <td>Rio Branco</td>\n",
       "      <td>Brazil</td>\n",
       "      <td>BR</td>\n",
       "      <td>-67.859657</td>\n",
       "      <td>-9.932246</td>\n",
       "    </tr>\n",
       "    <tr>\n",
       "      <th>496</th>\n",
       "      <td>2020-03-26 18:02:28</td>\n",
       "      <td>Enquanto o mundo está atento ao covid 19 é o B...</td>\n",
       "      <td>0</td>\n",
       "      <td>pt</td>\n",
       "      <td>Rio de Janeiro</td>\n",
       "      <td>Brazil</td>\n",
       "      <td>BR</td>\n",
       "      <td>-43.358100</td>\n",
       "      <td>-22.942800</td>\n",
       "    </tr>\n",
       "    <tr>\n",
       "      <th>498</th>\n",
       "      <td>2020-03-03 21:27:11</td>\n",
       "      <td>Um vira-lata sem Coronavirus #joeviralata #dog...</td>\n",
       "      <td>0</td>\n",
       "      <td>pt</td>\n",
       "      <td>Sao Paulo</td>\n",
       "      <td>Brazil</td>\n",
       "      <td>BR</td>\n",
       "      <td>-46.633300</td>\n",
       "      <td>-23.550000</td>\n",
       "    </tr>\n",
       "  </tbody>\n",
       "</table>\n",
       "<p>392 rows × 9 columns</p>\n",
       "</div>"
      ],
      "text/plain": [
       "                    data  ...  longitude\n",
       "0    2020-05-23 00:21:14  ... -22.522600\n",
       "1    2020-03-22 22:57:51  ... -23.606067\n",
       "3    2020-05-25 20:45:43  ... -23.550000\n",
       "4    2020-04-15 10:34:39  ... -23.975947\n",
       "7    2020-03-22 19:12:37  ... -22.961900\n",
       "..                   ...  ...        ...\n",
       "493  2020-04-08 23:40:59  ... -25.297434\n",
       "494  2020-04-14 12:06:38  ... -23.540780\n",
       "495  2020-04-07 16:14:13  ...  -9.932246\n",
       "496  2020-03-26 18:02:28  ... -22.942800\n",
       "498  2020-03-03 21:27:11  ... -23.550000\n",
       "\n",
       "[392 rows x 9 columns]"
      ]
     },
     "execution_count": 74,
     "metadata": {
      "tags": []
     },
     "output_type": "execute_result"
    }
   ],
   "source": [
    "dados.loc[dados.sigla == 'BR']"
   ]
  },
  {
   "cell_type": "markdown",
   "metadata": {
    "colab_type": "text",
    "id": "ji2GuZoGf1cm"
   },
   "source": [
    "# Funções de Sumário (*Summary*)"
   ]
  },
  {
   "cell_type": "markdown",
   "metadata": {
    "colab_type": "text",
    "id": "qaPpix8wlp3-"
   },
   "source": [
    "### `describe()` é a função que apresenta um conjunto de estatísticas sobre um determinado campo (coluna)."
   ]
  },
  {
   "cell_type": "markdown",
   "metadata": {
    "colab_type": "text",
    "id": "0IwMTUqDl0E6"
   },
   "source": [
    "Exemplo 1:"
   ]
  },
  {
   "cell_type": "code",
   "execution_count": 75,
   "metadata": {
    "colab": {
     "base_uri": "https://localhost:8080/",
     "height": 170
    },
    "colab_type": "code",
    "id": "S4Ts99jHgOnw",
    "outputId": "4aa0b67b-1836-4090-a7b2-472ab7102f40"
   },
   "outputs": [
    {
     "data": {
      "text/plain": [
       "count    500.000000\n",
       "mean       0.172000\n",
       "std        0.508855\n",
       "min        0.000000\n",
       "25%        0.000000\n",
       "50%        0.000000\n",
       "75%        0.000000\n",
       "max        4.000000\n",
       "Name: retweet, dtype: float64"
      ]
     },
     "execution_count": 75,
     "metadata": {
      "tags": []
     },
     "output_type": "execute_result"
    }
   ],
   "source": [
    "dados.retweet.describe()"
   ]
  },
  {
   "cell_type": "markdown",
   "metadata": {
    "colab_type": "text",
    "id": "2CY_rDCGhLHt"
   },
   "source": [
    "### A função `describe()` ainda pode ser utilizada para campos não numéricos\n"
   ]
  },
  {
   "cell_type": "markdown",
   "metadata": {
    "colab_type": "text",
    "id": "K1_g9SRwl-Nt"
   },
   "source": [
    "Exemplo 1:"
   ]
  },
  {
   "cell_type": "code",
   "execution_count": 76,
   "metadata": {
    "colab": {
     "base_uri": "https://localhost:8080/",
     "height": 102
    },
    "colab_type": "code",
    "id": "YQS3j1NOhUPI",
    "outputId": "d3250d0f-b991-4e8d-a540-b2d66442cc22"
   },
   "outputs": [
    {
     "data": {
      "text/plain": [
       "count     499\n",
       "unique     21\n",
       "top        BR\n",
       "freq      392\n",
       "Name: sigla, dtype: object"
      ]
     },
     "execution_count": 76,
     "metadata": {
      "tags": []
     },
     "output_type": "execute_result"
    }
   ],
   "source": [
    "dados.sigla.describe()"
   ]
  },
  {
   "cell_type": "markdown",
   "metadata": {
    "colab_type": "text",
    "id": "wzb29OA9l_-N"
   },
   "source": [
    "Exemplo 2:"
   ]
  },
  {
   "cell_type": "code",
   "execution_count": 77,
   "metadata": {
    "colab": {
     "base_uri": "https://localhost:8080/",
     "height": 102
    },
    "colab_type": "code",
    "id": "Kw9CurPOhkW1",
    "outputId": "7d9c3777-2662-49c3-beee-10328b35770a"
   },
   "outputs": [
    {
     "data": {
      "text/plain": [
       "count                     500\n",
       "unique                    500\n",
       "top       2020-04-15 10:34:39\n",
       "freq                        1\n",
       "Name: data, dtype: object"
      ]
     },
     "execution_count": 77,
     "metadata": {
      "tags": []
     },
     "output_type": "execute_result"
    }
   ],
   "source": [
    "dados.data.describe()"
   ]
  },
  {
   "cell_type": "markdown",
   "metadata": {
    "colab_type": "text",
    "id": "_YVKPBBJh6ja"
   },
   "source": [
    "### É possível ainda usar uma função de estatística específica para um determinado campo"
   ]
  },
  {
   "cell_type": "code",
   "execution_count": 78,
   "metadata": {
    "colab": {
     "base_uri": "https://localhost:8080/",
     "height": 34
    },
    "colab_type": "code",
    "id": "Xl6aUlP5hlXF",
    "outputId": "950dcd5c-836e-489f-c5b8-05d8bec49925"
   },
   "outputs": [
    {
     "data": {
      "text/plain": [
       "0.172"
      ]
     },
     "execution_count": 78,
     "metadata": {
      "tags": []
     },
     "output_type": "execute_result"
    }
   ],
   "source": [
    "dados.retweet.mean()"
   ]
  },
  {
   "cell_type": "markdown",
   "metadata": {
    "colab_type": "text",
    "id": "Vpm0TGYXixXW"
   },
   "source": [
    "### A função `unique()` apresenta os valores únicos"
   ]
  },
  {
   "cell_type": "code",
   "execution_count": 79,
   "metadata": {
    "colab": {
     "base_uri": "https://localhost:8080/",
     "height": 68
    },
    "colab_type": "code",
    "id": "w8nEf0sOi4kD",
    "outputId": "e044c30d-a271-4d98-cace-34980cc8002c"
   },
   "outputs": [
    {
     "data": {
      "text/plain": [
       "array(['BR', 'PT', 'VA', 'CA', 'US', 'ID', 'ES', 'AU', 'MX', 'NL', 'CH',\n",
       "       'NZ', 'CW', 'IT', 'IN', 'DO', 'EC', 'CN', nan, 'FR', 'MZ', 'GB'],\n",
       "      dtype=object)"
      ]
     },
     "execution_count": 79,
     "metadata": {
      "tags": []
     },
     "output_type": "execute_result"
    }
   ],
   "source": [
    "dados.sigla.unique()"
   ]
  },
  {
   "cell_type": "markdown",
   "metadata": {
    "colab_type": "text",
    "id": "f5MtjoklmFH-"
   },
   "source": [
    "Exemplo:"
   ]
  },
  {
   "cell_type": "code",
   "execution_count": 80,
   "metadata": {
    "colab": {
     "base_uri": "https://localhost:8080/",
     "height": 391
    },
    "colab_type": "code",
    "id": "F_WjSZ22jNnR",
    "outputId": "3232c233-61c1-497e-d013-3700e7869049"
   },
   "outputs": [
    {
     "data": {
      "text/plain": [
       "BR    392\n",
       "PT     67\n",
       "US     11\n",
       "CA      6\n",
       "ES      3\n",
       "IT      2\n",
       "AU      2\n",
       "FR      2\n",
       "NZ      2\n",
       "IN      1\n",
       "CH      1\n",
       "CN      1\n",
       "VA      1\n",
       "DO      1\n",
       "NL      1\n",
       "MX      1\n",
       "GB      1\n",
       "CW      1\n",
       "EC      1\n",
       "MZ      1\n",
       "ID      1\n",
       "Name: sigla, dtype: int64"
      ]
     },
     "execution_count": 80,
     "metadata": {
      "tags": []
     },
     "output_type": "execute_result"
    }
   ],
   "source": [
    "dados.sigla.value_counts()"
   ]
  },
  {
   "cell_type": "markdown",
   "metadata": {
    "colab_type": "text",
    "id": "uG15rtV5mHuC"
   },
   "source": [
    "#Agrupamento de dados"
   ]
  },
  {
   "cell_type": "markdown",
   "metadata": {
    "colab_type": "text",
    "id": "q6bK-4cqmfjJ"
   },
   "source": [
    "### Função `groupby()`"
   ]
  },
  {
   "cell_type": "markdown",
   "metadata": {
    "colab_type": "text",
    "id": "vS8o9GpgmJHV"
   },
   "source": [
    "Exemplo 1:"
   ]
  },
  {
   "cell_type": "code",
   "execution_count": 82,
   "metadata": {
    "colab": {
     "base_uri": "https://localhost:8080/",
     "height": 34
    },
    "colab_type": "code",
    "id": "X2AiETx1mmum",
    "outputId": "59ca22f6-2c79-4ae6-b5fe-1bdd7c5a64e5"
   },
   "outputs": [
    {
     "data": {
      "text/plain": [
       "<pandas.core.groupby.generic.DataFrameGroupBy object at 0x7f2b49013780>"
      ]
     },
     "execution_count": 82,
     "metadata": {
      "tags": []
     },
     "output_type": "execute_result"
    }
   ],
   "source": [
    "dados.groupby('sigla')"
   ]
  },
  {
   "cell_type": "markdown",
   "metadata": {
    "colab_type": "text",
    "id": "UjyN85d2mMUy"
   },
   "source": [
    "Exemplo 2:"
   ]
  },
  {
   "cell_type": "code",
   "execution_count": 84,
   "metadata": {
    "colab": {
     "base_uri": "https://localhost:8080/",
     "height": 34
    },
    "colab_type": "code",
    "id": "q5djlcgynliS",
    "outputId": "2fff63e9-416a-462c-e6be-fd3bdb821dcb"
   },
   "outputs": [
    {
     "data": {
      "text/plain": [
       "<pandas.core.groupby.generic.SeriesGroupBy object at 0x7f2b49013c88>"
      ]
     },
     "execution_count": 84,
     "metadata": {
      "tags": []
     },
     "output_type": "execute_result"
    }
   ],
   "source": [
    "dados.groupby('sigla').sigla"
   ]
  },
  {
   "cell_type": "markdown",
   "metadata": {
    "colab_type": "text",
    "id": "pjL0yM8emOLG"
   },
   "source": [
    "Exemplo 3:"
   ]
  },
  {
   "cell_type": "code",
   "execution_count": 85,
   "metadata": {
    "colab": {
     "base_uri": "https://localhost:8080/",
     "height": 408
    },
    "colab_type": "code",
    "id": "7_uiLKFtm69H",
    "outputId": "fc8ea390-cd92-4431-f109-cf9c69401bb3"
   },
   "outputs": [
    {
     "data": {
      "text/plain": [
       "sigla\n",
       "AU      2\n",
       "BR    392\n",
       "CA      6\n",
       "CH      1\n",
       "CN      1\n",
       "CW      1\n",
       "DO      1\n",
       "EC      1\n",
       "ES      3\n",
       "FR      2\n",
       "GB      1\n",
       "ID      1\n",
       "IN      1\n",
       "IT      2\n",
       "MX      1\n",
       "MZ      1\n",
       "NL      1\n",
       "NZ      2\n",
       "PT     67\n",
       "US     11\n",
       "VA      1\n",
       "Name: sigla, dtype: int64"
      ]
     },
     "execution_count": 85,
     "metadata": {
      "tags": []
     },
     "output_type": "execute_result"
    }
   ],
   "source": [
    "dados.groupby('sigla').sigla.count()"
   ]
  },
  {
   "cell_type": "markdown",
   "metadata": {
    "colab_type": "text",
    "id": "ZIeDhCHRn842"
   },
   "source": [
    "### A função `groupby` pode ainda ser usada para exibir outro campo"
   ]
  },
  {
   "cell_type": "code",
   "execution_count": 87,
   "metadata": {
    "colab": {
     "base_uri": "https://localhost:8080/",
     "height": 408
    },
    "colab_type": "code",
    "id": "Mjmh4neLoDD9",
    "outputId": "7aac030e-3ce8-4ea5-c926-12a2676c1861"
   },
   "outputs": [
    {
     "data": {
      "text/plain": [
       "sigla\n",
       "AU    1\n",
       "BR    3\n",
       "CA    2\n",
       "CH    0\n",
       "CN    0\n",
       "CW    0\n",
       "DO    0\n",
       "EC    0\n",
       "ES    0\n",
       "FR    0\n",
       "GB    1\n",
       "ID    0\n",
       "IN    0\n",
       "IT    0\n",
       "MX    0\n",
       "MZ    0\n",
       "NL    0\n",
       "NZ    0\n",
       "PT    4\n",
       "US    2\n",
       "VA    0\n",
       "Name: retweet, dtype: int64"
      ]
     },
     "execution_count": 87,
     "metadata": {
      "tags": []
     },
     "output_type": "execute_result"
    }
   ],
   "source": [
    "dados.groupby('sigla').retweet.max()"
   ]
  },
  {
   "cell_type": "markdown",
   "metadata": {
    "colab_type": "text",
    "id": "C5W7iDbFqBjo"
   },
   "source": [
    "#Ordenação de dados"
   ]
  },
  {
   "cell_type": "markdown",
   "metadata": {
    "colab_type": "text",
    "id": "vPtAgJqBqcDM"
   },
   "source": [
    "### A função `sort_values()` pode ser usada para ordenar os valores por um determinado campo"
   ]
  },
  {
   "cell_type": "code",
   "execution_count": 93,
   "metadata": {
    "colab": {
     "base_uri": "https://localhost:8080/",
     "height": 589
    },
    "colab_type": "code",
    "id": "-5JU3U2AqRGF",
    "outputId": "60228d0a-812b-4d6e-9d47-cc787f4c6859"
   },
   "outputs": [
    {
     "data": {
      "text/html": [
       "<div>\n",
       "<style scoped>\n",
       "    .dataframe tbody tr th:only-of-type {\n",
       "        vertical-align: middle;\n",
       "    }\n",
       "\n",
       "    .dataframe tbody tr th {\n",
       "        vertical-align: top;\n",
       "    }\n",
       "\n",
       "    .dataframe thead th {\n",
       "        text-align: right;\n",
       "    }\n",
       "</style>\n",
       "<table border=\"1\" class=\"dataframe\">\n",
       "  <thead>\n",
       "    <tr style=\"text-align: right;\">\n",
       "      <th></th>\n",
       "      <th>data</th>\n",
       "      <th>texto</th>\n",
       "      <th>retweet</th>\n",
       "      <th>idioma</th>\n",
       "      <th>lugar</th>\n",
       "      <th>pais</th>\n",
       "      <th>sigla</th>\n",
       "      <th>latitude</th>\n",
       "      <th>longitude</th>\n",
       "    </tr>\n",
       "  </thead>\n",
       "  <tbody>\n",
       "    <tr>\n",
       "      <th>0</th>\n",
       "      <td>2020-05-23 00:21:14</td>\n",
       "      <td>Para voltar tudo ao normal, você precisa fazer...</td>\n",
       "      <td>0</td>\n",
       "      <td>pt</td>\n",
       "      <td>Rio das Ostras</td>\n",
       "      <td>Brazil</td>\n",
       "      <td>BR</td>\n",
       "      <td>-41.937900</td>\n",
       "      <td>-22.522600</td>\n",
       "    </tr>\n",
       "    <tr>\n",
       "      <th>328</th>\n",
       "      <td>2020-03-10 14:05:04</td>\n",
       "      <td>Covid-19: Parlamento espanhol suspende sessão ...</td>\n",
       "      <td>0</td>\n",
       "      <td>pt</td>\n",
       "      <td>Lisbon</td>\n",
       "      <td>Portugal</td>\n",
       "      <td>PT</td>\n",
       "      <td>-9.099043</td>\n",
       "      <td>38.747518</td>\n",
       "    </tr>\n",
       "    <tr>\n",
       "      <th>327</th>\n",
       "      <td>2020-01-31 20:18:25</td>\n",
       "      <td>Sobe para doze o número de casos suspeitos de ...</td>\n",
       "      <td>0</td>\n",
       "      <td>pt</td>\n",
       "      <td>Guajará-Mirim</td>\n",
       "      <td>Brazil</td>\n",
       "      <td>BR</td>\n",
       "      <td>-65.316463</td>\n",
       "      <td>-10.765051</td>\n",
       "    </tr>\n",
       "    <tr>\n",
       "      <th>326</th>\n",
       "      <td>2020-03-19 23:15:33</td>\n",
       "      <td>Covid-19: Toyota, Volkwagen, Subaru e Tesla su...</td>\n",
       "      <td>0</td>\n",
       "      <td>pt</td>\n",
       "      <td>Lisbon</td>\n",
       "      <td>Portugal</td>\n",
       "      <td>PT</td>\n",
       "      <td>-9.099043</td>\n",
       "      <td>38.747518</td>\n",
       "    </tr>\n",
       "    <tr>\n",
       "      <th>325</th>\n",
       "      <td>2020-03-21 21:32:58</td>\n",
       "      <td>Obedecendo e apoiando, não saia de casa. #coro...</td>\n",
       "      <td>0</td>\n",
       "      <td>pt</td>\n",
       "      <td>Barueri</td>\n",
       "      <td>Brazil</td>\n",
       "      <td>BR</td>\n",
       "      <td>-46.882775</td>\n",
       "      <td>-23.530094</td>\n",
       "    </tr>\n",
       "    <tr>\n",
       "      <th>...</th>\n",
       "      <td>...</td>\n",
       "      <td>...</td>\n",
       "      <td>...</td>\n",
       "      <td>...</td>\n",
       "      <td>...</td>\n",
       "      <td>...</td>\n",
       "      <td>...</td>\n",
       "      <td>...</td>\n",
       "      <td>...</td>\n",
       "    </tr>\n",
       "    <tr>\n",
       "      <th>296</th>\n",
       "      <td>2020-04-02 00:01:34</td>\n",
       "      <td>Diário de um padre em tempos de COVID-19: Dian...</td>\n",
       "      <td>3</td>\n",
       "      <td>pt</td>\n",
       "      <td>Fortaleza</td>\n",
       "      <td>Brazil</td>\n",
       "      <td>BR</td>\n",
       "      <td>-38.501316</td>\n",
       "      <td>-3.734338</td>\n",
       "    </tr>\n",
       "    <tr>\n",
       "      <th>192</th>\n",
       "      <td>2020-03-18 23:29:23</td>\n",
       "      <td>😷🦠 Amor em tempo de #coronavirus.  #TamoJuntoE...</td>\n",
       "      <td>3</td>\n",
       "      <td>pt</td>\n",
       "      <td>Belo Horizonte</td>\n",
       "      <td>Brazil</td>\n",
       "      <td>BR</td>\n",
       "      <td>-43.938700</td>\n",
       "      <td>-19.919100</td>\n",
       "    </tr>\n",
       "    <tr>\n",
       "      <th>388</th>\n",
       "      <td>2020-04-04 04:47:55</td>\n",
       "      <td>Esses dias de #coronavirus estão deixando você...</td>\n",
       "      <td>3</td>\n",
       "      <td>pt</td>\n",
       "      <td>Recife</td>\n",
       "      <td>Brazil</td>\n",
       "      <td>BR</td>\n",
       "      <td>-34.874576</td>\n",
       "      <td>-8.062107</td>\n",
       "    </tr>\n",
       "    <tr>\n",
       "      <th>132</th>\n",
       "      <td>2020-04-09 21:37:02</td>\n",
       "      <td>Portugal tem mais doentes Covid-19 per capita ...</td>\n",
       "      <td>3</td>\n",
       "      <td>pt</td>\n",
       "      <td>Lisbon</td>\n",
       "      <td>Portugal</td>\n",
       "      <td>PT</td>\n",
       "      <td>-9.099043</td>\n",
       "      <td>38.747518</td>\n",
       "    </tr>\n",
       "    <tr>\n",
       "      <th>18</th>\n",
       "      <td>2020-03-19 18:45:05</td>\n",
       "      <td>Quarta morte por Covid-19 em Portugal. Primeir...</td>\n",
       "      <td>4</td>\n",
       "      <td>pt</td>\n",
       "      <td>Lisbon</td>\n",
       "      <td>Portugal</td>\n",
       "      <td>PT</td>\n",
       "      <td>-9.099043</td>\n",
       "      <td>38.747518</td>\n",
       "    </tr>\n",
       "  </tbody>\n",
       "</table>\n",
       "<p>500 rows × 9 columns</p>\n",
       "</div>"
      ],
      "text/plain": [
       "                    data  ...  longitude\n",
       "0    2020-05-23 00:21:14  ... -22.522600\n",
       "328  2020-03-10 14:05:04  ...  38.747518\n",
       "327  2020-01-31 20:18:25  ... -10.765051\n",
       "326  2020-03-19 23:15:33  ...  38.747518\n",
       "325  2020-03-21 21:32:58  ... -23.530094\n",
       "..                   ...  ...        ...\n",
       "296  2020-04-02 00:01:34  ...  -3.734338\n",
       "192  2020-03-18 23:29:23  ... -19.919100\n",
       "388  2020-04-04 04:47:55  ...  -8.062107\n",
       "132  2020-04-09 21:37:02  ...  38.747518\n",
       "18   2020-03-19 18:45:05  ...  38.747518\n",
       "\n",
       "[500 rows x 9 columns]"
      ]
     },
     "execution_count": 93,
     "metadata": {
      "tags": []
     },
     "output_type": "execute_result"
    }
   ],
   "source": [
    "dados.sort_values(by='retweet')"
   ]
  },
  {
   "cell_type": "markdown",
   "metadata": {
    "colab_type": "text",
    "id": "_iXAv3Llq2Vu"
   },
   "source": [
    "### A ordenação padrão é de forma ascendente. Porém, é possível ordenar de maneira descendente"
   ]
  },
  {
   "cell_type": "code",
   "execution_count": 94,
   "metadata": {
    "colab": {
     "base_uri": "https://localhost:8080/",
     "height": 640
    },
    "colab_type": "code",
    "id": "yLa5mqqMrF__",
    "outputId": "0369bc88-0ba4-4622-b9a4-2d12ef7a7e20"
   },
   "outputs": [
    {
     "data": {
      "text/html": [
       "<div>\n",
       "<style scoped>\n",
       "    .dataframe tbody tr th:only-of-type {\n",
       "        vertical-align: middle;\n",
       "    }\n",
       "\n",
       "    .dataframe tbody tr th {\n",
       "        vertical-align: top;\n",
       "    }\n",
       "\n",
       "    .dataframe thead th {\n",
       "        text-align: right;\n",
       "    }\n",
       "</style>\n",
       "<table border=\"1\" class=\"dataframe\">\n",
       "  <thead>\n",
       "    <tr style=\"text-align: right;\">\n",
       "      <th></th>\n",
       "      <th>data</th>\n",
       "      <th>texto</th>\n",
       "      <th>retweet</th>\n",
       "      <th>idioma</th>\n",
       "      <th>lugar</th>\n",
       "      <th>pais</th>\n",
       "      <th>sigla</th>\n",
       "      <th>latitude</th>\n",
       "      <th>longitude</th>\n",
       "    </tr>\n",
       "  </thead>\n",
       "  <tbody>\n",
       "    <tr>\n",
       "      <th>5</th>\n",
       "      <td>2020-03-27 22:59:12</td>\n",
       "      <td>O Papa Francisco rezando sozinho na imensa pra...</td>\n",
       "      <td>0</td>\n",
       "      <td>pt</td>\n",
       "      <td>Vatican City</td>\n",
       "      <td>Vatican City</td>\n",
       "      <td>VA</td>\n",
       "      <td>12.457018</td>\n",
       "      <td>41.902473</td>\n",
       "    </tr>\n",
       "    <tr>\n",
       "      <th>391</th>\n",
       "      <td>2020-03-22 23:18:53</td>\n",
       "      <td>#protectallworkers #workersfirst #stayathome #...</td>\n",
       "      <td>0</td>\n",
       "      <td>pt</td>\n",
       "      <td>Chicago</td>\n",
       "      <td>United States</td>\n",
       "      <td>US</td>\n",
       "      <td>-87.632496</td>\n",
       "      <td>41.883222</td>\n",
       "    </tr>\n",
       "    <tr>\n",
       "      <th>75</th>\n",
       "      <td>2020-05-22 21:44:49</td>\n",
       "      <td>A cidade de Nova York, nos Estados Unidos, vai...</td>\n",
       "      <td>0</td>\n",
       "      <td>pt</td>\n",
       "      <td>Los Angeles</td>\n",
       "      <td>United States</td>\n",
       "      <td>US</td>\n",
       "      <td>-118.244500</td>\n",
       "      <td>34.056400</td>\n",
       "    </tr>\n",
       "    <tr>\n",
       "      <th>101</th>\n",
       "      <td>2020-03-03 00:43:28</td>\n",
       "      <td>A Intelprise alerta os folioes pos-carnavalesc...</td>\n",
       "      <td>0</td>\n",
       "      <td>pt</td>\n",
       "      <td>North Miami Beach</td>\n",
       "      <td>United States</td>\n",
       "      <td>US</td>\n",
       "      <td>-80.163740</td>\n",
       "      <td>25.946560</td>\n",
       "    </tr>\n",
       "    <tr>\n",
       "      <th>72</th>\n",
       "      <td>2020-03-19 20:58:11</td>\n",
       "      <td>🥴🤣😭☠️ #corona #covid_19 #socialdistancing #nof...</td>\n",
       "      <td>0</td>\n",
       "      <td>pt</td>\n",
       "      <td>Colorado Springs</td>\n",
       "      <td>United States</td>\n",
       "      <td>US</td>\n",
       "      <td>-104.820700</td>\n",
       "      <td>38.830100</td>\n",
       "    </tr>\n",
       "    <tr>\n",
       "      <th>...</th>\n",
       "      <td>...</td>\n",
       "      <td>...</td>\n",
       "      <td>...</td>\n",
       "      <td>...</td>\n",
       "      <td>...</td>\n",
       "      <td>...</td>\n",
       "      <td>...</td>\n",
       "      <td>...</td>\n",
       "      <td>...</td>\n",
       "    </tr>\n",
       "    <tr>\n",
       "      <th>186</th>\n",
       "      <td>2020-05-19 19:09:57</td>\n",
       "      <td>Nesse tempo de isolamento social,não se isole ...</td>\n",
       "      <td>0</td>\n",
       "      <td>pt</td>\n",
       "      <td>Rio de Janeiro</td>\n",
       "      <td>Brazil</td>\n",
       "      <td>BR</td>\n",
       "      <td>-43.373770</td>\n",
       "      <td>-22.931997</td>\n",
       "    </tr>\n",
       "    <tr>\n",
       "      <th>249</th>\n",
       "      <td>2020-04-06 18:41:09</td>\n",
       "      <td>Só queria estar despreocupado com meu amigo En...</td>\n",
       "      <td>0</td>\n",
       "      <td>pt</td>\n",
       "      <td>Foz do Iguaçu</td>\n",
       "      <td>Brazil</td>\n",
       "      <td>BR</td>\n",
       "      <td>-54.586814</td>\n",
       "      <td>-25.413745</td>\n",
       "    </tr>\n",
       "    <tr>\n",
       "      <th>354</th>\n",
       "      <td>2020-02-21 10:34:40</td>\n",
       "      <td>Australia’s first dedicated e-sports bar @ GG ...</td>\n",
       "      <td>0</td>\n",
       "      <td>en</td>\n",
       "      <td>Melbourne</td>\n",
       "      <td>Australia</td>\n",
       "      <td>AU</td>\n",
       "      <td>144.961030</td>\n",
       "      <td>-37.816360</td>\n",
       "    </tr>\n",
       "    <tr>\n",
       "      <th>86</th>\n",
       "      <td>2020-03-19 20:45:14</td>\n",
       "      <td>As pesquisas não param! 💻 A equipe do Lab404 s...</td>\n",
       "      <td>1</td>\n",
       "      <td>pt</td>\n",
       "      <td>Melbourne</td>\n",
       "      <td>Australia</td>\n",
       "      <td>AU</td>\n",
       "      <td>144.960154</td>\n",
       "      <td>-37.818769</td>\n",
       "    </tr>\n",
       "    <tr>\n",
       "      <th>399</th>\n",
       "      <td>2020-03-19 12:30:16</td>\n",
       "      <td>Meu #tbt de isolamento social 🏕🌵 #namibia #afr...</td>\n",
       "      <td>0</td>\n",
       "      <td>pt</td>\n",
       "      <td>Namibia</td>\n",
       "      <td>Namibia</td>\n",
       "      <td>NaN</td>\n",
       "      <td>17.000000</td>\n",
       "      <td>-23.000000</td>\n",
       "    </tr>\n",
       "  </tbody>\n",
       "</table>\n",
       "<p>500 rows × 9 columns</p>\n",
       "</div>"
      ],
      "text/plain": [
       "                    data  ...  longitude\n",
       "5    2020-03-27 22:59:12  ...  41.902473\n",
       "391  2020-03-22 23:18:53  ...  41.883222\n",
       "75   2020-05-22 21:44:49  ...  34.056400\n",
       "101  2020-03-03 00:43:28  ...  25.946560\n",
       "72   2020-03-19 20:58:11  ...  38.830100\n",
       "..                   ...  ...        ...\n",
       "186  2020-05-19 19:09:57  ... -22.931997\n",
       "249  2020-04-06 18:41:09  ... -25.413745\n",
       "354  2020-02-21 10:34:40  ... -37.816360\n",
       "86   2020-03-19 20:45:14  ... -37.818769\n",
       "399  2020-03-19 12:30:16  ... -23.000000\n",
       "\n",
       "[500 rows x 9 columns]"
      ]
     },
     "execution_count": 94,
     "metadata": {
      "tags": []
     },
     "output_type": "execute_result"
    }
   ],
   "source": [
    "dados.sort_values(by='sigla', ascending=False)"
   ]
  },
  {
   "cell_type": "markdown",
   "metadata": {
    "colab_type": "text",
    "id": "C2aXoZKOrbhz"
   },
   "source": [
    "### A ordenação por índices é feita através da função `sort_index()`"
   ]
  },
  {
   "cell_type": "code",
   "execution_count": 95,
   "metadata": {
    "colab": {
     "base_uri": "https://localhost:8080/",
     "height": 589
    },
    "colab_type": "code",
    "id": "404_fU4hrlz9",
    "outputId": "21db45b8-cd2c-4cf2-e3d0-5e3a162e7e6c"
   },
   "outputs": [
    {
     "data": {
      "text/html": [
       "<div>\n",
       "<style scoped>\n",
       "    .dataframe tbody tr th:only-of-type {\n",
       "        vertical-align: middle;\n",
       "    }\n",
       "\n",
       "    .dataframe tbody tr th {\n",
       "        vertical-align: top;\n",
       "    }\n",
       "\n",
       "    .dataframe thead th {\n",
       "        text-align: right;\n",
       "    }\n",
       "</style>\n",
       "<table border=\"1\" class=\"dataframe\">\n",
       "  <thead>\n",
       "    <tr style=\"text-align: right;\">\n",
       "      <th></th>\n",
       "      <th>data</th>\n",
       "      <th>texto</th>\n",
       "      <th>retweet</th>\n",
       "      <th>idioma</th>\n",
       "      <th>lugar</th>\n",
       "      <th>pais</th>\n",
       "      <th>sigla</th>\n",
       "      <th>latitude</th>\n",
       "      <th>longitude</th>\n",
       "    </tr>\n",
       "  </thead>\n",
       "  <tbody>\n",
       "    <tr>\n",
       "      <th>0</th>\n",
       "      <td>2020-05-23 00:21:14</td>\n",
       "      <td>Para voltar tudo ao normal, você precisa fazer...</td>\n",
       "      <td>0</td>\n",
       "      <td>pt</td>\n",
       "      <td>Rio das Ostras</td>\n",
       "      <td>Brazil</td>\n",
       "      <td>BR</td>\n",
       "      <td>-41.937900</td>\n",
       "      <td>-22.522600</td>\n",
       "    </tr>\n",
       "    <tr>\n",
       "      <th>1</th>\n",
       "      <td>2020-03-22 22:57:51</td>\n",
       "      <td>14.245 – O que é a hidroxicloroquina? https://...</td>\n",
       "      <td>0</td>\n",
       "      <td>pt</td>\n",
       "      <td>Sao Paulo</td>\n",
       "      <td>Brazil</td>\n",
       "      <td>BR</td>\n",
       "      <td>-46.674739</td>\n",
       "      <td>-23.606067</td>\n",
       "    </tr>\n",
       "    <tr>\n",
       "      <th>2</th>\n",
       "      <td>2020-04-14 00:11:33</td>\n",
       "      <td>Quarta morte em Lar de Estarreja associada à C...</td>\n",
       "      <td>1</td>\n",
       "      <td>pt</td>\n",
       "      <td>Lisbon</td>\n",
       "      <td>Portugal</td>\n",
       "      <td>PT</td>\n",
       "      <td>-9.099043</td>\n",
       "      <td>38.747518</td>\n",
       "    </tr>\n",
       "    <tr>\n",
       "      <th>3</th>\n",
       "      <td>2020-05-25 20:45:43</td>\n",
       "      <td>COVID-19 |  Hospital municipal Tide Setúbal, n...</td>\n",
       "      <td>0</td>\n",
       "      <td>pt</td>\n",
       "      <td>Sao Paulo</td>\n",
       "      <td>Brazil</td>\n",
       "      <td>BR</td>\n",
       "      <td>-46.633300</td>\n",
       "      <td>-23.550000</td>\n",
       "    </tr>\n",
       "    <tr>\n",
       "      <th>4</th>\n",
       "      <td>2020-04-15 10:34:39</td>\n",
       "      <td>#cenasdocotidiano #santos #distanciamentosocia...</td>\n",
       "      <td>0</td>\n",
       "      <td>pt</td>\n",
       "      <td>Santos</td>\n",
       "      <td>Brazil</td>\n",
       "      <td>BR</td>\n",
       "      <td>-46.293700</td>\n",
       "      <td>-23.975947</td>\n",
       "    </tr>\n",
       "    <tr>\n",
       "      <th>...</th>\n",
       "      <td>...</td>\n",
       "      <td>...</td>\n",
       "      <td>...</td>\n",
       "      <td>...</td>\n",
       "      <td>...</td>\n",
       "      <td>...</td>\n",
       "      <td>...</td>\n",
       "      <td>...</td>\n",
       "      <td>...</td>\n",
       "    </tr>\n",
       "    <tr>\n",
       "      <th>495</th>\n",
       "      <td>2020-04-07 16:14:13</td>\n",
       "      <td>O isolamento social também serve para mostrar ...</td>\n",
       "      <td>1</td>\n",
       "      <td>pt</td>\n",
       "      <td>Rio Branco</td>\n",
       "      <td>Brazil</td>\n",
       "      <td>BR</td>\n",
       "      <td>-67.859657</td>\n",
       "      <td>-9.932246</td>\n",
       "    </tr>\n",
       "    <tr>\n",
       "      <th>496</th>\n",
       "      <td>2020-03-26 18:02:28</td>\n",
       "      <td>Enquanto o mundo está atento ao covid 19 é o B...</td>\n",
       "      <td>0</td>\n",
       "      <td>pt</td>\n",
       "      <td>Rio de Janeiro</td>\n",
       "      <td>Brazil</td>\n",
       "      <td>BR</td>\n",
       "      <td>-43.358100</td>\n",
       "      <td>-22.942800</td>\n",
       "    </tr>\n",
       "    <tr>\n",
       "      <th>497</th>\n",
       "      <td>2020-03-18 05:28:16</td>\n",
       "      <td>#covid_19 #stayhome @ Toronto, Ontario https:/...</td>\n",
       "      <td>0</td>\n",
       "      <td>pt</td>\n",
       "      <td>Toronto</td>\n",
       "      <td>Canada</td>\n",
       "      <td>CA</td>\n",
       "      <td>-79.387200</td>\n",
       "      <td>43.648000</td>\n",
       "    </tr>\n",
       "    <tr>\n",
       "      <th>498</th>\n",
       "      <td>2020-03-03 21:27:11</td>\n",
       "      <td>Um vira-lata sem Coronavirus #joeviralata #dog...</td>\n",
       "      <td>0</td>\n",
       "      <td>pt</td>\n",
       "      <td>Sao Paulo</td>\n",
       "      <td>Brazil</td>\n",
       "      <td>BR</td>\n",
       "      <td>-46.633300</td>\n",
       "      <td>-23.550000</td>\n",
       "    </tr>\n",
       "    <tr>\n",
       "      <th>499</th>\n",
       "      <td>2020-01-21 13:18:03</td>\n",
       "      <td>Portugal já está a preparar-se para responder ...</td>\n",
       "      <td>1</td>\n",
       "      <td>pt</td>\n",
       "      <td>Lisbon</td>\n",
       "      <td>Portugal</td>\n",
       "      <td>PT</td>\n",
       "      <td>-9.099043</td>\n",
       "      <td>38.747518</td>\n",
       "    </tr>\n",
       "  </tbody>\n",
       "</table>\n",
       "<p>500 rows × 9 columns</p>\n",
       "</div>"
      ],
      "text/plain": [
       "                    data  ...  longitude\n",
       "0    2020-05-23 00:21:14  ... -22.522600\n",
       "1    2020-03-22 22:57:51  ... -23.606067\n",
       "2    2020-04-14 00:11:33  ...  38.747518\n",
       "3    2020-05-25 20:45:43  ... -23.550000\n",
       "4    2020-04-15 10:34:39  ... -23.975947\n",
       "..                   ...  ...        ...\n",
       "495  2020-04-07 16:14:13  ...  -9.932246\n",
       "496  2020-03-26 18:02:28  ... -22.942800\n",
       "497  2020-03-18 05:28:16  ...  43.648000\n",
       "498  2020-03-03 21:27:11  ... -23.550000\n",
       "499  2020-01-21 13:18:03  ...  38.747518\n",
       "\n",
       "[500 rows x 9 columns]"
      ]
     },
     "execution_count": 95,
     "metadata": {
      "tags": []
     },
     "output_type": "execute_result"
    }
   ],
   "source": [
    "dados.sort_index()"
   ]
  },
  {
   "cell_type": "markdown",
   "metadata": {
    "colab_type": "text",
    "id": "tYPDhhmjsC__"
   },
   "source": [
    "### A ordenação ainda pode ser feita por mais de um campo ao mesmo tempo"
   ]
  },
  {
   "cell_type": "code",
   "execution_count": 97,
   "metadata": {
    "colab": {
     "base_uri": "https://localhost:8080/",
     "height": 759
    },
    "colab_type": "code",
    "id": "0B-r00UesLpL",
    "outputId": "1a467a59-05e9-420e-92fb-e375145f4def"
   },
   "outputs": [
    {
     "data": {
      "text/html": [
       "<div>\n",
       "<style scoped>\n",
       "    .dataframe tbody tr th:only-of-type {\n",
       "        vertical-align: middle;\n",
       "    }\n",
       "\n",
       "    .dataframe tbody tr th {\n",
       "        vertical-align: top;\n",
       "    }\n",
       "\n",
       "    .dataframe thead th {\n",
       "        text-align: right;\n",
       "    }\n",
       "</style>\n",
       "<table border=\"1\" class=\"dataframe\">\n",
       "  <thead>\n",
       "    <tr style=\"text-align: right;\">\n",
       "      <th></th>\n",
       "      <th>data</th>\n",
       "      <th>texto</th>\n",
       "      <th>retweet</th>\n",
       "      <th>idioma</th>\n",
       "      <th>lugar</th>\n",
       "      <th>pais</th>\n",
       "      <th>sigla</th>\n",
       "      <th>latitude</th>\n",
       "      <th>longitude</th>\n",
       "    </tr>\n",
       "  </thead>\n",
       "  <tbody>\n",
       "    <tr>\n",
       "      <th>354</th>\n",
       "      <td>2020-02-21 10:34:40</td>\n",
       "      <td>Australia’s first dedicated e-sports bar @ GG ...</td>\n",
       "      <td>0</td>\n",
       "      <td>en</td>\n",
       "      <td>Melbourne</td>\n",
       "      <td>Australia</td>\n",
       "      <td>AU</td>\n",
       "      <td>144.961030</td>\n",
       "      <td>-37.816360</td>\n",
       "    </tr>\n",
       "    <tr>\n",
       "      <th>86</th>\n",
       "      <td>2020-03-19 20:45:14</td>\n",
       "      <td>As pesquisas não param! 💻 A equipe do Lab404 s...</td>\n",
       "      <td>1</td>\n",
       "      <td>pt</td>\n",
       "      <td>Melbourne</td>\n",
       "      <td>Australia</td>\n",
       "      <td>AU</td>\n",
       "      <td>144.960154</td>\n",
       "      <td>-37.818769</td>\n",
       "    </tr>\n",
       "    <tr>\n",
       "      <th>153</th>\n",
       "      <td>2020-04-09 21:28:32</td>\n",
       "      <td>FAÇA O SEU CONSÓRCIO, FINANCIAMENTO OU O SEU S...</td>\n",
       "      <td>0</td>\n",
       "      <td>pt</td>\n",
       "      <td>Abre Campo</td>\n",
       "      <td>Brazil</td>\n",
       "      <td>BR</td>\n",
       "      <td>-42.476260</td>\n",
       "      <td>-20.298590</td>\n",
       "    </tr>\n",
       "    <tr>\n",
       "      <th>353</th>\n",
       "      <td>2020-04-14 12:54:32</td>\n",
       "      <td>#covid #angradosreis #covid_19 #coronavirusbra...</td>\n",
       "      <td>0</td>\n",
       "      <td>pt</td>\n",
       "      <td>Angra dos Reis</td>\n",
       "      <td>Brazil</td>\n",
       "      <td>BR</td>\n",
       "      <td>-44.305500</td>\n",
       "      <td>-22.997500</td>\n",
       "    </tr>\n",
       "    <tr>\n",
       "      <th>390</th>\n",
       "      <td>2020-05-31 16:51:03</td>\n",
       "      <td>Existe vida mais barata , mas também existe vi...</td>\n",
       "      <td>0</td>\n",
       "      <td>pt</td>\n",
       "      <td>Angra dos Reis</td>\n",
       "      <td>Brazil</td>\n",
       "      <td>BR</td>\n",
       "      <td>-44.338708</td>\n",
       "      <td>-22.940978</td>\n",
       "    </tr>\n",
       "    <tr>\n",
       "      <th>...</th>\n",
       "      <td>...</td>\n",
       "      <td>...</td>\n",
       "      <td>...</td>\n",
       "      <td>...</td>\n",
       "      <td>...</td>\n",
       "      <td>...</td>\n",
       "      <td>...</td>\n",
       "      <td>...</td>\n",
       "      <td>...</td>\n",
       "    </tr>\n",
       "    <tr>\n",
       "      <th>55</th>\n",
       "      <td>2020-03-18 03:22:12</td>\n",
       "      <td>Distânciamento social pode salvar os avos, os ...</td>\n",
       "      <td>0</td>\n",
       "      <td>pt</td>\n",
       "      <td>Miami</td>\n",
       "      <td>United States</td>\n",
       "      <td>US</td>\n",
       "      <td>-80.192000</td>\n",
       "      <td>25.775200</td>\n",
       "    </tr>\n",
       "    <tr>\n",
       "      <th>203</th>\n",
       "      <td>2020-03-22 17:41:58</td>\n",
       "      <td>#coronavirus #covid19 #covid_19 🦠 😷 #quarantin...</td>\n",
       "      <td>0</td>\n",
       "      <td>it</td>\n",
       "      <td>Montpelier</td>\n",
       "      <td>United States</td>\n",
       "      <td>US</td>\n",
       "      <td>-72.598119</td>\n",
       "      <td>44.152532</td>\n",
       "    </tr>\n",
       "    <tr>\n",
       "      <th>101</th>\n",
       "      <td>2020-03-03 00:43:28</td>\n",
       "      <td>A Intelprise alerta os folioes pos-carnavalesc...</td>\n",
       "      <td>0</td>\n",
       "      <td>pt</td>\n",
       "      <td>North Miami Beach</td>\n",
       "      <td>United States</td>\n",
       "      <td>US</td>\n",
       "      <td>-80.163740</td>\n",
       "      <td>25.946560</td>\n",
       "    </tr>\n",
       "    <tr>\n",
       "      <th>71</th>\n",
       "      <td>2020-03-27 02:07:47</td>\n",
       "      <td>Nos vemos uma ou duas vezes por ano, quando dá...</td>\n",
       "      <td>0</td>\n",
       "      <td>pt</td>\n",
       "      <td>Scott Lake</td>\n",
       "      <td>United States</td>\n",
       "      <td>US</td>\n",
       "      <td>-80.237185</td>\n",
       "      <td>25.957486</td>\n",
       "    </tr>\n",
       "    <tr>\n",
       "      <th>5</th>\n",
       "      <td>2020-03-27 22:59:12</td>\n",
       "      <td>O Papa Francisco rezando sozinho na imensa pra...</td>\n",
       "      <td>0</td>\n",
       "      <td>pt</td>\n",
       "      <td>Vatican City</td>\n",
       "      <td>Vatican City</td>\n",
       "      <td>VA</td>\n",
       "      <td>12.457018</td>\n",
       "      <td>41.902473</td>\n",
       "    </tr>\n",
       "  </tbody>\n",
       "</table>\n",
       "<p>500 rows × 9 columns</p>\n",
       "</div>"
      ],
      "text/plain": [
       "                    data  ...  longitude\n",
       "354  2020-02-21 10:34:40  ... -37.816360\n",
       "86   2020-03-19 20:45:14  ... -37.818769\n",
       "153  2020-04-09 21:28:32  ... -20.298590\n",
       "353  2020-04-14 12:54:32  ... -22.997500\n",
       "390  2020-05-31 16:51:03  ... -22.940978\n",
       "..                   ...  ...        ...\n",
       "55   2020-03-18 03:22:12  ...  25.775200\n",
       "203  2020-03-22 17:41:58  ...  44.152532\n",
       "101  2020-03-03 00:43:28  ...  25.946560\n",
       "71   2020-03-27 02:07:47  ...  25.957486\n",
       "5    2020-03-27 22:59:12  ...  41.902473\n",
       "\n",
       "[500 rows x 9 columns]"
      ]
     },
     "execution_count": 97,
     "metadata": {
      "tags": []
     },
     "output_type": "execute_result"
    }
   ],
   "source": [
    "dados.sort_values(by=['pais', 'lugar', 'idioma'])"
   ]
  },
  {
   "cell_type": "markdown",
   "metadata": {
    "colab_type": "text",
    "id": "FuS22THQtT1Q"
   },
   "source": [
    "# Tipo de dados em `DataFrame` e `Series`"
   ]
  },
  {
   "cell_type": "markdown",
   "metadata": {
    "colab_type": "text",
    "id": "TfQky6ajtmpo"
   },
   "source": [
    "### Para verificar o tipo de um dado em Python nós usamos o comando `type`"
   ]
  },
  {
   "cell_type": "code",
   "execution_count": 98,
   "metadata": {
    "colab": {
     "base_uri": "https://localhost:8080/",
     "height": 34
    },
    "colab_type": "code",
    "id": "cIn8rb3mty_B",
    "outputId": "e5456b72-9acc-4847-cdc2-42c744b81d9b"
   },
   "outputs": [
    {
     "data": {
      "text/plain": [
       "pandas.core.frame.DataFrame"
      ]
     },
     "execution_count": 98,
     "metadata": {
      "tags": []
     },
     "output_type": "execute_result"
    }
   ],
   "source": [
    "type(dados)"
   ]
  },
  {
   "cell_type": "markdown",
   "metadata": {
    "colab_type": "text",
    "id": "Vh9owK-1uBoT"
   },
   "source": [
    "### Para verificarmos o tipo de dados de uma coluna de um `DataFrame` ou `Series` em Python nós usamos o comando `dtype`"
   ]
  },
  {
   "cell_type": "code",
   "execution_count": 99,
   "metadata": {
    "colab": {
     "base_uri": "https://localhost:8080/",
     "height": 34
    },
    "colab_type": "code",
    "id": "8Vuyc5oVuDKQ",
    "outputId": "ef49e160-ceac-4f3c-8177-6ff162698ac8"
   },
   "outputs": [
    {
     "data": {
      "text/plain": [
       "dtype('int64')"
      ]
     },
     "execution_count": 99,
     "metadata": {
      "tags": []
     },
     "output_type": "execute_result"
    }
   ],
   "source": [
    "dados.retweet.dtype"
   ]
  },
  {
   "cell_type": "code",
   "execution_count": null,
   "metadata": {
    "colab": {},
    "colab_type": "code",
    "id": "rV66uwznuT-5"
   },
   "outputs": [],
   "source": [
    "dados.idioma.dtype"
   ]
  },
  {
   "cell_type": "markdown",
   "metadata": {
    "colab_type": "text",
    "id": "BT0LCmhRuwpm"
   },
   "source": [
    "### Nós podemos ainda verificar o tipo de dados de todas as colunas de um `DataFrame`"
   ]
  },
  {
   "cell_type": "code",
   "execution_count": 100,
   "metadata": {
    "colab": {
     "base_uri": "https://localhost:8080/",
     "height": 187
    },
    "colab_type": "code",
    "id": "p7mEffTjue_q",
    "outputId": "4c73011f-208e-4001-f556-2dade678abd4"
   },
   "outputs": [
    {
     "data": {
      "text/plain": [
       "data          object\n",
       "texto         object\n",
       "retweet        int64\n",
       "idioma        object\n",
       "lugar         object\n",
       "pais          object\n",
       "sigla         object\n",
       "latitude     float64\n",
       "longitude    float64\n",
       "dtype: object"
      ]
     },
     "execution_count": 100,
     "metadata": {
      "tags": []
     },
     "output_type": "execute_result"
    }
   ],
   "source": [
    "dados.dtypes"
   ]
  },
  {
   "cell_type": "markdown",
   "metadata": {
    "colab_type": "text",
    "id": "t0g2uespwF-c"
   },
   "source": [
    "### É possível ainda converter o tipo de uma determinada coluna para outro tipo"
   ]
  },
  {
   "cell_type": "markdown",
   "metadata": {
    "colab_type": "text",
    "id": "3WfnAWRNnOdW"
   },
   "source": [
    "Exemplo 1:"
   ]
  },
  {
   "cell_type": "code",
   "execution_count": 101,
   "metadata": {
    "colab": {
     "base_uri": "https://localhost:8080/",
     "height": 221
    },
    "colab_type": "code",
    "id": "d1gT9hKswGLe",
    "outputId": "c63d91fe-a2fa-422e-8789-67f2f8219308"
   },
   "outputs": [
    {
     "data": {
      "text/plain": [
       "0      0\n",
       "1      0\n",
       "2      1\n",
       "3      0\n",
       "4      0\n",
       "      ..\n",
       "495    1\n",
       "496    0\n",
       "497    0\n",
       "498    0\n",
       "499    1\n",
       "Name: retweet, Length: 500, dtype: int64"
      ]
     },
     "execution_count": 101,
     "metadata": {
      "tags": []
     },
     "output_type": "execute_result"
    }
   ],
   "source": [
    "dados.retweet"
   ]
  },
  {
   "cell_type": "markdown",
   "metadata": {
    "colab_type": "text",
    "id": "PN-AlkHynQJ9"
   },
   "source": [
    "Exemplo 2:"
   ]
  },
  {
   "cell_type": "code",
   "execution_count": 102,
   "metadata": {
    "colab": {
     "base_uri": "https://localhost:8080/",
     "height": 221
    },
    "colab_type": "code",
    "id": "bXjvwtsRwKhD",
    "outputId": "6b31ad3e-9aaa-45f4-86cc-a500fd8d819e"
   },
   "outputs": [
    {
     "data": {
      "text/plain": [
       "0      0.0\n",
       "1      0.0\n",
       "2      1.0\n",
       "3      0.0\n",
       "4      0.0\n",
       "      ... \n",
       "495    1.0\n",
       "496    0.0\n",
       "497    0.0\n",
       "498    0.0\n",
       "499    1.0\n",
       "Name: retweet, Length: 500, dtype: float64"
      ]
     },
     "execution_count": 102,
     "metadata": {
      "tags": []
     },
     "output_type": "execute_result"
    }
   ],
   "source": [
    "dados.retweet.astype('float64')"
   ]
  },
  {
   "cell_type": "markdown",
   "metadata": {
    "colab_type": "text",
    "id": "kvCgVBURw7e3"
   },
   "source": [
    "### Seria possível converter uma coluna para qualquer outro tipo de dados?"
   ]
  },
  {
   "cell_type": "code",
   "execution_count": 104,
   "metadata": {
    "colab": {
     "base_uri": "https://localhost:8080/",
     "height": 323
    },
    "colab_type": "code",
    "id": "avknbHNawkuI",
    "outputId": "94827194-f275-474b-8b82-94e58e21c82b"
   },
   "outputs": [
    {
     "ename": "ValueError",
     "evalue": "ignored",
     "output_type": "error",
     "traceback": [
      "\u001b[0;31m---------------------------------------------------------------------------\u001b[0m",
      "\u001b[0;31mValueError\u001b[0m                                Traceback (most recent call last)",
      "\u001b[0;32m<ipython-input-104-ec41f8a3569e>\u001b[0m in \u001b[0;36m<module>\u001b[0;34m()\u001b[0m\n\u001b[0;32m----> 1\u001b[0;31m \u001b[0mdados\u001b[0m\u001b[0;34m.\u001b[0m\u001b[0msigla\u001b[0m\u001b[0;34m.\u001b[0m\u001b[0mastype\u001b[0m\u001b[0;34m(\u001b[0m\u001b[0;34m'float64'\u001b[0m\u001b[0;34m)\u001b[0m\u001b[0;34m\u001b[0m\u001b[0;34m\u001b[0m\u001b[0m\n\u001b[0m",
      "\u001b[0;32m/usr/local/lib/python3.6/dist-packages/pandas/core/generic.py\u001b[0m in \u001b[0;36mastype\u001b[0;34m(self, dtype, copy, errors)\u001b[0m\n\u001b[1;32m   5696\u001b[0m         \u001b[0;32melse\u001b[0m\u001b[0;34m:\u001b[0m\u001b[0;34m\u001b[0m\u001b[0;34m\u001b[0m\u001b[0m\n\u001b[1;32m   5697\u001b[0m             \u001b[0;31m# else, only a single dtype is given\u001b[0m\u001b[0;34m\u001b[0m\u001b[0;34m\u001b[0m\u001b[0;34m\u001b[0m\u001b[0m\n\u001b[0;32m-> 5698\u001b[0;31m             \u001b[0mnew_data\u001b[0m \u001b[0;34m=\u001b[0m \u001b[0mself\u001b[0m\u001b[0;34m.\u001b[0m\u001b[0m_data\u001b[0m\u001b[0;34m.\u001b[0m\u001b[0mastype\u001b[0m\u001b[0;34m(\u001b[0m\u001b[0mdtype\u001b[0m\u001b[0;34m=\u001b[0m\u001b[0mdtype\u001b[0m\u001b[0;34m,\u001b[0m \u001b[0mcopy\u001b[0m\u001b[0;34m=\u001b[0m\u001b[0mcopy\u001b[0m\u001b[0;34m,\u001b[0m \u001b[0merrors\u001b[0m\u001b[0;34m=\u001b[0m\u001b[0merrors\u001b[0m\u001b[0;34m)\u001b[0m\u001b[0;34m\u001b[0m\u001b[0;34m\u001b[0m\u001b[0m\n\u001b[0m\u001b[1;32m   5699\u001b[0m             \u001b[0;32mreturn\u001b[0m \u001b[0mself\u001b[0m\u001b[0;34m.\u001b[0m\u001b[0m_constructor\u001b[0m\u001b[0;34m(\u001b[0m\u001b[0mnew_data\u001b[0m\u001b[0;34m)\u001b[0m\u001b[0;34m.\u001b[0m\u001b[0m__finalize__\u001b[0m\u001b[0;34m(\u001b[0m\u001b[0mself\u001b[0m\u001b[0;34m)\u001b[0m\u001b[0;34m\u001b[0m\u001b[0;34m\u001b[0m\u001b[0m\n\u001b[1;32m   5700\u001b[0m \u001b[0;34m\u001b[0m\u001b[0m\n",
      "\u001b[0;32m/usr/local/lib/python3.6/dist-packages/pandas/core/internals/managers.py\u001b[0m in \u001b[0;36mastype\u001b[0;34m(self, dtype, copy, errors)\u001b[0m\n\u001b[1;32m    580\u001b[0m \u001b[0;34m\u001b[0m\u001b[0m\n\u001b[1;32m    581\u001b[0m     \u001b[0;32mdef\u001b[0m \u001b[0mastype\u001b[0m\u001b[0;34m(\u001b[0m\u001b[0mself\u001b[0m\u001b[0;34m,\u001b[0m \u001b[0mdtype\u001b[0m\u001b[0;34m,\u001b[0m \u001b[0mcopy\u001b[0m\u001b[0;34m:\u001b[0m \u001b[0mbool\u001b[0m \u001b[0;34m=\u001b[0m \u001b[0;32mFalse\u001b[0m\u001b[0;34m,\u001b[0m \u001b[0merrors\u001b[0m\u001b[0;34m:\u001b[0m \u001b[0mstr\u001b[0m \u001b[0;34m=\u001b[0m \u001b[0;34m\"raise\"\u001b[0m\u001b[0;34m)\u001b[0m\u001b[0;34m:\u001b[0m\u001b[0;34m\u001b[0m\u001b[0;34m\u001b[0m\u001b[0m\n\u001b[0;32m--> 582\u001b[0;31m         \u001b[0;32mreturn\u001b[0m \u001b[0mself\u001b[0m\u001b[0;34m.\u001b[0m\u001b[0mapply\u001b[0m\u001b[0;34m(\u001b[0m\u001b[0;34m\"astype\"\u001b[0m\u001b[0;34m,\u001b[0m \u001b[0mdtype\u001b[0m\u001b[0;34m=\u001b[0m\u001b[0mdtype\u001b[0m\u001b[0;34m,\u001b[0m \u001b[0mcopy\u001b[0m\u001b[0;34m=\u001b[0m\u001b[0mcopy\u001b[0m\u001b[0;34m,\u001b[0m \u001b[0merrors\u001b[0m\u001b[0;34m=\u001b[0m\u001b[0merrors\u001b[0m\u001b[0;34m)\u001b[0m\u001b[0;34m\u001b[0m\u001b[0;34m\u001b[0m\u001b[0m\n\u001b[0m\u001b[1;32m    583\u001b[0m \u001b[0;34m\u001b[0m\u001b[0m\n\u001b[1;32m    584\u001b[0m     \u001b[0;32mdef\u001b[0m \u001b[0mconvert\u001b[0m\u001b[0;34m(\u001b[0m\u001b[0mself\u001b[0m\u001b[0;34m,\u001b[0m \u001b[0;34m**\u001b[0m\u001b[0mkwargs\u001b[0m\u001b[0;34m)\u001b[0m\u001b[0;34m:\u001b[0m\u001b[0;34m\u001b[0m\u001b[0;34m\u001b[0m\u001b[0m\n",
      "\u001b[0;32m/usr/local/lib/python3.6/dist-packages/pandas/core/internals/managers.py\u001b[0m in \u001b[0;36mapply\u001b[0;34m(self, f, filter, **kwargs)\u001b[0m\n\u001b[1;32m    440\u001b[0m                 \u001b[0mapplied\u001b[0m \u001b[0;34m=\u001b[0m \u001b[0mb\u001b[0m\u001b[0;34m.\u001b[0m\u001b[0mapply\u001b[0m\u001b[0;34m(\u001b[0m\u001b[0mf\u001b[0m\u001b[0;34m,\u001b[0m \u001b[0;34m**\u001b[0m\u001b[0mkwargs\u001b[0m\u001b[0;34m)\u001b[0m\u001b[0;34m\u001b[0m\u001b[0;34m\u001b[0m\u001b[0m\n\u001b[1;32m    441\u001b[0m             \u001b[0;32melse\u001b[0m\u001b[0;34m:\u001b[0m\u001b[0;34m\u001b[0m\u001b[0;34m\u001b[0m\u001b[0m\n\u001b[0;32m--> 442\u001b[0;31m                 \u001b[0mapplied\u001b[0m \u001b[0;34m=\u001b[0m \u001b[0mgetattr\u001b[0m\u001b[0;34m(\u001b[0m\u001b[0mb\u001b[0m\u001b[0;34m,\u001b[0m \u001b[0mf\u001b[0m\u001b[0;34m)\u001b[0m\u001b[0;34m(\u001b[0m\u001b[0;34m**\u001b[0m\u001b[0mkwargs\u001b[0m\u001b[0;34m)\u001b[0m\u001b[0;34m\u001b[0m\u001b[0;34m\u001b[0m\u001b[0m\n\u001b[0m\u001b[1;32m    443\u001b[0m             \u001b[0mresult_blocks\u001b[0m \u001b[0;34m=\u001b[0m \u001b[0m_extend_blocks\u001b[0m\u001b[0;34m(\u001b[0m\u001b[0mapplied\u001b[0m\u001b[0;34m,\u001b[0m \u001b[0mresult_blocks\u001b[0m\u001b[0;34m)\u001b[0m\u001b[0;34m\u001b[0m\u001b[0;34m\u001b[0m\u001b[0m\n\u001b[1;32m    444\u001b[0m \u001b[0;34m\u001b[0m\u001b[0m\n",
      "\u001b[0;32m/usr/local/lib/python3.6/dist-packages/pandas/core/internals/blocks.py\u001b[0m in \u001b[0;36mastype\u001b[0;34m(self, dtype, copy, errors)\u001b[0m\n\u001b[1;32m    623\u001b[0m             \u001b[0mvals1d\u001b[0m \u001b[0;34m=\u001b[0m \u001b[0mvalues\u001b[0m\u001b[0;34m.\u001b[0m\u001b[0mravel\u001b[0m\u001b[0;34m(\u001b[0m\u001b[0;34m)\u001b[0m\u001b[0;34m\u001b[0m\u001b[0;34m\u001b[0m\u001b[0m\n\u001b[1;32m    624\u001b[0m             \u001b[0;32mtry\u001b[0m\u001b[0;34m:\u001b[0m\u001b[0;34m\u001b[0m\u001b[0;34m\u001b[0m\u001b[0m\n\u001b[0;32m--> 625\u001b[0;31m                 \u001b[0mvalues\u001b[0m \u001b[0;34m=\u001b[0m \u001b[0mastype_nansafe\u001b[0m\u001b[0;34m(\u001b[0m\u001b[0mvals1d\u001b[0m\u001b[0;34m,\u001b[0m \u001b[0mdtype\u001b[0m\u001b[0;34m,\u001b[0m \u001b[0mcopy\u001b[0m\u001b[0;34m=\u001b[0m\u001b[0;32mTrue\u001b[0m\u001b[0;34m)\u001b[0m\u001b[0;34m\u001b[0m\u001b[0;34m\u001b[0m\u001b[0m\n\u001b[0m\u001b[1;32m    626\u001b[0m             \u001b[0;32mexcept\u001b[0m \u001b[0;34m(\u001b[0m\u001b[0mValueError\u001b[0m\u001b[0;34m,\u001b[0m \u001b[0mTypeError\u001b[0m\u001b[0;34m)\u001b[0m\u001b[0;34m:\u001b[0m\u001b[0;34m\u001b[0m\u001b[0;34m\u001b[0m\u001b[0m\n\u001b[1;32m    627\u001b[0m                 \u001b[0;31m# e.g. astype_nansafe can fail on object-dtype of strings\u001b[0m\u001b[0;34m\u001b[0m\u001b[0;34m\u001b[0m\u001b[0;34m\u001b[0m\u001b[0m\n",
      "\u001b[0;32m/usr/local/lib/python3.6/dist-packages/pandas/core/dtypes/cast.py\u001b[0m in \u001b[0;36mastype_nansafe\u001b[0;34m(arr, dtype, copy, skipna)\u001b[0m\n\u001b[1;32m    895\u001b[0m     \u001b[0;32mif\u001b[0m \u001b[0mcopy\u001b[0m \u001b[0;32mor\u001b[0m \u001b[0mis_object_dtype\u001b[0m\u001b[0;34m(\u001b[0m\u001b[0marr\u001b[0m\u001b[0;34m)\u001b[0m \u001b[0;32mor\u001b[0m \u001b[0mis_object_dtype\u001b[0m\u001b[0;34m(\u001b[0m\u001b[0mdtype\u001b[0m\u001b[0;34m)\u001b[0m\u001b[0;34m:\u001b[0m\u001b[0;34m\u001b[0m\u001b[0;34m\u001b[0m\u001b[0m\n\u001b[1;32m    896\u001b[0m         \u001b[0;31m# Explicit copy, or required since NumPy can't view from / to object.\u001b[0m\u001b[0;34m\u001b[0m\u001b[0;34m\u001b[0m\u001b[0;34m\u001b[0m\u001b[0m\n\u001b[0;32m--> 897\u001b[0;31m         \u001b[0;32mreturn\u001b[0m \u001b[0marr\u001b[0m\u001b[0;34m.\u001b[0m\u001b[0mastype\u001b[0m\u001b[0;34m(\u001b[0m\u001b[0mdtype\u001b[0m\u001b[0;34m,\u001b[0m \u001b[0mcopy\u001b[0m\u001b[0;34m=\u001b[0m\u001b[0;32mTrue\u001b[0m\u001b[0;34m)\u001b[0m\u001b[0;34m\u001b[0m\u001b[0;34m\u001b[0m\u001b[0m\n\u001b[0m\u001b[1;32m    898\u001b[0m \u001b[0;34m\u001b[0m\u001b[0m\n\u001b[1;32m    899\u001b[0m     \u001b[0;32mreturn\u001b[0m \u001b[0marr\u001b[0m\u001b[0;34m.\u001b[0m\u001b[0mview\u001b[0m\u001b[0;34m(\u001b[0m\u001b[0mdtype\u001b[0m\u001b[0;34m)\u001b[0m\u001b[0;34m\u001b[0m\u001b[0;34m\u001b[0m\u001b[0m\n",
      "\u001b[0;31mValueError\u001b[0m: could not convert string to float: 'BR'"
     ]
    }
   ],
   "source": [
    "dados.sigla.astype('float64')"
   ]
  },
  {
   "cell_type": "markdown",
   "metadata": {
    "colab_type": "text",
    "id": "ap3tFHSmns1P"
   },
   "source": [
    "### Resumo dos tipos em Pandas:"
   ]
  },
  {
   "cell_type": "markdown",
   "metadata": {
    "colab_type": "text",
    "id": "Aq1KxlLTon0a"
   },
   "source": [
    "![](https://drive.google.com/uc?export=view&id=1l2SH97T_0Lu7VIInFzkc31HUbSep37g6)"
   ]
  },
  {
   "cell_type": "markdown",
   "metadata": {
    "colab_type": "text",
    "id": "MZfqRb_NxXdG"
   },
   "source": [
    "### Lidando com dados ausentes"
   ]
  },
  {
   "cell_type": "markdown",
   "metadata": {
    "colab_type": "text",
    "id": "Qwuogd6Rx8Hh"
   },
   "source": [
    "Regras gerais:\n",
    "\n",
    "*   Os dados ausentes são presentados pelo valor `NaN` que representa Not a Number.\n",
    "*   Por razões técnicas, os valores `NaN` são sempre do tipo `float64`.\n",
    "*   Pandas possui alguns métodos específicos para lidar com dados ausentes."
   ]
  },
  {
   "cell_type": "markdown",
   "metadata": {
    "colab_type": "text",
    "id": "KC5yERWwzOdP"
   },
   "source": [
    "### O comando `pd.isnull()` é utilizado para selecionar as entradas ausentes\n"
   ]
  },
  {
   "cell_type": "code",
   "execution_count": 106,
   "metadata": {
    "colab": {
     "base_uri": "https://localhost:8080/",
     "height": 97
    },
    "colab_type": "code",
    "id": "Gf09OWktytIV",
    "outputId": "6b2fde4b-d6c0-480a-bda8-1ceef9a90e0c"
   },
   "outputs": [
    {
     "data": {
      "text/html": [
       "<div>\n",
       "<style scoped>\n",
       "    .dataframe tbody tr th:only-of-type {\n",
       "        vertical-align: middle;\n",
       "    }\n",
       "\n",
       "    .dataframe tbody tr th {\n",
       "        vertical-align: top;\n",
       "    }\n",
       "\n",
       "    .dataframe thead th {\n",
       "        text-align: right;\n",
       "    }\n",
       "</style>\n",
       "<table border=\"1\" class=\"dataframe\">\n",
       "  <thead>\n",
       "    <tr style=\"text-align: right;\">\n",
       "      <th></th>\n",
       "      <th>data</th>\n",
       "      <th>texto</th>\n",
       "      <th>retweet</th>\n",
       "      <th>idioma</th>\n",
       "      <th>lugar</th>\n",
       "      <th>pais</th>\n",
       "      <th>sigla</th>\n",
       "      <th>latitude</th>\n",
       "      <th>longitude</th>\n",
       "    </tr>\n",
       "  </thead>\n",
       "  <tbody>\n",
       "    <tr>\n",
       "      <th>399</th>\n",
       "      <td>2020-03-19 12:30:16</td>\n",
       "      <td>Meu #tbt de isolamento social 🏕🌵 #namibia #afr...</td>\n",
       "      <td>0</td>\n",
       "      <td>pt</td>\n",
       "      <td>Namibia</td>\n",
       "      <td>Namibia</td>\n",
       "      <td>NaN</td>\n",
       "      <td>17.0</td>\n",
       "      <td>-23.0</td>\n",
       "    </tr>\n",
       "  </tbody>\n",
       "</table>\n",
       "</div>"
      ],
      "text/plain": [
       "                    data  ... longitude\n",
       "399  2020-03-19 12:30:16  ...     -23.0\n",
       "\n",
       "[1 rows x 9 columns]"
      ]
     },
     "execution_count": 106,
     "metadata": {
      "tags": []
     },
     "output_type": "execute_result"
    }
   ],
   "source": [
    "dados[pd.isnull(dados.sigla)]"
   ]
  },
  {
   "cell_type": "markdown",
   "metadata": {
    "colab_type": "text",
    "id": "vbxpZzCLz31J"
   },
   "source": [
    "### Substituição de valores ausentes\n",
    "\n",
    "### A função `fillna()` é usada para substituir valores ausentes"
   ]
  },
  {
   "cell_type": "code",
   "execution_count": 107,
   "metadata": {
    "colab": {
     "base_uri": "https://localhost:8080/",
     "height": 221
    },
    "colab_type": "code",
    "id": "YRMHftBc0LH6",
    "outputId": "a729d44a-104f-423a-85dc-2083a7e51f24"
   },
   "outputs": [
    {
     "data": {
      "text/plain": [
       "0      BR\n",
       "1      BR\n",
       "2      PT\n",
       "3      BR\n",
       "4      BR\n",
       "       ..\n",
       "495    BR\n",
       "496    BR\n",
       "497    CA\n",
       "498    BR\n",
       "499    PT\n",
       "Name: sigla, Length: 500, dtype: object"
      ]
     },
     "execution_count": 107,
     "metadata": {
      "tags": []
     },
     "output_type": "execute_result"
    }
   ],
   "source": [
    "dados.sigla.fillna(\"PADRAO\")"
   ]
  },
  {
   "cell_type": "markdown",
   "metadata": {
    "colab_type": "text",
    "id": "fcUA4oPq1SkX"
   },
   "source": [
    "### É possível ainda fazer a substituição de um valor específico por outro através do comando `replace`"
   ]
  },
  {
   "cell_type": "code",
   "execution_count": 108,
   "metadata": {
    "colab": {
     "base_uri": "https://localhost:8080/",
     "height": 221
    },
    "colab_type": "code",
    "id": "tWwGDI441C-k",
    "outputId": "9a409411-02b1-4895-a140-732c70261b7b"
   },
   "outputs": [
    {
     "data": {
      "text/plain": [
       "0      BZ\n",
       "1      BZ\n",
       "2      PT\n",
       "3      BZ\n",
       "4      BZ\n",
       "       ..\n",
       "495    BZ\n",
       "496    BZ\n",
       "497    CA\n",
       "498    BZ\n",
       "499    PT\n",
       "Name: sigla, Length: 500, dtype: object"
      ]
     },
     "execution_count": 108,
     "metadata": {
      "tags": []
     },
     "output_type": "execute_result"
    }
   ],
   "source": [
    "dados.sigla.replace('BR', 'BZ')"
   ]
  },
  {
   "cell_type": "markdown",
   "metadata": {
    "colab_type": "text",
    "id": "AMUR6bjg2ErV"
   },
   "source": [
    "# Formatação dos dados"
   ]
  },
  {
   "cell_type": "markdown",
   "metadata": {
    "colab_type": "text",
    "id": "yUFwPfJo2x5G"
   },
   "source": [
    "### Regras gerais:\n",
    "\n",
    "*   É comum ocorrer a situação onde os dados não estão com nomes apropriados.\n",
    "*   Neste caso, podemos usar um conjunto de funções de Pandas para formatar `DataFrame` ou `Series`."
   ]
  },
  {
   "cell_type": "markdown",
   "metadata": {
    "colab_type": "text",
    "id": "Vkj26tyW3Xzv"
   },
   "source": [
    "### É possível renomear as colunas e índices através do comando `rename()`"
   ]
  },
  {
   "cell_type": "code",
   "execution_count": 109,
   "metadata": {
    "cellView": "both",
    "colab": {
     "base_uri": "https://localhost:8080/",
     "height": 589
    },
    "colab_type": "code",
    "id": "nosjwRUq3aGF",
    "outputId": "0da3fbef-333f-4ea4-99fc-828e8f1d013e"
   },
   "outputs": [
    {
     "data": {
      "text/html": [
       "<div>\n",
       "<style scoped>\n",
       "    .dataframe tbody tr th:only-of-type {\n",
       "        vertical-align: middle;\n",
       "    }\n",
       "\n",
       "    .dataframe tbody tr th {\n",
       "        vertical-align: top;\n",
       "    }\n",
       "\n",
       "    .dataframe thead th {\n",
       "        text-align: right;\n",
       "    }\n",
       "</style>\n",
       "<table border=\"1\" class=\"dataframe\">\n",
       "  <thead>\n",
       "    <tr style=\"text-align: right;\">\n",
       "      <th></th>\n",
       "      <th>data</th>\n",
       "      <th>texto</th>\n",
       "      <th>retweet</th>\n",
       "      <th>idioma</th>\n",
       "      <th>lugar</th>\n",
       "      <th>pais</th>\n",
       "      <th>codigo</th>\n",
       "      <th>latitude</th>\n",
       "      <th>longitude</th>\n",
       "    </tr>\n",
       "  </thead>\n",
       "  <tbody>\n",
       "    <tr>\n",
       "      <th>0</th>\n",
       "      <td>2020-05-23 00:21:14</td>\n",
       "      <td>Para voltar tudo ao normal, você precisa fazer...</td>\n",
       "      <td>0</td>\n",
       "      <td>pt</td>\n",
       "      <td>Rio das Ostras</td>\n",
       "      <td>Brazil</td>\n",
       "      <td>BR</td>\n",
       "      <td>-41.937900</td>\n",
       "      <td>-22.522600</td>\n",
       "    </tr>\n",
       "    <tr>\n",
       "      <th>1</th>\n",
       "      <td>2020-03-22 22:57:51</td>\n",
       "      <td>14.245 – O que é a hidroxicloroquina? https://...</td>\n",
       "      <td>0</td>\n",
       "      <td>pt</td>\n",
       "      <td>Sao Paulo</td>\n",
       "      <td>Brazil</td>\n",
       "      <td>BR</td>\n",
       "      <td>-46.674739</td>\n",
       "      <td>-23.606067</td>\n",
       "    </tr>\n",
       "    <tr>\n",
       "      <th>2</th>\n",
       "      <td>2020-04-14 00:11:33</td>\n",
       "      <td>Quarta morte em Lar de Estarreja associada à C...</td>\n",
       "      <td>1</td>\n",
       "      <td>pt</td>\n",
       "      <td>Lisbon</td>\n",
       "      <td>Portugal</td>\n",
       "      <td>PT</td>\n",
       "      <td>-9.099043</td>\n",
       "      <td>38.747518</td>\n",
       "    </tr>\n",
       "    <tr>\n",
       "      <th>3</th>\n",
       "      <td>2020-05-25 20:45:43</td>\n",
       "      <td>COVID-19 |  Hospital municipal Tide Setúbal, n...</td>\n",
       "      <td>0</td>\n",
       "      <td>pt</td>\n",
       "      <td>Sao Paulo</td>\n",
       "      <td>Brazil</td>\n",
       "      <td>BR</td>\n",
       "      <td>-46.633300</td>\n",
       "      <td>-23.550000</td>\n",
       "    </tr>\n",
       "    <tr>\n",
       "      <th>4</th>\n",
       "      <td>2020-04-15 10:34:39</td>\n",
       "      <td>#cenasdocotidiano #santos #distanciamentosocia...</td>\n",
       "      <td>0</td>\n",
       "      <td>pt</td>\n",
       "      <td>Santos</td>\n",
       "      <td>Brazil</td>\n",
       "      <td>BR</td>\n",
       "      <td>-46.293700</td>\n",
       "      <td>-23.975947</td>\n",
       "    </tr>\n",
       "    <tr>\n",
       "      <th>...</th>\n",
       "      <td>...</td>\n",
       "      <td>...</td>\n",
       "      <td>...</td>\n",
       "      <td>...</td>\n",
       "      <td>...</td>\n",
       "      <td>...</td>\n",
       "      <td>...</td>\n",
       "      <td>...</td>\n",
       "      <td>...</td>\n",
       "    </tr>\n",
       "    <tr>\n",
       "      <th>495</th>\n",
       "      <td>2020-04-07 16:14:13</td>\n",
       "      <td>O isolamento social também serve para mostrar ...</td>\n",
       "      <td>1</td>\n",
       "      <td>pt</td>\n",
       "      <td>Rio Branco</td>\n",
       "      <td>Brazil</td>\n",
       "      <td>BR</td>\n",
       "      <td>-67.859657</td>\n",
       "      <td>-9.932246</td>\n",
       "    </tr>\n",
       "    <tr>\n",
       "      <th>496</th>\n",
       "      <td>2020-03-26 18:02:28</td>\n",
       "      <td>Enquanto o mundo está atento ao covid 19 é o B...</td>\n",
       "      <td>0</td>\n",
       "      <td>pt</td>\n",
       "      <td>Rio de Janeiro</td>\n",
       "      <td>Brazil</td>\n",
       "      <td>BR</td>\n",
       "      <td>-43.358100</td>\n",
       "      <td>-22.942800</td>\n",
       "    </tr>\n",
       "    <tr>\n",
       "      <th>497</th>\n",
       "      <td>2020-03-18 05:28:16</td>\n",
       "      <td>#covid_19 #stayhome @ Toronto, Ontario https:/...</td>\n",
       "      <td>0</td>\n",
       "      <td>pt</td>\n",
       "      <td>Toronto</td>\n",
       "      <td>Canada</td>\n",
       "      <td>CA</td>\n",
       "      <td>-79.387200</td>\n",
       "      <td>43.648000</td>\n",
       "    </tr>\n",
       "    <tr>\n",
       "      <th>498</th>\n",
       "      <td>2020-03-03 21:27:11</td>\n",
       "      <td>Um vira-lata sem Coronavirus #joeviralata #dog...</td>\n",
       "      <td>0</td>\n",
       "      <td>pt</td>\n",
       "      <td>Sao Paulo</td>\n",
       "      <td>Brazil</td>\n",
       "      <td>BR</td>\n",
       "      <td>-46.633300</td>\n",
       "      <td>-23.550000</td>\n",
       "    </tr>\n",
       "    <tr>\n",
       "      <th>499</th>\n",
       "      <td>2020-01-21 13:18:03</td>\n",
       "      <td>Portugal já está a preparar-se para responder ...</td>\n",
       "      <td>1</td>\n",
       "      <td>pt</td>\n",
       "      <td>Lisbon</td>\n",
       "      <td>Portugal</td>\n",
       "      <td>PT</td>\n",
       "      <td>-9.099043</td>\n",
       "      <td>38.747518</td>\n",
       "    </tr>\n",
       "  </tbody>\n",
       "</table>\n",
       "<p>500 rows × 9 columns</p>\n",
       "</div>"
      ],
      "text/plain": [
       "                    data  ...  longitude\n",
       "0    2020-05-23 00:21:14  ... -22.522600\n",
       "1    2020-03-22 22:57:51  ... -23.606067\n",
       "2    2020-04-14 00:11:33  ...  38.747518\n",
       "3    2020-05-25 20:45:43  ... -23.550000\n",
       "4    2020-04-15 10:34:39  ... -23.975947\n",
       "..                   ...  ...        ...\n",
       "495  2020-04-07 16:14:13  ...  -9.932246\n",
       "496  2020-03-26 18:02:28  ... -22.942800\n",
       "497  2020-03-18 05:28:16  ...  43.648000\n",
       "498  2020-03-03 21:27:11  ... -23.550000\n",
       "499  2020-01-21 13:18:03  ...  38.747518\n",
       "\n",
       "[500 rows x 9 columns]"
      ]
     },
     "execution_count": 109,
     "metadata": {
      "tags": []
     },
     "output_type": "execute_result"
    }
   ],
   "source": [
    "#@title\n",
    "dados.rename(columns={'sigla': 'codigo'})"
   ]
  },
  {
   "cell_type": "markdown",
   "metadata": {
    "colab_type": "text",
    "id": "OeQKZ3JcMcY2"
   },
   "source": [
    "# Plotar Mapas"
   ]
  },
  {
   "cell_type": "markdown",
   "metadata": {
    "colab_type": "text",
    "id": "QoY16iOFN9om"
   },
   "source": [
    "### Projeto GeoPandas\n",
    "\n",
    "*   Projeto código aberto para lidar com dados espaciais em Python.\n",
    "*   Versão atual é a 0.8.0.\n",
    "*   Permite a realização de operações espaciais."
   ]
  },
  {
   "cell_type": "markdown",
   "metadata": {
    "colab_type": "text",
    "id": "rbSLG4heMupm"
   },
   "source": [
    "### Instalar a biblioteca"
   ]
  },
  {
   "cell_type": "code",
   "execution_count": 110,
   "metadata": {
    "colab": {
     "base_uri": "https://localhost:8080/",
     "height": 496
    },
    "colab_type": "code",
    "id": "CQ-_i9JNMil9",
    "outputId": "c2f4e95f-dc67-4595-978e-ca90bb03a4bc"
   },
   "outputs": [
    {
     "name": "stdout",
     "output_type": "stream",
     "text": [
      "Collecting geopandas\n",
      "\u001b[?25l  Downloading https://files.pythonhosted.org/packages/f7/a4/e66aafbefcbb717813bf3a355c8c4fc3ed04ea1dd7feb2920f2f4f868921/geopandas-0.8.1-py2.py3-none-any.whl (962kB)\n",
      "\u001b[K     |████████████████████████████████| 972kB 2.8MB/s \n",
      "\u001b[?25hCollecting fiona\n",
      "\u001b[?25l  Downloading https://files.pythonhosted.org/packages/35/72/7de5a2179b75242c69a97ef62b8b569197253e3ff85fe70ade62936608fe/Fiona-1.8.14-cp36-cp36m-manylinux1_x86_64.whl (14.7MB)\n",
      "\u001b[K     |████████████████████████████████| 14.8MB 301kB/s \n",
      "\u001b[?25hRequirement already satisfied: pandas>=0.23.0 in /usr/local/lib/python3.6/dist-packages (from geopandas) (1.0.5)\n",
      "Collecting pyproj>=2.2.0\n",
      "\u001b[?25l  Downloading https://files.pythonhosted.org/packages/e5/c3/071e080230ac4b6c64f1a2e2f9161c9737a2bc7b683d2c90b024825000c0/pyproj-2.6.1.post1-cp36-cp36m-manylinux2010_x86_64.whl (10.9MB)\n",
      "\u001b[K     |████████████████████████████████| 10.9MB 50.0MB/s \n",
      "\u001b[?25hRequirement already satisfied: shapely in /usr/local/lib/python3.6/dist-packages (from geopandas) (1.7.1)\n",
      "Requirement already satisfied: attrs>=17 in /usr/local/lib/python3.6/dist-packages (from fiona->geopandas) (20.1.0)\n",
      "\u001b[33mWARNING: Retrying (Retry(total=4, connect=None, read=None, redirect=None, status=None)) after connection broken by 'ProtocolError('Connection aborted.', ConnectionResetError(104, 'Connection reset by peer'))': /simple/cligj/\u001b[0m\n",
      "Collecting cligj>=0.5\n",
      "\u001b[33m  WARNING: Retrying (Retry(total=4, connect=None, read=None, redirect=None, status=None)) after connection broken by 'ProtocolError('Connection aborted.', ConnectionResetError(104, 'Connection reset by peer'))': /packages/e4/be/30a58b4b0733850280d01f8bd132591b4668ed5c7046761098d665ac2174/cligj-0.5.0-py3-none-any.whl\u001b[0m\n",
      "  Downloading https://files.pythonhosted.org/packages/e4/be/30a58b4b0733850280d01f8bd132591b4668ed5c7046761098d665ac2174/cligj-0.5.0-py3-none-any.whl\n",
      "Requirement already satisfied: click<8,>=4.0 in /usr/local/lib/python3.6/dist-packages (from fiona->geopandas) (7.1.2)\n",
      "Requirement already satisfied: six>=1.7 in /usr/local/lib/python3.6/dist-packages (from fiona->geopandas) (1.15.0)\n",
      "Collecting munch\n",
      "  Downloading https://files.pythonhosted.org/packages/cc/ab/85d8da5c9a45e072301beb37ad7f833cd344e04c817d97e0cc75681d248f/munch-2.5.0-py2.py3-none-any.whl\n",
      "Collecting click-plugins>=1.0\n",
      "  Downloading https://files.pythonhosted.org/packages/e9/da/824b92d9942f4e472702488857914bdd50f73021efea15b4cad9aca8ecef/click_plugins-1.1.1-py2.py3-none-any.whl\n",
      "Requirement already satisfied: pytz>=2017.2 in /usr/local/lib/python3.6/dist-packages (from pandas>=0.23.0->geopandas) (2018.9)\n",
      "Requirement already satisfied: python-dateutil>=2.6.1 in /usr/local/lib/python3.6/dist-packages (from pandas>=0.23.0->geopandas) (2.8.1)\n",
      "Requirement already satisfied: numpy>=1.13.3 in /usr/local/lib/python3.6/dist-packages (from pandas>=0.23.0->geopandas) (1.18.5)\n",
      "Installing collected packages: cligj, munch, click-plugins, fiona, pyproj, geopandas\n",
      "Successfully installed click-plugins-1.1.1 cligj-0.5.0 fiona-1.8.14 geopandas-0.8.1 munch-2.5.0 pyproj-2.6.1.post1\n"
     ]
    }
   ],
   "source": [
    "!pip install geopandas"
   ]
  },
  {
   "cell_type": "markdown",
   "metadata": {
    "colab_type": "text",
    "id": "FmS4QcZYNPfx"
   },
   "source": [
    "### Importar as bibliotecas"
   ]
  },
  {
   "cell_type": "code",
   "execution_count": 111,
   "metadata": {
    "colab": {},
    "colab_type": "code",
    "id": "Q3xWCWlyNSam"
   },
   "outputs": [],
   "source": [
    "from shapely.geometry import Point\n",
    "import geopandas as gpd\n",
    "from geopandas import GeoDataFrame"
   ]
  },
  {
   "cell_type": "markdown",
   "metadata": {
    "colab_type": "text",
    "id": "daNVJpEJMxat"
   },
   "source": [
    "### Carregar o arquivo com os dados"
   ]
  },
  {
   "cell_type": "code",
   "execution_count": 112,
   "metadata": {
    "colab": {},
    "colab_type": "code",
    "id": "Vhydj7j7M038"
   },
   "outputs": [],
   "source": [
    "dados = pd.read_csv(\"http://tiagodemelo.info/datasets/dados-curso.csv\")"
   ]
  },
  {
   "cell_type": "code",
   "execution_count": 113,
   "metadata": {
    "colab": {
     "base_uri": "https://localhost:8080/",
     "height": 289
    },
    "colab_type": "code",
    "id": "0TZO6kZOM7HB",
    "outputId": "08a37321-2044-4751-e937-c3d5fd824a5b"
   },
   "outputs": [
    {
     "data": {
      "text/html": [
       "<div>\n",
       "<style scoped>\n",
       "    .dataframe tbody tr th:only-of-type {\n",
       "        vertical-align: middle;\n",
       "    }\n",
       "\n",
       "    .dataframe tbody tr th {\n",
       "        vertical-align: top;\n",
       "    }\n",
       "\n",
       "    .dataframe thead th {\n",
       "        text-align: right;\n",
       "    }\n",
       "</style>\n",
       "<table border=\"1\" class=\"dataframe\">\n",
       "  <thead>\n",
       "    <tr style=\"text-align: right;\">\n",
       "      <th></th>\n",
       "      <th>data</th>\n",
       "      <th>texto</th>\n",
       "      <th>retweet</th>\n",
       "      <th>idioma</th>\n",
       "      <th>lugar</th>\n",
       "      <th>pais</th>\n",
       "      <th>sigla</th>\n",
       "      <th>latitude</th>\n",
       "      <th>longitude</th>\n",
       "    </tr>\n",
       "  </thead>\n",
       "  <tbody>\n",
       "    <tr>\n",
       "      <th>0</th>\n",
       "      <td>2020-05-23 00:21:14</td>\n",
       "      <td>Para voltar tudo ao normal, você precisa fazer...</td>\n",
       "      <td>0</td>\n",
       "      <td>pt</td>\n",
       "      <td>Rio das Ostras</td>\n",
       "      <td>Brazil</td>\n",
       "      <td>BR</td>\n",
       "      <td>-41.937900</td>\n",
       "      <td>-22.522600</td>\n",
       "    </tr>\n",
       "    <tr>\n",
       "      <th>1</th>\n",
       "      <td>2020-03-22 22:57:51</td>\n",
       "      <td>14.245 – O que é a hidroxicloroquina? https://...</td>\n",
       "      <td>0</td>\n",
       "      <td>pt</td>\n",
       "      <td>Sao Paulo</td>\n",
       "      <td>Brazil</td>\n",
       "      <td>BR</td>\n",
       "      <td>-46.674739</td>\n",
       "      <td>-23.606067</td>\n",
       "    </tr>\n",
       "    <tr>\n",
       "      <th>2</th>\n",
       "      <td>2020-04-14 00:11:33</td>\n",
       "      <td>Quarta morte em Lar de Estarreja associada à C...</td>\n",
       "      <td>1</td>\n",
       "      <td>pt</td>\n",
       "      <td>Lisbon</td>\n",
       "      <td>Portugal</td>\n",
       "      <td>PT</td>\n",
       "      <td>-9.099043</td>\n",
       "      <td>38.747518</td>\n",
       "    </tr>\n",
       "    <tr>\n",
       "      <th>3</th>\n",
       "      <td>2020-05-25 20:45:43</td>\n",
       "      <td>COVID-19 |  Hospital municipal Tide Setúbal, n...</td>\n",
       "      <td>0</td>\n",
       "      <td>pt</td>\n",
       "      <td>Sao Paulo</td>\n",
       "      <td>Brazil</td>\n",
       "      <td>BR</td>\n",
       "      <td>-46.633300</td>\n",
       "      <td>-23.550000</td>\n",
       "    </tr>\n",
       "    <tr>\n",
       "      <th>4</th>\n",
       "      <td>2020-04-15 10:34:39</td>\n",
       "      <td>#cenasdocotidiano #santos #distanciamentosocia...</td>\n",
       "      <td>0</td>\n",
       "      <td>pt</td>\n",
       "      <td>Santos</td>\n",
       "      <td>Brazil</td>\n",
       "      <td>BR</td>\n",
       "      <td>-46.293700</td>\n",
       "      <td>-23.975947</td>\n",
       "    </tr>\n",
       "  </tbody>\n",
       "</table>\n",
       "</div>"
      ],
      "text/plain": [
       "                  data  ...  longitude\n",
       "0  2020-05-23 00:21:14  ... -22.522600\n",
       "1  2020-03-22 22:57:51  ... -23.606067\n",
       "2  2020-04-14 00:11:33  ...  38.747518\n",
       "3  2020-05-25 20:45:43  ... -23.550000\n",
       "4  2020-04-15 10:34:39  ... -23.975947\n",
       "\n",
       "[5 rows x 9 columns]"
      ]
     },
     "execution_count": 113,
     "metadata": {
      "tags": []
     },
     "output_type": "execute_result"
    }
   ],
   "source": [
    "dados.head()"
   ]
  },
  {
   "cell_type": "markdown",
   "metadata": {
    "colab_type": "text",
    "id": "pP7RtLcwNCGr"
   },
   "source": [
    "### Plotar a posição dos usuários no mapa"
   ]
  },
  {
   "cell_type": "code",
   "execution_count": 118,
   "metadata": {
    "colab": {
     "base_uri": "https://localhost:8080/",
     "height": 317
    },
    "colab_type": "code",
    "id": "URZXqSpRNFwd",
    "outputId": "e78869db-36e5-4088-c8fd-91fd88397229"
   },
   "outputs": [
    {
     "data": {
      "image/png": "[encoded data removed]",
      "text/plain": [
       "<Figure size 720x720 with 1 Axes>"
      ]
     },
     "metadata": {
      "needs_background": "light",
      "tags": []
     },
     "output_type": "display_data"
    }
   ],
   "source": [
    "geometry = [Point(xy) for xy in zip(dados['latitude'], dados['longitude'])]\n",
    "gdf = GeoDataFrame(dados, geometry=geometry)   \n",
    "\n",
    "world = gpd.read_file(gpd.datasets.get_path('naturalearth_lowres'))\n",
    "gdf.plot(ax=world.plot(figsize=(10, 10)), marker='o', color='red', markersize=5);"
   ]
  },
  {
   "cell_type": "markdown",
   "metadata": {
    "colab_type": "text",
    "id": "d-Gu92rtEJ1K"
   },
   "source": [
    "#Visualização dos Dados"
   ]
  },
  {
   "cell_type": "markdown",
   "metadata": {
    "colab_type": "text",
    "id": "7vqG0-TAERyD"
   },
   "source": [
    "##MatPlotLib"
   ]
  },
  {
   "cell_type": "code",
   "execution_count": 119,
   "metadata": {
    "colab": {},
    "colab_type": "code",
    "id": "GxAtiyI1FBUf"
   },
   "outputs": [],
   "source": [
    "import pandas as pd\n",
    "\n",
    "df = pd.DataFrame({\n",
    "    'nome':['João','Maria','Pedro','José','Lucas','Luíza','Francisco'],\n",
    "    'idade':[23,78,22,19,45,33,20],\n",
    "    'genero':['M','F','M','M','M','F','M'],\n",
    "    'estado':['Amazonas','Pará','Amazonas','Pará','Amazonas','Ceará','Ceará'],\n",
    "    'num_filhos':[2,0,0,3,2,1,4],\n",
    "    'num_animais':[5,1,0,5,2,2,3]\n",
    "})"
   ]
  },
  {
   "cell_type": "code",
   "execution_count": 123,
   "metadata": {
    "colab": {
     "base_uri": "https://localhost:8080/",
     "height": 731
    },
    "colab_type": "code",
    "id": "Zp2VPEL-g1-m",
    "outputId": "ed16354c-9cdf-4fb5-d98e-60a16e73c1c5"
   },
   "outputs": [
    {
     "ename": "KeyError",
     "evalue": "ignored",
     "output_type": "error",
     "traceback": [
      "\u001b[0;31m---------------------------------------------------------------------------\u001b[0m",
      "\u001b[0;31mKeyError\u001b[0m                                  Traceback (most recent call last)",
      "\u001b[0;32m/usr/local/lib/python3.6/dist-packages/pandas/core/indexes/base.py\u001b[0m in \u001b[0;36mget_loc\u001b[0;34m(self, key, method, tolerance)\u001b[0m\n\u001b[1;32m   2645\u001b[0m             \u001b[0;32mtry\u001b[0m\u001b[0;34m:\u001b[0m\u001b[0;34m\u001b[0m\u001b[0;34m\u001b[0m\u001b[0m\n\u001b[0;32m-> 2646\u001b[0;31m                 \u001b[0;32mreturn\u001b[0m \u001b[0mself\u001b[0m\u001b[0;34m.\u001b[0m\u001b[0m_engine\u001b[0m\u001b[0;34m.\u001b[0m\u001b[0mget_loc\u001b[0m\u001b[0;34m(\u001b[0m\u001b[0mkey\u001b[0m\u001b[0;34m)\u001b[0m\u001b[0;34m\u001b[0m\u001b[0;34m\u001b[0m\u001b[0m\n\u001b[0m\u001b[1;32m   2647\u001b[0m             \u001b[0;32mexcept\u001b[0m \u001b[0mKeyError\u001b[0m\u001b[0;34m:\u001b[0m\u001b[0;34m\u001b[0m\u001b[0;34m\u001b[0m\u001b[0m\n",
      "\u001b[0;32mpandas/_libs/index.pyx\u001b[0m in \u001b[0;36mpandas._libs.index.IndexEngine.get_loc\u001b[0;34m()\u001b[0m\n",
      "\u001b[0;32mpandas/_libs/index.pyx\u001b[0m in \u001b[0;36mpandas._libs.index.IndexEngine.get_loc\u001b[0;34m()\u001b[0m\n",
      "\u001b[0;32mpandas/_libs/hashtable_class_helper.pxi\u001b[0m in \u001b[0;36mpandas._libs.hashtable.PyObjectHashTable.get_item\u001b[0;34m()\u001b[0m\n",
      "\u001b[0;32mpandas/_libs/hashtable_class_helper.pxi\u001b[0m in \u001b[0;36mpandas._libs.hashtable.PyObjectHashTable.get_item\u001b[0;34m()\u001b[0m\n",
      "\u001b[0;31mKeyError\u001b[0m: -5",
      "\nDuring handling of the above exception, another exception occurred:\n",
      "\u001b[0;31mKeyError\u001b[0m                                  Traceback (most recent call last)",
      "\u001b[0;32m<ipython-input-123-8c080a2cb3ff>\u001b[0m in \u001b[0;36m<module>\u001b[0;34m()\u001b[0m\n\u001b[0;32m----> 1\u001b[0;31m \u001b[0mdf\u001b[0m\u001b[0;34m[\u001b[0m\u001b[0;34m-\u001b[0m\u001b[0;36m5\u001b[0m\u001b[0;34m]\u001b[0m\u001b[0;34m\u001b[0m\u001b[0;34m\u001b[0m\u001b[0m\n\u001b[0m",
      "\u001b[0;32m/usr/local/lib/python3.6/dist-packages/pandas/core/frame.py\u001b[0m in \u001b[0;36m__getitem__\u001b[0;34m(self, key)\u001b[0m\n\u001b[1;32m   2798\u001b[0m             \u001b[0;32mif\u001b[0m \u001b[0mself\u001b[0m\u001b[0;34m.\u001b[0m\u001b[0mcolumns\u001b[0m\u001b[0;34m.\u001b[0m\u001b[0mnlevels\u001b[0m \u001b[0;34m>\u001b[0m \u001b[0;36m1\u001b[0m\u001b[0;34m:\u001b[0m\u001b[0;34m\u001b[0m\u001b[0;34m\u001b[0m\u001b[0m\n\u001b[1;32m   2799\u001b[0m                 \u001b[0;32mreturn\u001b[0m \u001b[0mself\u001b[0m\u001b[0;34m.\u001b[0m\u001b[0m_getitem_multilevel\u001b[0m\u001b[0;34m(\u001b[0m\u001b[0mkey\u001b[0m\u001b[0;34m)\u001b[0m\u001b[0;34m\u001b[0m\u001b[0;34m\u001b[0m\u001b[0m\n\u001b[0;32m-> 2800\u001b[0;31m             \u001b[0mindexer\u001b[0m \u001b[0;34m=\u001b[0m \u001b[0mself\u001b[0m\u001b[0;34m.\u001b[0m\u001b[0mcolumns\u001b[0m\u001b[0;34m.\u001b[0m\u001b[0mget_loc\u001b[0m\u001b[0;34m(\u001b[0m\u001b[0mkey\u001b[0m\u001b[0;34m)\u001b[0m\u001b[0;34m\u001b[0m\u001b[0;34m\u001b[0m\u001b[0m\n\u001b[0m\u001b[1;32m   2801\u001b[0m             \u001b[0;32mif\u001b[0m \u001b[0mis_integer\u001b[0m\u001b[0;34m(\u001b[0m\u001b[0mindexer\u001b[0m\u001b[0;34m)\u001b[0m\u001b[0;34m:\u001b[0m\u001b[0;34m\u001b[0m\u001b[0;34m\u001b[0m\u001b[0m\n\u001b[1;32m   2802\u001b[0m                 \u001b[0mindexer\u001b[0m \u001b[0;34m=\u001b[0m \u001b[0;34m[\u001b[0m\u001b[0mindexer\u001b[0m\u001b[0;34m]\u001b[0m\u001b[0;34m\u001b[0m\u001b[0;34m\u001b[0m\u001b[0m\n",
      "\u001b[0;32m/usr/local/lib/python3.6/dist-packages/pandas/core/indexes/base.py\u001b[0m in \u001b[0;36mget_loc\u001b[0;34m(self, key, method, tolerance)\u001b[0m\n\u001b[1;32m   2646\u001b[0m                 \u001b[0;32mreturn\u001b[0m \u001b[0mself\u001b[0m\u001b[0;34m.\u001b[0m\u001b[0m_engine\u001b[0m\u001b[0;34m.\u001b[0m\u001b[0mget_loc\u001b[0m\u001b[0;34m(\u001b[0m\u001b[0mkey\u001b[0m\u001b[0;34m)\u001b[0m\u001b[0;34m\u001b[0m\u001b[0;34m\u001b[0m\u001b[0m\n\u001b[1;32m   2647\u001b[0m             \u001b[0;32mexcept\u001b[0m \u001b[0mKeyError\u001b[0m\u001b[0;34m:\u001b[0m\u001b[0;34m\u001b[0m\u001b[0;34m\u001b[0m\u001b[0m\n\u001b[0;32m-> 2648\u001b[0;31m                 \u001b[0;32mreturn\u001b[0m \u001b[0mself\u001b[0m\u001b[0;34m.\u001b[0m\u001b[0m_engine\u001b[0m\u001b[0;34m.\u001b[0m\u001b[0mget_loc\u001b[0m\u001b[0;34m(\u001b[0m\u001b[0mself\u001b[0m\u001b[0;34m.\u001b[0m\u001b[0m_maybe_cast_indexer\u001b[0m\u001b[0;34m(\u001b[0m\u001b[0mkey\u001b[0m\u001b[0;34m)\u001b[0m\u001b[0;34m)\u001b[0m\u001b[0;34m\u001b[0m\u001b[0;34m\u001b[0m\u001b[0m\n\u001b[0m\u001b[1;32m   2649\u001b[0m         \u001b[0mindexer\u001b[0m \u001b[0;34m=\u001b[0m \u001b[0mself\u001b[0m\u001b[0;34m.\u001b[0m\u001b[0mget_indexer\u001b[0m\u001b[0;34m(\u001b[0m\u001b[0;34m[\u001b[0m\u001b[0mkey\u001b[0m\u001b[0;34m]\u001b[0m\u001b[0;34m,\u001b[0m \u001b[0mmethod\u001b[0m\u001b[0;34m=\u001b[0m\u001b[0mmethod\u001b[0m\u001b[0;34m,\u001b[0m \u001b[0mtolerance\u001b[0m\u001b[0;34m=\u001b[0m\u001b[0mtolerance\u001b[0m\u001b[0;34m)\u001b[0m\u001b[0;34m\u001b[0m\u001b[0;34m\u001b[0m\u001b[0m\n\u001b[1;32m   2650\u001b[0m         \u001b[0;32mif\u001b[0m \u001b[0mindexer\u001b[0m\u001b[0;34m.\u001b[0m\u001b[0mndim\u001b[0m \u001b[0;34m>\u001b[0m \u001b[0;36m1\u001b[0m \u001b[0;32mor\u001b[0m \u001b[0mindexer\u001b[0m\u001b[0;34m.\u001b[0m\u001b[0msize\u001b[0m \u001b[0;34m>\u001b[0m \u001b[0;36m1\u001b[0m\u001b[0;34m:\u001b[0m\u001b[0;34m\u001b[0m\u001b[0;34m\u001b[0m\u001b[0m\n",
      "\u001b[0;32mpandas/_libs/index.pyx\u001b[0m in \u001b[0;36mpandas._libs.index.IndexEngine.get_loc\u001b[0;34m()\u001b[0m\n",
      "\u001b[0;32mpandas/_libs/index.pyx\u001b[0m in \u001b[0;36mpandas._libs.index.IndexEngine.get_loc\u001b[0;34m()\u001b[0m\n",
      "\u001b[0;32mpandas/_libs/hashtable_class_helper.pxi\u001b[0m in \u001b[0;36mpandas._libs.hashtable.PyObjectHashTable.get_item\u001b[0;34m()\u001b[0m\n",
      "\u001b[0;32mpandas/_libs/hashtable_class_helper.pxi\u001b[0m in \u001b[0;36mpandas._libs.hashtable.PyObjectHashTable.get_item\u001b[0;34m()\u001b[0m\n",
      "\u001b[0;31mKeyError\u001b[0m: -5"
     ]
    }
   ],
   "source": [
    "df[-5]"
   ]
  },
  {
   "cell_type": "code",
   "execution_count": 120,
   "metadata": {
    "colab": {
     "base_uri": "https://localhost:8080/",
     "height": 204
    },
    "colab_type": "code",
    "id": "HmDcBLtSsQBx",
    "outputId": "6e1227d1-543e-4a13-dda0-394b33897847"
   },
   "outputs": [
    {
     "data": {
      "text/html": [
       "<div>\n",
       "<style scoped>\n",
       "    .dataframe tbody tr th:only-of-type {\n",
       "        vertical-align: middle;\n",
       "    }\n",
       "\n",
       "    .dataframe tbody tr th {\n",
       "        vertical-align: top;\n",
       "    }\n",
       "\n",
       "    .dataframe thead th {\n",
       "        text-align: right;\n",
       "    }\n",
       "</style>\n",
       "<table border=\"1\" class=\"dataframe\">\n",
       "  <thead>\n",
       "    <tr style=\"text-align: right;\">\n",
       "      <th></th>\n",
       "      <th>nome</th>\n",
       "      <th>idade</th>\n",
       "      <th>genero</th>\n",
       "      <th>estado</th>\n",
       "      <th>num_filhos</th>\n",
       "      <th>num_animais</th>\n",
       "    </tr>\n",
       "  </thead>\n",
       "  <tbody>\n",
       "    <tr>\n",
       "      <th>0</th>\n",
       "      <td>João</td>\n",
       "      <td>23</td>\n",
       "      <td>M</td>\n",
       "      <td>Amazonas</td>\n",
       "      <td>2</td>\n",
       "      <td>5</td>\n",
       "    </tr>\n",
       "    <tr>\n",
       "      <th>1</th>\n",
       "      <td>Maria</td>\n",
       "      <td>78</td>\n",
       "      <td>F</td>\n",
       "      <td>Pará</td>\n",
       "      <td>0</td>\n",
       "      <td>1</td>\n",
       "    </tr>\n",
       "    <tr>\n",
       "      <th>2</th>\n",
       "      <td>Pedro</td>\n",
       "      <td>22</td>\n",
       "      <td>M</td>\n",
       "      <td>Amazonas</td>\n",
       "      <td>0</td>\n",
       "      <td>0</td>\n",
       "    </tr>\n",
       "    <tr>\n",
       "      <th>3</th>\n",
       "      <td>José</td>\n",
       "      <td>19</td>\n",
       "      <td>M</td>\n",
       "      <td>Pará</td>\n",
       "      <td>3</td>\n",
       "      <td>5</td>\n",
       "    </tr>\n",
       "    <tr>\n",
       "      <th>4</th>\n",
       "      <td>Lucas</td>\n",
       "      <td>45</td>\n",
       "      <td>M</td>\n",
       "      <td>Amazonas</td>\n",
       "      <td>2</td>\n",
       "      <td>2</td>\n",
       "    </tr>\n",
       "  </tbody>\n",
       "</table>\n",
       "</div>"
      ],
      "text/plain": [
       "    nome  idade genero    estado  num_filhos  num_animais\n",
       "0   João     23      M  Amazonas           2            5\n",
       "1  Maria     78      F      Pará           0            1\n",
       "2  Pedro     22      M  Amazonas           0            0\n",
       "3   José     19      M      Pará           3            5\n",
       "4  Lucas     45      M  Amazonas           2            2"
      ]
     },
     "execution_count": 120,
     "metadata": {
      "tags": []
     },
     "output_type": "execute_result"
    }
   ],
   "source": [
    "df.head()"
   ]
  },
  {
   "cell_type": "markdown",
   "metadata": {
    "colab_type": "text",
    "id": "1gp40EI8Mvdq"
   },
   "source": [
    "### Scatter Plot"
   ]
  },
  {
   "cell_type": "markdown",
   "metadata": {
    "colab_type": "text",
    "id": "2kZD0eJBI9Lv"
   },
   "source": [
    "É o gráfico de dispersão."
   ]
  },
  {
   "cell_type": "markdown",
   "metadata": {
    "colab_type": "text",
    "id": "K7a-wGhUJBRL"
   },
   "source": [
    "Exemplo 1:"
   ]
  },
  {
   "cell_type": "code",
   "execution_count": 124,
   "metadata": {
    "colab": {
     "base_uri": "https://localhost:8080/",
     "height": 280
    },
    "colab_type": "code",
    "id": "RL_SbOcXMxNA",
    "outputId": "38c3eead-ff2f-4b4d-ef55-f96c680cfecb"
   },
   "outputs": [
    {
     "data": {
      "image/png": "[encoded data removed]",
      "text/plain": [
       "<Figure size 432x288 with 1 Axes>"
      ]
     },
     "metadata": {
      "needs_background": "light",
      "tags": []
     },
     "output_type": "display_data"
    }
   ],
   "source": [
    "import matplotlib.pyplot as plt\n",
    "import pandas as pd\n",
    "\n",
    "df.plot(kind='scatter', x='num_filhos',y='num_animais')\n",
    "plt.show()"
   ]
  },
  {
   "cell_type": "markdown",
   "metadata": {
    "colab_type": "text",
    "id": "YHiC1nOvH3Gl"
   },
   "source": [
    "### Configurações diversas dos gráficos"
   ]
  },
  {
   "cell_type": "markdown",
   "metadata": {
    "colab_type": "text",
    "id": "0vjUEKIbIKKI"
   },
   "source": [
    "##### Cores\n",
    "\n",
    "\n",
    "*   O atributo `color` ou `c` é usado para definir as cores.\n",
    "*   As cores estão em inglês.\n",
    "*   [Lista completa de cores](https://matplotlib.org/3.1.0/gallery/color/named_colors.html)\n",
    "\n"
   ]
  },
  {
   "cell_type": "markdown",
   "metadata": {
    "colab_type": "text",
    "id": "Yy4i0a-KJVOF"
   },
   "source": [
    "##### Transparência\n",
    "\n",
    "\n",
    "*   O atributo `alpha` define a transparência dos objetos.\n",
    "\n"
   ]
  },
  {
   "cell_type": "markdown",
   "metadata": {
    "colab_type": "text",
    "id": "7vg3JBD-K5PY"
   },
   "source": [
    "##### Marcadores\n",
    "\n",
    "\n",
    "*   É possível alterar o marcador através do atributo `marker`.\n",
    "*   [Lista completa de marcadores](https://matplotlib.org/api/markers_api.html)\n",
    "*   É possível também alterar o tamanho do marcador através do atributo `s`.\n",
    "\n"
   ]
  },
  {
   "cell_type": "markdown",
   "metadata": {
    "colab_type": "text",
    "id": "ul0rkJ8WJ0EK"
   },
   "source": [
    "##### Rótulos (labels) dos eixos\n",
    "\n",
    "\n",
    "*   O comando `xlabel` é usado para renomear o eixo X do gráfico.\n",
    "*   O comando `ylabel` é usado para renomear o eixo Y do gráfico.\n",
    "*   Esses comandos permitem alterar o tamanho da fonte através do atributo `fontsize`.\n",
    "\n"
   ]
  },
  {
   "cell_type": "markdown",
   "metadata": {
    "colab_type": "text",
    "id": "4JjUAKo5JG_A"
   },
   "source": [
    "Exemplo 2:"
   ]
  },
  {
   "cell_type": "code",
   "execution_count": 126,
   "metadata": {
    "colab": {
     "base_uri": "https://localhost:8080/",
     "height": 282
    },
    "colab_type": "code",
    "id": "sYL4hoZUJIUc",
    "outputId": "727ca5e8-70a4-40c1-da6a-95c85b1a10b7"
   },
   "outputs": [
    {
     "data": {
      "image/png": "[encoded data removed]",
      "text/plain": [
       "<Figure size 432x288 with 1 Axes>"
      ]
     },
     "metadata": {
      "needs_background": "light",
      "tags": []
     },
     "output_type": "display_data"
    }
   ],
   "source": [
    "import matplotlib.pyplot as plt\n",
    "import pandas as pd\n",
    "\n",
    "df.plot(kind='scatter', x='num_filhos', y='num_animais', color='red', alpha=0.8, marker='*', s=90)\n",
    "plt.xlabel('Número de Filhos', fontsize=12)\n",
    "plt.ylabel('Número de Animais', fontsize=16)\n",
    "plt.show()"
   ]
  },
  {
   "cell_type": "markdown",
   "metadata": {
    "colab_type": "text",
    "id": "kFl_Dyi8NAPj"
   },
   "source": [
    "### Bar Plot"
   ]
  },
  {
   "cell_type": "markdown",
   "metadata": {
    "colab_type": "text",
    "id": "_fUZlfsDMJ0p"
   },
   "source": [
    "É o gráfico de barras."
   ]
  },
  {
   "cell_type": "markdown",
   "metadata": {
    "colab_type": "text",
    "id": "HxCPmDI-MOha"
   },
   "source": [
    "Exemplo 1:"
   ]
  },
  {
   "cell_type": "code",
   "execution_count": 129,
   "metadata": {
    "colab": {
     "base_uri": "https://localhost:8080/",
     "height": 282
    },
    "colab_type": "code",
    "id": "qcPzmCoLNEkg",
    "outputId": "1678a8df-a4bf-4d8f-e92d-38bb0be17970"
   },
   "outputs": [
    {
     "data": {
      "text/plain": [
       "<matplotlib.axes._subplots.AxesSubplot at 0x7f2b3cd9c940>"
      ]
     },
     "execution_count": 129,
     "metadata": {
      "tags": []
     },
     "output_type": "execute_result"
    },
    {
     "data": {
      "image/png": "[encoded data removed]",
      "text/plain": [
       "<Figure size 432x288 with 1 Axes>"
      ]
     },
     "metadata": {
      "needs_background": "light",
      "tags": []
     },
     "output_type": "display_data"
    }
   ],
   "source": [
    "df.plot(kind='kde',x='nome',y='idade')"
   ]
  },
  {
   "cell_type": "markdown",
   "metadata": {
    "colab_type": "text",
    "id": "KhuWvHxeM42g"
   },
   "source": [
    "##### Outras configurações:\n",
    "\n",
    "*   É possível usar os mesmos atributos do gráfico anterior.\n",
    "*   O atributo `label` permite renomear a legenda.\n",
    "*   O atributo `loc` permite mudar a posição da legenda no gráfico.\n",
    "*   [Lista completa com os posicionamentos da legenda.](https://matplotlib.org/api/_as_gen/matplotlib.pyplot.legend.html)\n",
    "\n"
   ]
  },
  {
   "cell_type": "markdown",
   "metadata": {
    "colab_type": "text",
    "id": "LmLrme9OMTDZ"
   },
   "source": [
    "Exemplo 2:"
   ]
  },
  {
   "cell_type": "code",
   "execution_count": null,
   "metadata": {
    "colab": {},
    "colab_type": "code",
    "id": "3I7ZPfKzMVMj"
   },
   "outputs": [],
   "source": [
    "df.plot(kind='bar', x='nome', y='idade', color = 'red', label='Age')\n",
    "plt.legend(loc='upper left')"
   ]
  },
  {
   "cell_type": "markdown",
   "metadata": {
    "colab_type": "text",
    "id": "wCN1KaQbNgTG"
   },
   "source": [
    "### Line Plot"
   ]
  },
  {
   "cell_type": "markdown",
   "metadata": {
    "colab_type": "text",
    "id": "tN5walicNKdM"
   },
   "source": [
    "É o gráfico de linhas."
   ]
  },
  {
   "cell_type": "markdown",
   "metadata": {
    "colab_type": "text",
    "id": "bxkQ5Hh8NNmT"
   },
   "source": [
    "Exemplo 1:"
   ]
  },
  {
   "cell_type": "code",
   "execution_count": 130,
   "metadata": {
    "colab": {
     "base_uri": "https://localhost:8080/",
     "height": 280
    },
    "colab_type": "code",
    "id": "MW2cjb0XNhle",
    "outputId": "9bb1c088-390e-4c65-9a97-c95b87102f34"
   },
   "outputs": [
    {
     "data": {
      "image/png": "[encoded data removed]",
      "text/plain": [
       "<Figure size 432x288 with 1 Axes>"
      ]
     },
     "metadata": {
      "needs_background": "light",
      "tags": []
     },
     "output_type": "display_data"
    }
   ],
   "source": [
    "# gca stands for 'get current axis'\n",
    "ax = plt.gca()\n",
    "\n",
    "df.plot(kind='line',x='nome',y='num_filhos',ax=ax)\n",
    "df.plot(kind='line',x='nome',y='num_animais', color='red', ax=ax)\n",
    "\n",
    "plt.show()"
   ]
  },
  {
   "cell_type": "markdown",
   "metadata": {
    "colab_type": "text",
    "id": "bbdWjWSPObia"
   },
   "source": [
    "### Gráfico de barras agrupado"
   ]
  },
  {
   "cell_type": "markdown",
   "metadata": {
    "colab_type": "text",
    "id": "YD0FIqsjPDt_"
   },
   "source": [
    "É possível agrupar os dados no gráfico de barras."
   ]
  },
  {
   "cell_type": "markdown",
   "metadata": {
    "colab_type": "text",
    "id": "W0V_4AhWPHow"
   },
   "source": [
    "Exemplo 1:"
   ]
  },
  {
   "cell_type": "code",
   "execution_count": null,
   "metadata": {
    "colab": {},
    "colab_type": "code",
    "id": "gwj0cMqFOeHj"
   },
   "outputs": [],
   "source": [
    "df.groupby('estado')['nome'].nunique().plot(kind='bar')\n",
    "plt.show()"
   ]
  },
  {
   "cell_type": "markdown",
   "metadata": {
    "colab_type": "text",
    "id": "oiuaBGOoQFA5"
   },
   "source": [
    "### Pie (gráfico de pizza)"
   ]
  },
  {
   "cell_type": "markdown",
   "metadata": {
    "colab_type": "text",
    "id": "xR_bj243PLhW"
   },
   "source": [
    "É o gráfico de pizza."
   ]
  },
  {
   "cell_type": "code",
   "execution_count": 131,
   "metadata": {
    "colab": {
     "base_uri": "https://localhost:8080/",
     "height": 265
    },
    "colab_type": "code",
    "id": "4VQjx4ZuPf36",
    "outputId": "ea6160d3-c9a1-4c5a-c064-c36aa0bb72a7"
   },
   "outputs": [
    {
     "data": {
      "text/plain": [
       "<matplotlib.axes._subplots.AxesSubplot at 0x7f2b3cd9c8d0>"
      ]
     },
     "execution_count": 131,
     "metadata": {
      "tags": []
     },
     "output_type": "execute_result"
    },
    {
     "data": {
      "image/png": "[encoded data removed]",
      "text/plain": [
       "<Figure size 432x288 with 1 Axes>"
      ]
     },
     "metadata": {
      "tags": []
     },
     "output_type": "display_data"
    }
   ],
   "source": [
    "df.plot.pie(y='num_animais')"
   ]
  },
  {
   "cell_type": "markdown",
   "metadata": {
    "colab_type": "text",
    "id": "liSLFH0YOExo"
   },
   "source": [
    "### Salvar o arquivo\n",
    "\n",
    "Usar o comando `plt.savefig(<nome do arquivo>)`"
   ]
  },
  {
   "cell_type": "code",
   "execution_count": 134,
   "metadata": {
    "colab": {
     "base_uri": "https://localhost:8080/",
     "height": 265
    },
    "colab_type": "code",
    "id": "lrPI9XqTORca",
    "outputId": "c44207a8-2ea3-45d0-c5d4-77c7334e6433"
   },
   "outputs": [
    {
     "data": {
      "image/png": "[encoded data removed]",
      "text/plain": [
       "<Figure size 432x288 with 1 Axes>"
      ]
     },
     "metadata": {
      "needs_background": "light",
      "tags": []
     },
     "output_type": "display_data"
    }
   ],
   "source": [
    "df.plot(kind='barh', x='nome', y='idade')\n",
    "plt.savefig('grafico2.png')"
   ]
  },
  {
   "cell_type": "code",
   "execution_count": null,
   "metadata": {
    "colab": {},
    "colab_type": "code",
    "id": "eAT7vUGlh3Oy"
   },
   "outputs": [],
   "source": [
    "df.plot(kind='bar', x='nome', y='idade')\n",
    "plt.savefig('grafico.png')"
   ]
  }
 ],
 "metadata": {
  "colab": {
   "include_colab_link": true,
   "name": "tutorial-pandas.ipynb",
   "provenance": [],
   "toc_visible": true
  },
  "kernelspec": {
   "display_name": "Python 3",
   "language": "python",
   "name": "python3"
  },
  "language_info": {
   "codemirror_mode": {
    "name": "ipython",
    "version": 3
   },
   "file_extension": ".py",
   "mimetype": "text/x-python",
   "name": "python",
   "nbconvert_exporter": "python",
   "pygments_lexer": "ipython3",
   "version": "3.8.3"
  }
 },
 "nbformat": 4,
 "nbformat_minor": 4
}
